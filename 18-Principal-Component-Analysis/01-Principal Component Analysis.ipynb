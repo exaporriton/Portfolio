{
 "cells": [
  {
   "cell_type": "markdown",
   "metadata": {},
   "source": [
    "___\n",
    "\n",
    "<a href='http://www.pieriandata.com'> <img src='../Pierian_Data_Logo.png' /></a>\n",
    "___"
   ]
  },
  {
   "cell_type": "markdown",
   "metadata": {},
   "source": [
    "# Principal Component Analysis\n",
    "\n",
    "Let's discuss PCA! Since this isn't exactly a full machine learning algorithm, but instead an unsupervised learning algorithm, we will just have a lecture on this topic, but no full machine learning project (although we will walk through the cancer set with PCA).\n",
    "\n",
    "## PCA Review\n",
    "\n",
    "Make sure to watch the video lecture and theory presentation for a full overview of PCA! \n",
    "Remember that PCA is just a transformation of your data and attempts to find out what features explain the most variance in your data. For example:"
   ]
  },
  {
   "cell_type": "markdown",
   "metadata": {},
   "source": [
    "<img src='PCA.png' />"
   ]
  },
  {
   "cell_type": "markdown",
   "metadata": {},
   "source": [
    "## Libraries"
   ]
  },
  {
   "cell_type": "code",
   "execution_count": 1,
   "metadata": {
    "collapsed": true
   },
   "outputs": [],
   "source": [
    "import matplotlib.pyplot as plt\n",
    "import pandas as pd\n",
    "import numpy as np\n",
    "import seaborn as sns\n",
    "%matplotlib inline"
   ]
  },
  {
   "cell_type": "markdown",
   "metadata": {},
   "source": [
    "## The Data\n",
    "\n",
    "Let's work with the cancer data set again since it had so many features."
   ]
  },
  {
   "cell_type": "code",
   "execution_count": 2,
   "metadata": {
    "collapsed": true
   },
   "outputs": [],
   "source": [
    "from sklearn.datasets import load_breast_cancer"
   ]
  },
  {
   "cell_type": "code",
   "execution_count": 3,
   "metadata": {
    "collapsed": true
   },
   "outputs": [],
   "source": [
    "cancer = load_breast_cancer()"
   ]
  },
  {
   "cell_type": "code",
   "execution_count": 4,
   "metadata": {
    "collapsed": false
   },
   "outputs": [
    {
     "data": {
      "text/plain": [
       "dict_keys(['data', 'target', 'frame', 'target_names', 'DESCR', 'feature_names', 'filename', 'data_module'])"
      ]
     },
     "execution_count": 4,
     "metadata": {},
     "output_type": "execute_result"
    }
   ],
   "source": [
    "cancer.keys()"
   ]
  },
  {
   "cell_type": "code",
   "execution_count": 25,
   "metadata": {
    "collapsed": false
   },
   "outputs": [
    {
     "name": "stdout",
     "output_type": "stream",
     "text": [
      "Breast Cancer Wisconsin (Diagnostic) Database\n",
      "\n",
      "Notes\n",
      "-----\n",
      "Data Set Characteristics:\n",
      "    :Number of Instances: 569\n",
      "\n",
      "    :Number of Attributes: 30 numeric, predictive attributes and the class\n",
      "\n",
      "    :Attribute Information:\n",
      "        - radius (mean of distances from center to points on the perimeter)\n",
      "        - texture (standard deviation of gray-scale values)\n",
      "        - perimeter\n",
      "        - area\n",
      "        - smoothness (local variation in radius lengths)\n",
      "        - compactness (perimeter^2 / area - 1.0)\n",
      "        - concavity (severity of concave portions of the contour)\n",
      "        - concave points (number of concave portions of the contour)\n",
      "        - symmetry \n",
      "        - fractal dimension (\"coastline approximation\" - 1)\n",
      "        \n",
      "        The mean, standard error, and \"worst\" or largest (mean of the three\n",
      "        largest values) of these features were computed for each image,\n",
      "        resulting in 30 features.  For instance, field 3 is Mean Radius, field\n",
      "        13 is Radius SE, field 23 is Worst Radius.\n",
      "        \n",
      "        - class:\n",
      "                - WDBC-Malignant\n",
      "                - WDBC-Benign\n",
      "\n",
      "    :Summary Statistics:\n",
      "\n",
      "    ===================================== ======= ========\n",
      "                                           Min     Max\n",
      "    ===================================== ======= ========\n",
      "    radius (mean):                         6.981   28.11\n",
      "    texture (mean):                        9.71    39.28\n",
      "    perimeter (mean):                      43.79   188.5\n",
      "    area (mean):                           143.5   2501.0\n",
      "    smoothness (mean):                     0.053   0.163\n",
      "    compactness (mean):                    0.019   0.345\n",
      "    concavity (mean):                      0.0     0.427\n",
      "    concave points (mean):                 0.0     0.201\n",
      "    symmetry (mean):                       0.106   0.304\n",
      "    fractal dimension (mean):              0.05    0.097\n",
      "    radius (standard error):               0.112   2.873\n",
      "    texture (standard error):              0.36    4.885\n",
      "    perimeter (standard error):            0.757   21.98\n",
      "    area (standard error):                 6.802   542.2\n",
      "    smoothness (standard error):           0.002   0.031\n",
      "    compactness (standard error):          0.002   0.135\n",
      "    concavity (standard error):            0.0     0.396\n",
      "    concave points (standard error):       0.0     0.053\n",
      "    symmetry (standard error):             0.008   0.079\n",
      "    fractal dimension (standard error):    0.001   0.03\n",
      "    radius (worst):                        7.93    36.04\n",
      "    texture (worst):                       12.02   49.54\n",
      "    perimeter (worst):                     50.41   251.2\n",
      "    area (worst):                          185.2   4254.0\n",
      "    smoothness (worst):                    0.071   0.223\n",
      "    compactness (worst):                   0.027   1.058\n",
      "    concavity (worst):                     0.0     1.252\n",
      "    concave points (worst):                0.0     0.291\n",
      "    symmetry (worst):                      0.156   0.664\n",
      "    fractal dimension (worst):             0.055   0.208\n",
      "    ===================================== ======= ========\n",
      "\n",
      "    :Missing Attribute Values: None\n",
      "\n",
      "    :Class Distribution: 212 - Malignant, 357 - Benign\n",
      "\n",
      "    :Creator:  Dr. William H. Wolberg, W. Nick Street, Olvi L. Mangasarian\n",
      "\n",
      "    :Donor: Nick Street\n",
      "\n",
      "    :Date: November, 1995\n",
      "\n",
      "This is a copy of UCI ML Breast Cancer Wisconsin (Diagnostic) datasets.\n",
      "https://goo.gl/U2Uwz2\n",
      "\n",
      "Features are computed from a digitized image of a fine needle\n",
      "aspirate (FNA) of a breast mass.  They describe\n",
      "characteristics of the cell nuclei present in the image.\n",
      "A few of the images can be found at\n",
      "http://www.cs.wisc.edu/~street/images/\n",
      "\n",
      "Separating plane described above was obtained using\n",
      "Multisurface Method-Tree (MSM-T) [K. P. Bennett, \"Decision Tree\n",
      "Construction Via Linear Programming.\" Proceedings of the 4th\n",
      "Midwest Artificial Intelligence and Cognitive Science Society,\n",
      "pp. 97-101, 1992], a classification method which uses linear\n",
      "programming to construct a decision tree.  Relevant features\n",
      "were selected using an exhaustive search in the space of 1-4\n",
      "features and 1-3 separating planes.\n",
      "\n",
      "The actual linear program used to obtain the separating plane\n",
      "in the 3-dimensional space is that described in:\n",
      "[K. P. Bennett and O. L. Mangasarian: \"Robust Linear\n",
      "Programming Discrimination of Two Linearly Inseparable Sets\",\n",
      "Optimization Methods and Software 1, 1992, 23-34].\n",
      "\n",
      "This database is also available through the UW CS ftp server:\n",
      "\n",
      "ftp ftp.cs.wisc.edu\n",
      "cd math-prog/cpo-dataset/machine-learn/WDBC/\n",
      "\n",
      "References\n",
      "----------\n",
      "   - W.N. Street, W.H. Wolberg and O.L. Mangasarian. Nuclear feature extraction \n",
      "     for breast tumor diagnosis. IS&T/SPIE 1993 International Symposium on \n",
      "     Electronic Imaging: Science and Technology, volume 1905, pages 861-870, \n",
      "     San Jose, CA, 1993. \n",
      "   - O.L. Mangasarian, W.N. Street and W.H. Wolberg. Breast cancer diagnosis and \n",
      "     prognosis via linear programming. Operations Research, 43(4), pages 570-577, \n",
      "     July-August 1995.\n",
      "   - W.H. Wolberg, W.N. Street, and O.L. Mangasarian. Machine learning techniques\n",
      "     to diagnose breast cancer from fine-needle aspirates. Cancer Letters 77 (1994) \n",
      "     163-171.\n",
      "\n"
     ]
    }
   ],
   "source": [
    "print(cancer['DESCR'])"
   ]
  },
  {
   "cell_type": "code",
   "execution_count": 5,
   "metadata": {
    "collapsed": true
   },
   "outputs": [],
   "source": [
    "df = pd.DataFrame(cancer['data'],columns=cancer['feature_names'])\n",
    "#(['DESCR', 'data', 'feature_names', 'target_names', 'target'])"
   ]
  },
  {
   "cell_type": "code",
   "execution_count": 6,
   "metadata": {
    "collapsed": false
   },
   "outputs": [
    {
     "data": {
      "text/html": [
       "<div>\n",
       "<style scoped>\n",
       "    .dataframe tbody tr th:only-of-type {\n",
       "        vertical-align: middle;\n",
       "    }\n",
       "\n",
       "    .dataframe tbody tr th {\n",
       "        vertical-align: top;\n",
       "    }\n",
       "\n",
       "    .dataframe thead th {\n",
       "        text-align: right;\n",
       "    }\n",
       "</style>\n",
       "<table border=\"1\" class=\"dataframe\">\n",
       "  <thead>\n",
       "    <tr style=\"text-align: right;\">\n",
       "      <th></th>\n",
       "      <th>mean radius</th>\n",
       "      <th>mean texture</th>\n",
       "      <th>mean perimeter</th>\n",
       "      <th>mean area</th>\n",
       "      <th>mean smoothness</th>\n",
       "      <th>mean compactness</th>\n",
       "      <th>mean concavity</th>\n",
       "      <th>mean concave points</th>\n",
       "      <th>mean symmetry</th>\n",
       "      <th>mean fractal dimension</th>\n",
       "      <th>...</th>\n",
       "      <th>worst radius</th>\n",
       "      <th>worst texture</th>\n",
       "      <th>worst perimeter</th>\n",
       "      <th>worst area</th>\n",
       "      <th>worst smoothness</th>\n",
       "      <th>worst compactness</th>\n",
       "      <th>worst concavity</th>\n",
       "      <th>worst concave points</th>\n",
       "      <th>worst symmetry</th>\n",
       "      <th>worst fractal dimension</th>\n",
       "    </tr>\n",
       "  </thead>\n",
       "  <tbody>\n",
       "    <tr>\n",
       "      <th>0</th>\n",
       "      <td>17.99</td>\n",
       "      <td>10.38</td>\n",
       "      <td>122.80</td>\n",
       "      <td>1001.0</td>\n",
       "      <td>0.11840</td>\n",
       "      <td>0.27760</td>\n",
       "      <td>0.3001</td>\n",
       "      <td>0.14710</td>\n",
       "      <td>0.2419</td>\n",
       "      <td>0.07871</td>\n",
       "      <td>...</td>\n",
       "      <td>25.38</td>\n",
       "      <td>17.33</td>\n",
       "      <td>184.60</td>\n",
       "      <td>2019.0</td>\n",
       "      <td>0.1622</td>\n",
       "      <td>0.6656</td>\n",
       "      <td>0.7119</td>\n",
       "      <td>0.2654</td>\n",
       "      <td>0.4601</td>\n",
       "      <td>0.11890</td>\n",
       "    </tr>\n",
       "    <tr>\n",
       "      <th>1</th>\n",
       "      <td>20.57</td>\n",
       "      <td>17.77</td>\n",
       "      <td>132.90</td>\n",
       "      <td>1326.0</td>\n",
       "      <td>0.08474</td>\n",
       "      <td>0.07864</td>\n",
       "      <td>0.0869</td>\n",
       "      <td>0.07017</td>\n",
       "      <td>0.1812</td>\n",
       "      <td>0.05667</td>\n",
       "      <td>...</td>\n",
       "      <td>24.99</td>\n",
       "      <td>23.41</td>\n",
       "      <td>158.80</td>\n",
       "      <td>1956.0</td>\n",
       "      <td>0.1238</td>\n",
       "      <td>0.1866</td>\n",
       "      <td>0.2416</td>\n",
       "      <td>0.1860</td>\n",
       "      <td>0.2750</td>\n",
       "      <td>0.08902</td>\n",
       "    </tr>\n",
       "    <tr>\n",
       "      <th>2</th>\n",
       "      <td>19.69</td>\n",
       "      <td>21.25</td>\n",
       "      <td>130.00</td>\n",
       "      <td>1203.0</td>\n",
       "      <td>0.10960</td>\n",
       "      <td>0.15990</td>\n",
       "      <td>0.1974</td>\n",
       "      <td>0.12790</td>\n",
       "      <td>0.2069</td>\n",
       "      <td>0.05999</td>\n",
       "      <td>...</td>\n",
       "      <td>23.57</td>\n",
       "      <td>25.53</td>\n",
       "      <td>152.50</td>\n",
       "      <td>1709.0</td>\n",
       "      <td>0.1444</td>\n",
       "      <td>0.4245</td>\n",
       "      <td>0.4504</td>\n",
       "      <td>0.2430</td>\n",
       "      <td>0.3613</td>\n",
       "      <td>0.08758</td>\n",
       "    </tr>\n",
       "    <tr>\n",
       "      <th>3</th>\n",
       "      <td>11.42</td>\n",
       "      <td>20.38</td>\n",
       "      <td>77.58</td>\n",
       "      <td>386.1</td>\n",
       "      <td>0.14250</td>\n",
       "      <td>0.28390</td>\n",
       "      <td>0.2414</td>\n",
       "      <td>0.10520</td>\n",
       "      <td>0.2597</td>\n",
       "      <td>0.09744</td>\n",
       "      <td>...</td>\n",
       "      <td>14.91</td>\n",
       "      <td>26.50</td>\n",
       "      <td>98.87</td>\n",
       "      <td>567.7</td>\n",
       "      <td>0.2098</td>\n",
       "      <td>0.8663</td>\n",
       "      <td>0.6869</td>\n",
       "      <td>0.2575</td>\n",
       "      <td>0.6638</td>\n",
       "      <td>0.17300</td>\n",
       "    </tr>\n",
       "    <tr>\n",
       "      <th>4</th>\n",
       "      <td>20.29</td>\n",
       "      <td>14.34</td>\n",
       "      <td>135.10</td>\n",
       "      <td>1297.0</td>\n",
       "      <td>0.10030</td>\n",
       "      <td>0.13280</td>\n",
       "      <td>0.1980</td>\n",
       "      <td>0.10430</td>\n",
       "      <td>0.1809</td>\n",
       "      <td>0.05883</td>\n",
       "      <td>...</td>\n",
       "      <td>22.54</td>\n",
       "      <td>16.67</td>\n",
       "      <td>152.20</td>\n",
       "      <td>1575.0</td>\n",
       "      <td>0.1374</td>\n",
       "      <td>0.2050</td>\n",
       "      <td>0.4000</td>\n",
       "      <td>0.1625</td>\n",
       "      <td>0.2364</td>\n",
       "      <td>0.07678</td>\n",
       "    </tr>\n",
       "  </tbody>\n",
       "</table>\n",
       "<p>5 rows × 30 columns</p>\n",
       "</div>"
      ],
      "text/plain": [
       "   mean radius  mean texture  mean perimeter  mean area  mean smoothness  \\\n",
       "0        17.99         10.38          122.80     1001.0          0.11840   \n",
       "1        20.57         17.77          132.90     1326.0          0.08474   \n",
       "2        19.69         21.25          130.00     1203.0          0.10960   \n",
       "3        11.42         20.38           77.58      386.1          0.14250   \n",
       "4        20.29         14.34          135.10     1297.0          0.10030   \n",
       "\n",
       "   mean compactness  mean concavity  mean concave points  mean symmetry  \\\n",
       "0           0.27760          0.3001              0.14710         0.2419   \n",
       "1           0.07864          0.0869              0.07017         0.1812   \n",
       "2           0.15990          0.1974              0.12790         0.2069   \n",
       "3           0.28390          0.2414              0.10520         0.2597   \n",
       "4           0.13280          0.1980              0.10430         0.1809   \n",
       "\n",
       "   mean fractal dimension  ...  worst radius  worst texture  worst perimeter  \\\n",
       "0                 0.07871  ...         25.38          17.33           184.60   \n",
       "1                 0.05667  ...         24.99          23.41           158.80   \n",
       "2                 0.05999  ...         23.57          25.53           152.50   \n",
       "3                 0.09744  ...         14.91          26.50            98.87   \n",
       "4                 0.05883  ...         22.54          16.67           152.20   \n",
       "\n",
       "   worst area  worst smoothness  worst compactness  worst concavity  \\\n",
       "0      2019.0            0.1622             0.6656           0.7119   \n",
       "1      1956.0            0.1238             0.1866           0.2416   \n",
       "2      1709.0            0.1444             0.4245           0.4504   \n",
       "3       567.7            0.2098             0.8663           0.6869   \n",
       "4      1575.0            0.1374             0.2050           0.4000   \n",
       "\n",
       "   worst concave points  worst symmetry  worst fractal dimension  \n",
       "0                0.2654          0.4601                  0.11890  \n",
       "1                0.1860          0.2750                  0.08902  \n",
       "2                0.2430          0.3613                  0.08758  \n",
       "3                0.2575          0.6638                  0.17300  \n",
       "4                0.1625          0.2364                  0.07678  \n",
       "\n",
       "[5 rows x 30 columns]"
      ]
     },
     "execution_count": 6,
     "metadata": {},
     "output_type": "execute_result"
    }
   ],
   "source": [
    "df.head()"
   ]
  },
  {
   "cell_type": "markdown",
   "metadata": {},
   "source": [
    "## PCA Visualization\n",
    "\n",
    "As we've noticed before it is difficult to visualize high dimensional data, we can use PCA to find the first two principal components, and visualize the data in this new, two-dimensional space, with a single scatter-plot. Before we do this though, we'll need to scale our data so that each feature has a single unit variance."
   ]
  },
  {
   "cell_type": "code",
   "execution_count": 7,
   "metadata": {
    "collapsed": true
   },
   "outputs": [],
   "source": [
    "from sklearn.preprocessing import StandardScaler"
   ]
  },
  {
   "cell_type": "code",
   "execution_count": 8,
   "metadata": {
    "collapsed": false
   },
   "outputs": [
    {
     "data": {
      "text/plain": [
       "StandardScaler()"
      ]
     },
     "execution_count": 8,
     "metadata": {},
     "output_type": "execute_result"
    }
   ],
   "source": [
    "scaler = StandardScaler()\n",
    "scaler.fit(df)"
   ]
  },
  {
   "cell_type": "code",
   "execution_count": 9,
   "metadata": {
    "collapsed": true
   },
   "outputs": [],
   "source": [
    "scaled_data = scaler.transform(df)"
   ]
  },
  {
   "cell_type": "code",
   "execution_count": 15,
   "metadata": {},
   "outputs": [
    {
     "data": {
      "text/plain": [
       "array([[ 1.09706398, -2.07333501,  1.26993369, ...,  2.29607613,\n",
       "         2.75062224,  1.93701461],\n",
       "       [ 1.82982061, -0.35363241,  1.68595471, ...,  1.0870843 ,\n",
       "        -0.24388967,  0.28118999],\n",
       "       [ 1.57988811,  0.45618695,  1.56650313, ...,  1.95500035,\n",
       "         1.152255  ,  0.20139121],\n",
       "       ...,\n",
       "       [ 0.70228425,  2.0455738 ,  0.67267578, ...,  0.41406869,\n",
       "        -1.10454895, -0.31840916],\n",
       "       [ 1.83834103,  2.33645719,  1.98252415, ...,  2.28998549,\n",
       "         1.91908301,  2.21963528],\n",
       "       [-1.80840125,  1.22179204, -1.81438851, ..., -1.74506282,\n",
       "        -0.04813821, -0.75120669]])"
      ]
     },
     "execution_count": 15,
     "metadata": {},
     "output_type": "execute_result"
    }
   ],
   "source": [
    "scaled_data"
   ]
  },
  {
   "cell_type": "code",
   "execution_count": 27,
   "metadata": {},
   "outputs": [
    {
     "data": {
      "text/html": [
       "<div>\n",
       "<style scoped>\n",
       "    .dataframe tbody tr th:only-of-type {\n",
       "        vertical-align: middle;\n",
       "    }\n",
       "\n",
       "    .dataframe tbody tr th {\n",
       "        vertical-align: top;\n",
       "    }\n",
       "\n",
       "    .dataframe thead th {\n",
       "        text-align: right;\n",
       "    }\n",
       "</style>\n",
       "<table border=\"1\" class=\"dataframe\">\n",
       "  <thead>\n",
       "    <tr style=\"text-align: right;\">\n",
       "      <th></th>\n",
       "      <th>mean radius</th>\n",
       "      <th>mean texture</th>\n",
       "      <th>mean perimeter</th>\n",
       "      <th>mean area</th>\n",
       "      <th>mean smoothness</th>\n",
       "      <th>mean compactness</th>\n",
       "      <th>mean concavity</th>\n",
       "      <th>mean concave points</th>\n",
       "      <th>mean symmetry</th>\n",
       "      <th>mean fractal dimension</th>\n",
       "      <th>...</th>\n",
       "      <th>worst radius</th>\n",
       "      <th>worst texture</th>\n",
       "      <th>worst perimeter</th>\n",
       "      <th>worst area</th>\n",
       "      <th>worst smoothness</th>\n",
       "      <th>worst compactness</th>\n",
       "      <th>worst concavity</th>\n",
       "      <th>worst concave points</th>\n",
       "      <th>worst symmetry</th>\n",
       "      <th>worst fractal dimension</th>\n",
       "    </tr>\n",
       "  </thead>\n",
       "  <tbody>\n",
       "    <tr>\n",
       "      <th>0</th>\n",
       "      <td>1.097064</td>\n",
       "      <td>-2.073335</td>\n",
       "      <td>1.269934</td>\n",
       "      <td>0.984375</td>\n",
       "      <td>1.568466</td>\n",
       "      <td>3.283515</td>\n",
       "      <td>2.652874</td>\n",
       "      <td>2.532475</td>\n",
       "      <td>2.217515</td>\n",
       "      <td>2.255747</td>\n",
       "      <td>...</td>\n",
       "      <td>1.886690</td>\n",
       "      <td>-1.359293</td>\n",
       "      <td>2.303601</td>\n",
       "      <td>2.001237</td>\n",
       "      <td>1.307686</td>\n",
       "      <td>2.616665</td>\n",
       "      <td>2.109526</td>\n",
       "      <td>2.296076</td>\n",
       "      <td>2.750622</td>\n",
       "      <td>1.937015</td>\n",
       "    </tr>\n",
       "    <tr>\n",
       "      <th>1</th>\n",
       "      <td>1.829821</td>\n",
       "      <td>-0.353632</td>\n",
       "      <td>1.685955</td>\n",
       "      <td>1.908708</td>\n",
       "      <td>-0.826962</td>\n",
       "      <td>-0.487072</td>\n",
       "      <td>-0.023846</td>\n",
       "      <td>0.548144</td>\n",
       "      <td>0.001392</td>\n",
       "      <td>-0.868652</td>\n",
       "      <td>...</td>\n",
       "      <td>1.805927</td>\n",
       "      <td>-0.369203</td>\n",
       "      <td>1.535126</td>\n",
       "      <td>1.890489</td>\n",
       "      <td>-0.375612</td>\n",
       "      <td>-0.430444</td>\n",
       "      <td>-0.146749</td>\n",
       "      <td>1.087084</td>\n",
       "      <td>-0.243890</td>\n",
       "      <td>0.281190</td>\n",
       "    </tr>\n",
       "    <tr>\n",
       "      <th>2</th>\n",
       "      <td>1.579888</td>\n",
       "      <td>0.456187</td>\n",
       "      <td>1.566503</td>\n",
       "      <td>1.558884</td>\n",
       "      <td>0.942210</td>\n",
       "      <td>1.052926</td>\n",
       "      <td>1.363478</td>\n",
       "      <td>2.037231</td>\n",
       "      <td>0.939685</td>\n",
       "      <td>-0.398008</td>\n",
       "      <td>...</td>\n",
       "      <td>1.511870</td>\n",
       "      <td>-0.023974</td>\n",
       "      <td>1.347475</td>\n",
       "      <td>1.456285</td>\n",
       "      <td>0.527407</td>\n",
       "      <td>1.082932</td>\n",
       "      <td>0.854974</td>\n",
       "      <td>1.955000</td>\n",
       "      <td>1.152255</td>\n",
       "      <td>0.201391</td>\n",
       "    </tr>\n",
       "    <tr>\n",
       "      <th>3</th>\n",
       "      <td>-0.768909</td>\n",
       "      <td>0.253732</td>\n",
       "      <td>-0.592687</td>\n",
       "      <td>-0.764464</td>\n",
       "      <td>3.283553</td>\n",
       "      <td>3.402909</td>\n",
       "      <td>1.915897</td>\n",
       "      <td>1.451707</td>\n",
       "      <td>2.867383</td>\n",
       "      <td>4.910919</td>\n",
       "      <td>...</td>\n",
       "      <td>-0.281464</td>\n",
       "      <td>0.133984</td>\n",
       "      <td>-0.249939</td>\n",
       "      <td>-0.550021</td>\n",
       "      <td>3.394275</td>\n",
       "      <td>3.893397</td>\n",
       "      <td>1.989588</td>\n",
       "      <td>2.175786</td>\n",
       "      <td>6.046041</td>\n",
       "      <td>4.935010</td>\n",
       "    </tr>\n",
       "    <tr>\n",
       "      <th>4</th>\n",
       "      <td>1.750297</td>\n",
       "      <td>-1.151816</td>\n",
       "      <td>1.776573</td>\n",
       "      <td>1.826229</td>\n",
       "      <td>0.280372</td>\n",
       "      <td>0.539340</td>\n",
       "      <td>1.371011</td>\n",
       "      <td>1.428493</td>\n",
       "      <td>-0.009560</td>\n",
       "      <td>-0.562450</td>\n",
       "      <td>...</td>\n",
       "      <td>1.298575</td>\n",
       "      <td>-1.466770</td>\n",
       "      <td>1.338539</td>\n",
       "      <td>1.220724</td>\n",
       "      <td>0.220556</td>\n",
       "      <td>-0.313395</td>\n",
       "      <td>0.613179</td>\n",
       "      <td>0.729259</td>\n",
       "      <td>-0.868353</td>\n",
       "      <td>-0.397100</td>\n",
       "    </tr>\n",
       "    <tr>\n",
       "      <th>...</th>\n",
       "      <td>...</td>\n",
       "      <td>...</td>\n",
       "      <td>...</td>\n",
       "      <td>...</td>\n",
       "      <td>...</td>\n",
       "      <td>...</td>\n",
       "      <td>...</td>\n",
       "      <td>...</td>\n",
       "      <td>...</td>\n",
       "      <td>...</td>\n",
       "      <td>...</td>\n",
       "      <td>...</td>\n",
       "      <td>...</td>\n",
       "      <td>...</td>\n",
       "      <td>...</td>\n",
       "      <td>...</td>\n",
       "      <td>...</td>\n",
       "      <td>...</td>\n",
       "      <td>...</td>\n",
       "      <td>...</td>\n",
       "      <td>...</td>\n",
       "    </tr>\n",
       "    <tr>\n",
       "      <th>564</th>\n",
       "      <td>2.110995</td>\n",
       "      <td>0.721473</td>\n",
       "      <td>2.060786</td>\n",
       "      <td>2.343856</td>\n",
       "      <td>1.041842</td>\n",
       "      <td>0.219060</td>\n",
       "      <td>1.947285</td>\n",
       "      <td>2.320965</td>\n",
       "      <td>-0.312589</td>\n",
       "      <td>-0.931027</td>\n",
       "      <td>...</td>\n",
       "      <td>1.901185</td>\n",
       "      <td>0.117700</td>\n",
       "      <td>1.752563</td>\n",
       "      <td>2.015301</td>\n",
       "      <td>0.378365</td>\n",
       "      <td>-0.273318</td>\n",
       "      <td>0.664512</td>\n",
       "      <td>1.629151</td>\n",
       "      <td>-1.360158</td>\n",
       "      <td>-0.709091</td>\n",
       "    </tr>\n",
       "    <tr>\n",
       "      <th>565</th>\n",
       "      <td>1.704854</td>\n",
       "      <td>2.085134</td>\n",
       "      <td>1.615931</td>\n",
       "      <td>1.723842</td>\n",
       "      <td>0.102458</td>\n",
       "      <td>-0.017833</td>\n",
       "      <td>0.693043</td>\n",
       "      <td>1.263669</td>\n",
       "      <td>-0.217664</td>\n",
       "      <td>-1.058611</td>\n",
       "      <td>...</td>\n",
       "      <td>1.536720</td>\n",
       "      <td>2.047399</td>\n",
       "      <td>1.421940</td>\n",
       "      <td>1.494959</td>\n",
       "      <td>-0.691230</td>\n",
       "      <td>-0.394820</td>\n",
       "      <td>0.236573</td>\n",
       "      <td>0.733827</td>\n",
       "      <td>-0.531855</td>\n",
       "      <td>-0.973978</td>\n",
       "    </tr>\n",
       "    <tr>\n",
       "      <th>566</th>\n",
       "      <td>0.702284</td>\n",
       "      <td>2.045574</td>\n",
       "      <td>0.672676</td>\n",
       "      <td>0.577953</td>\n",
       "      <td>-0.840484</td>\n",
       "      <td>-0.038680</td>\n",
       "      <td>0.046588</td>\n",
       "      <td>0.105777</td>\n",
       "      <td>-0.809117</td>\n",
       "      <td>-0.895587</td>\n",
       "      <td>...</td>\n",
       "      <td>0.561361</td>\n",
       "      <td>1.374854</td>\n",
       "      <td>0.579001</td>\n",
       "      <td>0.427906</td>\n",
       "      <td>-0.809587</td>\n",
       "      <td>0.350735</td>\n",
       "      <td>0.326767</td>\n",
       "      <td>0.414069</td>\n",
       "      <td>-1.104549</td>\n",
       "      <td>-0.318409</td>\n",
       "    </tr>\n",
       "    <tr>\n",
       "      <th>567</th>\n",
       "      <td>1.838341</td>\n",
       "      <td>2.336457</td>\n",
       "      <td>1.982524</td>\n",
       "      <td>1.735218</td>\n",
       "      <td>1.525767</td>\n",
       "      <td>3.272144</td>\n",
       "      <td>3.296944</td>\n",
       "      <td>2.658866</td>\n",
       "      <td>2.137194</td>\n",
       "      <td>1.043695</td>\n",
       "      <td>...</td>\n",
       "      <td>1.961239</td>\n",
       "      <td>2.237926</td>\n",
       "      <td>2.303601</td>\n",
       "      <td>1.653171</td>\n",
       "      <td>1.430427</td>\n",
       "      <td>3.904848</td>\n",
       "      <td>3.197605</td>\n",
       "      <td>2.289985</td>\n",
       "      <td>1.919083</td>\n",
       "      <td>2.219635</td>\n",
       "    </tr>\n",
       "    <tr>\n",
       "      <th>568</th>\n",
       "      <td>-1.808401</td>\n",
       "      <td>1.221792</td>\n",
       "      <td>-1.814389</td>\n",
       "      <td>-1.347789</td>\n",
       "      <td>-3.112085</td>\n",
       "      <td>-1.150752</td>\n",
       "      <td>-1.114873</td>\n",
       "      <td>-1.261820</td>\n",
       "      <td>-0.820070</td>\n",
       "      <td>-0.561032</td>\n",
       "      <td>...</td>\n",
       "      <td>-1.410893</td>\n",
       "      <td>0.764190</td>\n",
       "      <td>-1.432735</td>\n",
       "      <td>-1.075813</td>\n",
       "      <td>-1.859019</td>\n",
       "      <td>-1.207552</td>\n",
       "      <td>-1.305831</td>\n",
       "      <td>-1.745063</td>\n",
       "      <td>-0.048138</td>\n",
       "      <td>-0.751207</td>\n",
       "    </tr>\n",
       "  </tbody>\n",
       "</table>\n",
       "<p>569 rows × 30 columns</p>\n",
       "</div>"
      ],
      "text/plain": [
       "     mean radius  mean texture  mean perimeter  mean area  mean smoothness  \\\n",
       "0       1.097064     -2.073335        1.269934   0.984375         1.568466   \n",
       "1       1.829821     -0.353632        1.685955   1.908708        -0.826962   \n",
       "2       1.579888      0.456187        1.566503   1.558884         0.942210   \n",
       "3      -0.768909      0.253732       -0.592687  -0.764464         3.283553   \n",
       "4       1.750297     -1.151816        1.776573   1.826229         0.280372   \n",
       "..           ...           ...             ...        ...              ...   \n",
       "564     2.110995      0.721473        2.060786   2.343856         1.041842   \n",
       "565     1.704854      2.085134        1.615931   1.723842         0.102458   \n",
       "566     0.702284      2.045574        0.672676   0.577953        -0.840484   \n",
       "567     1.838341      2.336457        1.982524   1.735218         1.525767   \n",
       "568    -1.808401      1.221792       -1.814389  -1.347789        -3.112085   \n",
       "\n",
       "     mean compactness  mean concavity  mean concave points  mean symmetry  \\\n",
       "0            3.283515        2.652874             2.532475       2.217515   \n",
       "1           -0.487072       -0.023846             0.548144       0.001392   \n",
       "2            1.052926        1.363478             2.037231       0.939685   \n",
       "3            3.402909        1.915897             1.451707       2.867383   \n",
       "4            0.539340        1.371011             1.428493      -0.009560   \n",
       "..                ...             ...                  ...            ...   \n",
       "564          0.219060        1.947285             2.320965      -0.312589   \n",
       "565         -0.017833        0.693043             1.263669      -0.217664   \n",
       "566         -0.038680        0.046588             0.105777      -0.809117   \n",
       "567          3.272144        3.296944             2.658866       2.137194   \n",
       "568         -1.150752       -1.114873            -1.261820      -0.820070   \n",
       "\n",
       "     mean fractal dimension  ...  worst radius  worst texture  \\\n",
       "0                  2.255747  ...      1.886690      -1.359293   \n",
       "1                 -0.868652  ...      1.805927      -0.369203   \n",
       "2                 -0.398008  ...      1.511870      -0.023974   \n",
       "3                  4.910919  ...     -0.281464       0.133984   \n",
       "4                 -0.562450  ...      1.298575      -1.466770   \n",
       "..                      ...  ...           ...            ...   \n",
       "564               -0.931027  ...      1.901185       0.117700   \n",
       "565               -1.058611  ...      1.536720       2.047399   \n",
       "566               -0.895587  ...      0.561361       1.374854   \n",
       "567                1.043695  ...      1.961239       2.237926   \n",
       "568               -0.561032  ...     -1.410893       0.764190   \n",
       "\n",
       "     worst perimeter  worst area  worst smoothness  worst compactness  \\\n",
       "0           2.303601    2.001237          1.307686           2.616665   \n",
       "1           1.535126    1.890489         -0.375612          -0.430444   \n",
       "2           1.347475    1.456285          0.527407           1.082932   \n",
       "3          -0.249939   -0.550021          3.394275           3.893397   \n",
       "4           1.338539    1.220724          0.220556          -0.313395   \n",
       "..               ...         ...               ...                ...   \n",
       "564         1.752563    2.015301          0.378365          -0.273318   \n",
       "565         1.421940    1.494959         -0.691230          -0.394820   \n",
       "566         0.579001    0.427906         -0.809587           0.350735   \n",
       "567         2.303601    1.653171          1.430427           3.904848   \n",
       "568        -1.432735   -1.075813         -1.859019          -1.207552   \n",
       "\n",
       "     worst concavity  worst concave points  worst symmetry  \\\n",
       "0           2.109526              2.296076        2.750622   \n",
       "1          -0.146749              1.087084       -0.243890   \n",
       "2           0.854974              1.955000        1.152255   \n",
       "3           1.989588              2.175786        6.046041   \n",
       "4           0.613179              0.729259       -0.868353   \n",
       "..               ...                   ...             ...   \n",
       "564         0.664512              1.629151       -1.360158   \n",
       "565         0.236573              0.733827       -0.531855   \n",
       "566         0.326767              0.414069       -1.104549   \n",
       "567         3.197605              2.289985        1.919083   \n",
       "568        -1.305831             -1.745063       -0.048138   \n",
       "\n",
       "     worst fractal dimension  \n",
       "0                   1.937015  \n",
       "1                   0.281190  \n",
       "2                   0.201391  \n",
       "3                   4.935010  \n",
       "4                  -0.397100  \n",
       "..                       ...  \n",
       "564                -0.709091  \n",
       "565                -0.973978  \n",
       "566                -0.318409  \n",
       "567                 2.219635  \n",
       "568                -0.751207  \n",
       "\n",
       "[569 rows x 30 columns]"
      ]
     },
     "execution_count": 27,
     "metadata": {},
     "output_type": "execute_result"
    }
   ],
   "source": [
    "df_s = pd.DataFrame(scaled_data,columns=cancer['feature_names'])\n",
    "df_s "
   ]
  },
  {
   "cell_type": "markdown",
   "metadata": {},
   "source": [
    "PCA with Scikit Learn uses a very similar process to other preprocessing functions that come with SciKit Learn. We instantiate a PCA object, find the principal components using the fit method, then apply the rotation and dimensionality reduction by calling transform().\n",
    "\n",
    "We can also specify how many components we want to keep when creating the PCA object."
   ]
  },
  {
   "cell_type": "code",
   "execution_count": 29,
   "metadata": {},
   "outputs": [
    {
     "data": {
      "application/vnd.plotly.v1+json": {
       "config": {
        "plotlyServerURL": "https://plot.ly"
       },
       "data": [
        {
         "hoverinfo": "text",
         "marker": {
          "color": "rgb(61,153,112)"
         },
         "mode": "lines",
         "type": "scatter",
         "x": [
          5,
          5,
          15,
          15
         ],
         "xaxis": "x",
         "y": [
          0,
          8.26854194336771,
          8.26854194336771,
          0
         ],
         "yaxis": "y"
        },
        {
         "hoverinfo": "text",
         "marker": {
          "color": "rgb(255,65,54)"
         },
         "mode": "lines",
         "type": "scatter",
         "x": [
          25,
          25,
          35,
          35
         ],
         "xaxis": "x",
         "y": [
          0,
          10.476074912430875,
          10.476074912430875,
          0
         ],
         "yaxis": "y"
        },
        {
         "hoverinfo": "text",
         "marker": {
          "color": "rgb(255,65,54)"
         },
         "mode": "lines",
         "type": "scatter",
         "x": [
          55,
          55,
          65,
          65
         ],
         "xaxis": "x",
         "y": [
          0,
          7.413458980305685,
          7.413458980305685,
          0
         ],
         "yaxis": "y"
        },
        {
         "hoverinfo": "text",
         "marker": {
          "color": "rgb(255,65,54)"
         },
         "mode": "lines",
         "type": "scatter",
         "x": [
          45,
          45,
          60,
          60
         ],
         "xaxis": "x",
         "y": [
          0,
          8.4795000214326,
          8.4795000214326,
          7.413458980305685
         ],
         "yaxis": "y"
        },
        {
         "hoverinfo": "text",
         "marker": {
          "color": "rgb(255,65,54)"
         },
         "mode": "lines",
         "type": "scatter",
         "x": [
          75,
          75,
          85,
          85
         ],
         "xaxis": "x",
         "y": [
          0,
          9.520485012671413,
          9.520485012671413,
          0
         ],
         "yaxis": "y"
        },
        {
         "hoverinfo": "text",
         "marker": {
          "color": "rgb(255,65,54)"
         },
         "mode": "lines",
         "type": "scatter",
         "x": [
          52.5,
          52.5,
          80,
          80
         ],
         "xaxis": "x",
         "y": [
          8.4795000214326,
          16.5580727283645,
          16.5580727283645,
          9.520485012671413
         ],
         "yaxis": "y"
        },
        {
         "hoverinfo": "text",
         "marker": {
          "color": "rgb(255,65,54)"
         },
         "mode": "lines",
         "type": "scatter",
         "x": [
          30,
          30,
          66.25,
          66.25
         ],
         "xaxis": "x",
         "y": [
          10.476074912430875,
          18.652979684054355,
          18.652979684054355,
          16.5580727283645
         ],
         "yaxis": "y"
        },
        {
         "hoverinfo": "text",
         "marker": {
          "color": "rgb(35,205,205)"
         },
         "mode": "lines",
         "type": "scatter",
         "x": [
          115,
          115,
          125,
          125
         ],
         "xaxis": "x",
         "y": [
          0,
          2.6951446127984076,
          2.6951446127984076,
          0
         ],
         "yaxis": "y"
        },
        {
         "hoverinfo": "text",
         "marker": {
          "color": "rgb(35,205,205)"
         },
         "mode": "lines",
         "type": "scatter",
         "x": [
          105,
          105,
          120,
          120
         ],
         "xaxis": "x",
         "y": [
          0,
          2.8417089284629578,
          2.8417089284629578,
          2.6951446127984076
         ],
         "yaxis": "y"
        },
        {
         "hoverinfo": "text",
         "marker": {
          "color": "rgb(35,205,205)"
         },
         "mode": "lines",
         "type": "scatter",
         "x": [
          95,
          95,
          112.5,
          112.5
         ],
         "xaxis": "x",
         "y": [
          0,
          3.482119596740897,
          3.482119596740897,
          2.8417089284629578
         ],
         "yaxis": "y"
        },
        {
         "hoverinfo": "text",
         "marker": {
          "color": "rgb(35,205,205)"
         },
         "mode": "lines",
         "type": "scatter",
         "x": [
          135,
          135,
          145,
          145
         ],
         "xaxis": "x",
         "y": [
          0,
          3.9324718357185007,
          3.9324718357185007,
          0
         ],
         "yaxis": "y"
        },
        {
         "hoverinfo": "text",
         "marker": {
          "color": "rgb(35,205,205)"
         },
         "mode": "lines",
         "type": "scatter",
         "x": [
          103.75,
          103.75,
          140,
          140
         ],
         "xaxis": "x",
         "y": [
          3.482119596740897,
          4.845022800522005,
          4.845022800522005,
          3.9324718357185007
         ],
         "yaxis": "y"
        },
        {
         "hoverinfo": "text",
         "marker": {
          "color": "rgb(35,205,205)"
         },
         "mode": "lines",
         "type": "scatter",
         "x": [
          185,
          185,
          195,
          195
         ],
         "xaxis": "x",
         "y": [
          0,
          2.9948229666195867,
          2.9948229666195867,
          0
         ],
         "yaxis": "y"
        },
        {
         "hoverinfo": "text",
         "marker": {
          "color": "rgb(35,205,205)"
         },
         "mode": "lines",
         "type": "scatter",
         "x": [
          175,
          175,
          190,
          190
         ],
         "xaxis": "x",
         "y": [
          0,
          3.251023802974645,
          3.251023802974645,
          2.9948229666195867
         ],
         "yaxis": "y"
        },
        {
         "hoverinfo": "text",
         "marker": {
          "color": "rgb(35,205,205)"
         },
         "mode": "lines",
         "type": "scatter",
         "x": [
          165,
          165,
          182.5,
          182.5
         ],
         "xaxis": "x",
         "y": [
          0,
          4.780689146247703,
          4.780689146247703,
          3.251023802974645
         ],
         "yaxis": "y"
        },
        {
         "hoverinfo": "text",
         "marker": {
          "color": "rgb(35,205,205)"
         },
         "mode": "lines",
         "type": "scatter",
         "x": [
          155,
          155,
          173.75,
          173.75
         ],
         "xaxis": "x",
         "y": [
          0,
          5.396847366262858,
          5.396847366262858,
          4.780689146247703
         ],
         "yaxis": "y"
        },
        {
         "hoverinfo": "text",
         "marker": {
          "color": "rgb(35,205,205)"
         },
         "mode": "lines",
         "type": "scatter",
         "x": [
          121.875,
          121.875,
          164.375,
          164.375
         ],
         "xaxis": "x",
         "y": [
          4.845022800522005,
          7.103552197476749,
          7.103552197476749,
          5.396847366262858
         ],
         "yaxis": "y"
        },
        {
         "hoverinfo": "text",
         "marker": {
          "color": "rgb(35,205,205)"
         },
         "mode": "lines",
         "type": "scatter",
         "x": [
          205,
          205,
          215,
          215
         ],
         "xaxis": "x",
         "y": [
          0,
          2.3039064670548552,
          2.3039064670548552,
          0
         ],
         "yaxis": "y"
        },
        {
         "hoverinfo": "text",
         "marker": {
          "color": "rgb(35,205,205)"
         },
         "mode": "lines",
         "type": "scatter",
         "x": [
          225,
          225,
          235,
          235
         ],
         "xaxis": "x",
         "y": [
          0,
          2.783874229180623,
          2.783874229180623,
          0
         ],
         "yaxis": "y"
        },
        {
         "hoverinfo": "text",
         "marker": {
          "color": "rgb(35,205,205)"
         },
         "mode": "lines",
         "type": "scatter",
         "x": [
          210,
          210,
          230,
          230
         ],
         "xaxis": "x",
         "y": [
          2.3039064670548552,
          3.816883767196017,
          3.816883767196017,
          2.783874229180623
         ],
         "yaxis": "y"
        },
        {
         "hoverinfo": "text",
         "marker": {
          "color": "rgb(35,205,205)"
         },
         "mode": "lines",
         "type": "scatter",
         "x": [
          275,
          275,
          285,
          285
         ],
         "xaxis": "x",
         "y": [
          0,
          2.3934403892434575,
          2.3934403892434575,
          0
         ],
         "yaxis": "y"
        },
        {
         "hoverinfo": "text",
         "marker": {
          "color": "rgb(35,205,205)"
         },
         "mode": "lines",
         "type": "scatter",
         "x": [
          265,
          265,
          280,
          280
         ],
         "xaxis": "x",
         "y": [
          0,
          3.565678571366575,
          3.565678571366575,
          2.3934403892434575
         ],
         "yaxis": "y"
        },
        {
         "hoverinfo": "text",
         "marker": {
          "color": "rgb(35,205,205)"
         },
         "mode": "lines",
         "type": "scatter",
         "x": [
          255,
          255,
          272.5,
          272.5
         ],
         "xaxis": "x",
         "y": [
          0,
          4.319170409185467,
          4.319170409185467,
          3.565678571366575
         ],
         "yaxis": "y"
        },
        {
         "hoverinfo": "text",
         "marker": {
          "color": "rgb(35,205,205)"
         },
         "mode": "lines",
         "type": "scatter",
         "x": [
          245,
          245,
          263.75,
          263.75
         ],
         "xaxis": "x",
         "y": [
          0,
          4.773646484714788,
          4.773646484714788,
          4.319170409185467
         ],
         "yaxis": "y"
        },
        {
         "hoverinfo": "text",
         "marker": {
          "color": "rgb(35,205,205)"
         },
         "mode": "lines",
         "type": "scatter",
         "x": [
          220,
          220,
          254.375,
          254.375
         ],
         "xaxis": "x",
         "y": [
          3.816883767196017,
          6.623404238642217,
          6.623404238642217,
          4.773646484714788
         ],
         "yaxis": "y"
        },
        {
         "hoverinfo": "text",
         "marker": {
          "color": "rgb(35,205,205)"
         },
         "mode": "lines",
         "type": "scatter",
         "x": [
          295,
          295,
          305,
          305
         ],
         "xaxis": "x",
         "y": [
          0,
          1.391447881566406,
          1.391447881566406,
          0
         ],
         "yaxis": "y"
        },
        {
         "hoverinfo": "text",
         "marker": {
          "color": "rgb(35,205,205)"
         },
         "mode": "lines",
         "type": "scatter",
         "x": [
          315,
          315,
          325,
          325
         ],
         "xaxis": "x",
         "y": [
          0,
          1.8929746849762599,
          1.8929746849762599,
          0
         ],
         "yaxis": "y"
        },
        {
         "hoverinfo": "text",
         "marker": {
          "color": "rgb(35,205,205)"
         },
         "mode": "lines",
         "type": "scatter",
         "x": [
          300,
          300,
          320,
          320
         ],
         "xaxis": "x",
         "y": [
          1.391447881566406,
          2.6069362205042195,
          2.6069362205042195,
          1.8929746849762599
         ],
         "yaxis": "y"
        },
        {
         "hoverinfo": "text",
         "marker": {
          "color": "rgb(35,205,205)"
         },
         "mode": "lines",
         "type": "scatter",
         "x": [
          335,
          335,
          345,
          345
         ],
         "xaxis": "x",
         "y": [
          0,
          1.9962919460608448,
          1.9962919460608448,
          0
         ],
         "yaxis": "y"
        },
        {
         "hoverinfo": "text",
         "marker": {
          "color": "rgb(35,205,205)"
         },
         "mode": "lines",
         "type": "scatter",
         "x": [
          365,
          365,
          375,
          375
         ],
         "xaxis": "x",
         "y": [
          0,
          1.7813073879053838,
          1.7813073879053838,
          0
         ],
         "yaxis": "y"
        },
        {
         "hoverinfo": "text",
         "marker": {
          "color": "rgb(35,205,205)"
         },
         "mode": "lines",
         "type": "scatter",
         "x": [
          355,
          355,
          370,
          370
         ],
         "xaxis": "x",
         "y": [
          0,
          2.1111898388208723,
          2.1111898388208723,
          1.7813073879053838
         ],
         "yaxis": "y"
        },
        {
         "hoverinfo": "text",
         "marker": {
          "color": "rgb(35,205,205)"
         },
         "mode": "lines",
         "type": "scatter",
         "x": [
          340,
          340,
          362.5,
          362.5
         ],
         "xaxis": "x",
         "y": [
          1.9962919460608448,
          3.025064775615852,
          3.025064775615852,
          2.1111898388208723
         ],
         "yaxis": "y"
        },
        {
         "hoverinfo": "text",
         "marker": {
          "color": "rgb(35,205,205)"
         },
         "mode": "lines",
         "type": "scatter",
         "x": [
          310,
          310,
          351.25,
          351.25
         ],
         "xaxis": "x",
         "y": [
          2.6069362205042195,
          3.5823701284724163,
          3.5823701284724163,
          3.025064775615852
         ],
         "yaxis": "y"
        },
        {
         "hoverinfo": "text",
         "marker": {
          "color": "rgb(35,205,205)"
         },
         "mode": "lines",
         "type": "scatter",
         "x": [
          395,
          395,
          405,
          405
         ],
         "xaxis": "x",
         "y": [
          0,
          1.946188177274338,
          1.946188177274338,
          0
         ],
         "yaxis": "y"
        },
        {
         "hoverinfo": "text",
         "marker": {
          "color": "rgb(35,205,205)"
         },
         "mode": "lines",
         "type": "scatter",
         "x": [
          415,
          415,
          425,
          425
         ],
         "xaxis": "x",
         "y": [
          0,
          2.456120885016748,
          2.456120885016748,
          0
         ],
         "yaxis": "y"
        },
        {
         "hoverinfo": "text",
         "marker": {
          "color": "rgb(35,205,205)"
         },
         "mode": "lines",
         "type": "scatter",
         "x": [
          400,
          400,
          420,
          420
         ],
         "xaxis": "x",
         "y": [
          1.946188177274338,
          2.896139628797796,
          2.896139628797796,
          2.456120885016748
         ],
         "yaxis": "y"
        },
        {
         "hoverinfo": "text",
         "marker": {
          "color": "rgb(35,205,205)"
         },
         "mode": "lines",
         "type": "scatter",
         "x": [
          385,
          385,
          410,
          410
         ],
         "xaxis": "x",
         "y": [
          0,
          3.6165989485786203,
          3.6165989485786203,
          2.896139628797796
         ],
         "yaxis": "y"
        },
        {
         "hoverinfo": "text",
         "marker": {
          "color": "rgb(35,205,205)"
         },
         "mode": "lines",
         "type": "scatter",
         "x": [
          435,
          435,
          445,
          445
         ],
         "xaxis": "x",
         "y": [
          0,
          1.8093484036630427,
          1.8093484036630427,
          0
         ],
         "yaxis": "y"
        },
        {
         "hoverinfo": "text",
         "marker": {
          "color": "rgb(35,205,205)"
         },
         "mode": "lines",
         "type": "scatter",
         "x": [
          455,
          455,
          465,
          465
         ],
         "xaxis": "x",
         "y": [
          0,
          1.9772594970026127,
          1.9772594970026127,
          0
         ],
         "yaxis": "y"
        },
        {
         "hoverinfo": "text",
         "marker": {
          "color": "rgb(35,205,205)"
         },
         "mode": "lines",
         "type": "scatter",
         "x": [
          440,
          440,
          460,
          460
         ],
         "xaxis": "x",
         "y": [
          1.8093484036630427,
          2.6757010932681125,
          2.6757010932681125,
          1.9772594970026127
         ],
         "yaxis": "y"
        },
        {
         "hoverinfo": "text",
         "marker": {
          "color": "rgb(35,205,205)"
         },
         "mode": "lines",
         "type": "scatter",
         "x": [
          475,
          475,
          485,
          485
         ],
         "xaxis": "x",
         "y": [
          0,
          2.1290879073336044,
          2.1290879073336044,
          0
         ],
         "yaxis": "y"
        },
        {
         "hoverinfo": "text",
         "marker": {
          "color": "rgb(35,205,205)"
         },
         "mode": "lines",
         "type": "scatter",
         "x": [
          495,
          495,
          505,
          505
         ],
         "xaxis": "x",
         "y": [
          0,
          2.767967915713281,
          2.767967915713281,
          0
         ],
         "yaxis": "y"
        },
        {
         "hoverinfo": "text",
         "marker": {
          "color": "rgb(35,205,205)"
         },
         "mode": "lines",
         "type": "scatter",
         "x": [
          480,
          480,
          500,
          500
         ],
         "xaxis": "x",
         "y": [
          2.1290879073336044,
          3.20030355595075,
          3.20030355595075,
          2.767967915713281
         ],
         "yaxis": "y"
        },
        {
         "hoverinfo": "text",
         "marker": {
          "color": "rgb(35,205,205)"
         },
         "mode": "lines",
         "type": "scatter",
         "x": [
          450,
          450,
          490,
          490
         ],
         "xaxis": "x",
         "y": [
          2.6757010932681125,
          4.201501215952822,
          4.201501215952822,
          3.20030355595075
         ],
         "yaxis": "y"
        },
        {
         "hoverinfo": "text",
         "marker": {
          "color": "rgb(35,205,205)"
         },
         "mode": "lines",
         "type": "scatter",
         "x": [
          397.5,
          397.5,
          470,
          470
         ],
         "xaxis": "x",
         "y": [
          3.6165989485786203,
          4.50201921778088,
          4.50201921778088,
          4.201501215952822
         ],
         "yaxis": "y"
        },
        {
         "hoverinfo": "text",
         "marker": {
          "color": "rgb(35,205,205)"
         },
         "mode": "lines",
         "type": "scatter",
         "x": [
          330.625,
          330.625,
          433.75,
          433.75
         ],
         "xaxis": "x",
         "y": [
          3.5823701284724163,
          5.090676716876817,
          5.090676716876817,
          4.50201921778088
         ],
         "yaxis": "y"
        },
        {
         "hoverinfo": "text",
         "marker": {
          "color": "rgb(35,205,205)"
         },
         "mode": "lines",
         "type": "scatter",
         "x": [
          515,
          515,
          525,
          525
         ],
         "xaxis": "x",
         "y": [
          0,
          2.7463914318214844,
          2.7463914318214844,
          0
         ],
         "yaxis": "y"
        },
        {
         "hoverinfo": "text",
         "marker": {
          "color": "rgb(35,205,205)"
         },
         "mode": "lines",
         "type": "scatter",
         "x": [
          545,
          545,
          555,
          555
         ],
         "xaxis": "x",
         "y": [
          0,
          2.439592470787854,
          2.439592470787854,
          0
         ],
         "yaxis": "y"
        },
        {
         "hoverinfo": "text",
         "marker": {
          "color": "rgb(35,205,205)"
         },
         "mode": "lines",
         "type": "scatter",
         "x": [
          535,
          535,
          550,
          550
         ],
         "xaxis": "x",
         "y": [
          0,
          3.1476489666223184,
          3.1476489666223184,
          2.439592470787854
         ],
         "yaxis": "y"
        },
        {
         "hoverinfo": "text",
         "marker": {
          "color": "rgb(35,205,205)"
         },
         "mode": "lines",
         "type": "scatter",
         "x": [
          520,
          520,
          542.5,
          542.5
         ],
         "xaxis": "x",
         "y": [
          2.7463914318214844,
          4.093034924099236,
          4.093034924099236,
          3.1476489666223184
         ],
         "yaxis": "y"
        },
        {
         "hoverinfo": "text",
         "marker": {
          "color": "rgb(35,205,205)"
         },
         "mode": "lines",
         "type": "scatter",
         "x": [
          575,
          575,
          585,
          585
         ],
         "xaxis": "x",
         "y": [
          0,
          2.962606647976885,
          2.962606647976885,
          0
         ],
         "yaxis": "y"
        },
        {
         "hoverinfo": "text",
         "marker": {
          "color": "rgb(35,205,205)"
         },
         "mode": "lines",
         "type": "scatter",
         "x": [
          565,
          565,
          580,
          580
         ],
         "xaxis": "x",
         "y": [
          0,
          4.173075153999822,
          4.173075153999822,
          2.962606647976885
         ],
         "yaxis": "y"
        },
        {
         "hoverinfo": "text",
         "marker": {
          "color": "rgb(35,205,205)"
         },
         "mode": "lines",
         "type": "scatter",
         "x": [
          531.25,
          531.25,
          572.5,
          572.5
         ],
         "xaxis": "x",
         "y": [
          4.093034924099236,
          5.631596066404267,
          5.631596066404267,
          4.173075153999822
         ],
         "yaxis": "y"
        },
        {
         "hoverinfo": "text",
         "marker": {
          "color": "rgb(35,205,205)"
         },
         "mode": "lines",
         "type": "scatter",
         "x": [
          595,
          595,
          605,
          605
         ],
         "xaxis": "x",
         "y": [
          0,
          2.4955997567347494,
          2.4955997567347494,
          0
         ],
         "yaxis": "y"
        },
        {
         "hoverinfo": "text",
         "marker": {
          "color": "rgb(35,205,205)"
         },
         "mode": "lines",
         "type": "scatter",
         "x": [
          615,
          615,
          625,
          625
         ],
         "xaxis": "x",
         "y": [
          0,
          2.7245486687454368,
          2.7245486687454368,
          0
         ],
         "yaxis": "y"
        },
        {
         "hoverinfo": "text",
         "marker": {
          "color": "rgb(35,205,205)"
         },
         "mode": "lines",
         "type": "scatter",
         "x": [
          600,
          600,
          620,
          620
         ],
         "xaxis": "x",
         "y": [
          2.4955997567347494,
          3.9117284825103606,
          3.9117284825103606,
          2.7245486687454368
         ],
         "yaxis": "y"
        },
        {
         "hoverinfo": "text",
         "marker": {
          "color": "rgb(35,205,205)"
         },
         "mode": "lines",
         "type": "scatter",
         "x": [
          655,
          655,
          665,
          665
         ],
         "xaxis": "x",
         "y": [
          0,
          1.1009759752522037,
          1.1009759752522037,
          0
         ],
         "yaxis": "y"
        },
        {
         "hoverinfo": "text",
         "marker": {
          "color": "rgb(35,205,205)"
         },
         "mode": "lines",
         "type": "scatter",
         "x": [
          645,
          645,
          660,
          660
         ],
         "xaxis": "x",
         "y": [
          0,
          1.7749982005131382,
          1.7749982005131382,
          1.1009759752522037
         ],
         "yaxis": "y"
        },
        {
         "hoverinfo": "text",
         "marker": {
          "color": "rgb(35,205,205)"
         },
         "mode": "lines",
         "type": "scatter",
         "x": [
          635,
          635,
          652.5,
          652.5
         ],
         "xaxis": "x",
         "y": [
          0,
          2.393829727236578,
          2.393829727236578,
          1.7749982005131382
         ],
         "yaxis": "y"
        },
        {
         "hoverinfo": "text",
         "marker": {
          "color": "rgb(35,205,205)"
         },
         "mode": "lines",
         "type": "scatter",
         "x": [
          675,
          675,
          685,
          685
         ],
         "xaxis": "x",
         "y": [
          0,
          2.466278182758628,
          2.466278182758628,
          0
         ],
         "yaxis": "y"
        },
        {
         "hoverinfo": "text",
         "marker": {
          "color": "rgb(35,205,205)"
         },
         "mode": "lines",
         "type": "scatter",
         "x": [
          643.75,
          643.75,
          680,
          680
         ],
         "xaxis": "x",
         "y": [
          2.393829727236578,
          3.081217183124512,
          3.081217183124512,
          2.466278182758628
         ],
         "yaxis": "y"
        },
        {
         "hoverinfo": "text",
         "marker": {
          "color": "rgb(35,205,205)"
         },
         "mode": "lines",
         "type": "scatter",
         "x": [
          715,
          715,
          725,
          725
         ],
         "xaxis": "x",
         "y": [
          0,
          2.1439767941307073,
          2.1439767941307073,
          0
         ],
         "yaxis": "y"
        },
        {
         "hoverinfo": "text",
         "marker": {
          "color": "rgb(35,205,205)"
         },
         "mode": "lines",
         "type": "scatter",
         "x": [
          705,
          705,
          720,
          720
         ],
         "xaxis": "x",
         "y": [
          0,
          2.47798712374151,
          2.47798712374151,
          2.1439767941307073
         ],
         "yaxis": "y"
        },
        {
         "hoverinfo": "text",
         "marker": {
          "color": "rgb(35,205,205)"
         },
         "mode": "lines",
         "type": "scatter",
         "x": [
          695,
          695,
          712.5,
          712.5
         ],
         "xaxis": "x",
         "y": [
          0,
          2.954506690466962,
          2.954506690466962,
          2.47798712374151
         ],
         "yaxis": "y"
        },
        {
         "hoverinfo": "text",
         "marker": {
          "color": "rgb(35,205,205)"
         },
         "mode": "lines",
         "type": "scatter",
         "x": [
          745,
          745,
          755,
          755
         ],
         "xaxis": "x",
         "y": [
          0,
          1.7493576782092717,
          1.7493576782092717,
          0
         ],
         "yaxis": "y"
        },
        {
         "hoverinfo": "text",
         "marker": {
          "color": "rgb(35,205,205)"
         },
         "mode": "lines",
         "type": "scatter",
         "x": [
          765,
          765,
          775,
          775
         ],
         "xaxis": "x",
         "y": [
          0,
          1.800940592269496,
          1.800940592269496,
          0
         ],
         "yaxis": "y"
        },
        {
         "hoverinfo": "text",
         "marker": {
          "color": "rgb(35,205,205)"
         },
         "mode": "lines",
         "type": "scatter",
         "x": [
          750,
          750,
          770,
          770
         ],
         "xaxis": "x",
         "y": [
          1.7493576782092717,
          2.277245748626347,
          2.277245748626347,
          1.800940592269496
         ],
         "yaxis": "y"
        },
        {
         "hoverinfo": "text",
         "marker": {
          "color": "rgb(35,205,205)"
         },
         "mode": "lines",
         "type": "scatter",
         "x": [
          735,
          735,
          760,
          760
         ],
         "xaxis": "x",
         "y": [
          0,
          3.2882119421820875,
          3.2882119421820875,
          2.277245748626347
         ],
         "yaxis": "y"
        },
        {
         "hoverinfo": "text",
         "marker": {
          "color": "rgb(35,205,205)"
         },
         "mode": "lines",
         "type": "scatter",
         "x": [
          703.75,
          703.75,
          747.5,
          747.5
         ],
         "xaxis": "x",
         "y": [
          2.954506690466962,
          3.8343876355032687,
          3.8343876355032687,
          3.2882119421820875
         ],
         "yaxis": "y"
        },
        {
         "hoverinfo": "text",
         "marker": {
          "color": "rgb(35,205,205)"
         },
         "mode": "lines",
         "type": "scatter",
         "x": [
          661.875,
          661.875,
          725.625,
          725.625
         ],
         "xaxis": "x",
         "y": [
          3.081217183124512,
          4.791238453168439,
          4.791238453168439,
          3.8343876355032687
         ],
         "yaxis": "y"
        },
        {
         "hoverinfo": "text",
         "marker": {
          "color": "rgb(35,205,205)"
         },
         "mode": "lines",
         "type": "scatter",
         "x": [
          610,
          610,
          693.75,
          693.75
         ],
         "xaxis": "x",
         "y": [
          3.9117284825103606,
          5.776322533555736,
          5.776322533555736,
          4.791238453168439
         ],
         "yaxis": "y"
        },
        {
         "hoverinfo": "text",
         "marker": {
          "color": "rgb(35,205,205)"
         },
         "mode": "lines",
         "type": "scatter",
         "x": [
          551.875,
          551.875,
          651.875,
          651.875
         ],
         "xaxis": "x",
         "y": [
          5.631596066404267,
          6.789040634111896,
          6.789040634111896,
          5.776322533555736
         ],
         "yaxis": "y"
        },
        {
         "hoverinfo": "text",
         "marker": {
          "color": "rgb(35,205,205)"
         },
         "mode": "lines",
         "type": "scatter",
         "x": [
          382.1875,
          382.1875,
          601.875,
          601.875
         ],
         "xaxis": "x",
         "y": [
          5.090676716876817,
          7.174767003493065,
          7.174767003493065,
          6.789040634111896
         ],
         "yaxis": "y"
        },
        {
         "hoverinfo": "text",
         "marker": {
          "color": "rgb(35,205,205)"
         },
         "mode": "lines",
         "type": "scatter",
         "x": [
          237.1875,
          237.1875,
          492.03125,
          492.03125
         ],
         "xaxis": "x",
         "y": [
          6.623404238642217,
          8.284876361906347,
          8.284876361906347,
          7.174767003493065
         ],
         "yaxis": "y"
        },
        {
         "hoverinfo": "text",
         "marker": {
          "color": "rgb(35,205,205)"
         },
         "mode": "lines",
         "type": "scatter",
         "x": [
          143.125,
          143.125,
          364.609375,
          364.609375
         ],
         "xaxis": "x",
         "y": [
          7.103552197476749,
          10.395692175526571,
          10.395692175526571,
          8.284876361906347
         ],
         "yaxis": "y"
        },
        {
         "hoverinfo": "text",
         "marker": {
          "color": "rgb(35,205,205)"
         },
         "mode": "lines",
         "type": "scatter",
         "x": [
          795,
          795,
          805,
          805
         ],
         "xaxis": "x",
         "y": [
          0,
          4.26605056814967,
          4.26605056814967,
          0
         ],
         "yaxis": "y"
        },
        {
         "hoverinfo": "text",
         "marker": {
          "color": "rgb(35,205,205)"
         },
         "mode": "lines",
         "type": "scatter",
         "x": [
          815,
          815,
          825,
          825
         ],
         "xaxis": "x",
         "y": [
          0,
          4.846018330261868,
          4.846018330261868,
          0
         ],
         "yaxis": "y"
        },
        {
         "hoverinfo": "text",
         "marker": {
          "color": "rgb(35,205,205)"
         },
         "mode": "lines",
         "type": "scatter",
         "x": [
          800,
          800,
          820,
          820
         ],
         "xaxis": "x",
         "y": [
          4.26605056814967,
          6.2831580108278136,
          6.2831580108278136,
          4.846018330261868
         ],
         "yaxis": "y"
        },
        {
         "hoverinfo": "text",
         "marker": {
          "color": "rgb(35,205,205)"
         },
         "mode": "lines",
         "type": "scatter",
         "x": [
          785,
          785,
          810,
          810
         ],
         "xaxis": "x",
         "y": [
          0,
          8.081061159743365,
          8.081061159743365,
          6.2831580108278136
         ],
         "yaxis": "y"
        },
        {
         "hoverinfo": "text",
         "marker": {
          "color": "rgb(35,205,205)"
         },
         "mode": "lines",
         "type": "scatter",
         "x": [
          845,
          845,
          855,
          855
         ],
         "xaxis": "x",
         "y": [
          0,
          4.911062758761296,
          4.911062758761296,
          0
         ],
         "yaxis": "y"
        },
        {
         "hoverinfo": "text",
         "marker": {
          "color": "rgb(35,205,205)"
         },
         "mode": "lines",
         "type": "scatter",
         "x": [
          835,
          835,
          850,
          850
         ],
         "xaxis": "x",
         "y": [
          0,
          6.495593500783756,
          6.495593500783756,
          4.911062758761296
         ],
         "yaxis": "y"
        },
        {
         "hoverinfo": "text",
         "marker": {
          "color": "rgb(35,205,205)"
         },
         "mode": "lines",
         "type": "scatter",
         "x": [
          865,
          865,
          875,
          875
         ],
         "xaxis": "x",
         "y": [
          0,
          2.784013314406468,
          2.784013314406468,
          0
         ],
         "yaxis": "y"
        },
        {
         "hoverinfo": "text",
         "marker": {
          "color": "rgb(35,205,205)"
         },
         "mode": "lines",
         "type": "scatter",
         "x": [
          895,
          895,
          905,
          905
         ],
         "xaxis": "x",
         "y": [
          0,
          2.034003775638787,
          2.034003775638787,
          0
         ],
         "yaxis": "y"
        },
        {
         "hoverinfo": "text",
         "marker": {
          "color": "rgb(35,205,205)"
         },
         "mode": "lines",
         "type": "scatter",
         "x": [
          885,
          885,
          900,
          900
         ],
         "xaxis": "x",
         "y": [
          0,
          2.8406379005754987,
          2.8406379005754987,
          2.034003775638787
         ],
         "yaxis": "y"
        },
        {
         "hoverinfo": "text",
         "marker": {
          "color": "rgb(35,205,205)"
         },
         "mode": "lines",
         "type": "scatter",
         "x": [
          925,
          925,
          935,
          935
         ],
         "xaxis": "x",
         "y": [
          0,
          2.708041215428497,
          2.708041215428497,
          0
         ],
         "yaxis": "y"
        },
        {
         "hoverinfo": "text",
         "marker": {
          "color": "rgb(35,205,205)"
         },
         "mode": "lines",
         "type": "scatter",
         "x": [
          915,
          915,
          930,
          930
         ],
         "xaxis": "x",
         "y": [
          0,
          3.0553829276108115,
          3.0553829276108115,
          2.708041215428497
         ],
         "yaxis": "y"
        },
        {
         "hoverinfo": "text",
         "marker": {
          "color": "rgb(35,205,205)"
         },
         "mode": "lines",
         "type": "scatter",
         "x": [
          892.5,
          892.5,
          922.5,
          922.5
         ],
         "xaxis": "x",
         "y": [
          2.8406379005754987,
          3.8256219435415444,
          3.8256219435415444,
          3.0553829276108115
         ],
         "yaxis": "y"
        },
        {
         "hoverinfo": "text",
         "marker": {
          "color": "rgb(35,205,205)"
         },
         "mode": "lines",
         "type": "scatter",
         "x": [
          870,
          870,
          907.5,
          907.5
         ],
         "xaxis": "x",
         "y": [
          2.784013314406468,
          4.379920057796106,
          4.379920057796106,
          3.8256219435415444
         ],
         "yaxis": "y"
        },
        {
         "hoverinfo": "text",
         "marker": {
          "color": "rgb(35,205,205)"
         },
         "mode": "lines",
         "type": "scatter",
         "x": [
          945,
          945,
          955,
          955
         ],
         "xaxis": "x",
         "y": [
          0,
          2.8899722652540087,
          2.8899722652540087,
          0
         ],
         "yaxis": "y"
        },
        {
         "hoverinfo": "text",
         "marker": {
          "color": "rgb(35,205,205)"
         },
         "mode": "lines",
         "type": "scatter",
         "x": [
          975,
          975,
          985,
          985
         ],
         "xaxis": "x",
         "y": [
          0,
          3.1153327129230046,
          3.1153327129230046,
          0
         ],
         "yaxis": "y"
        },
        {
         "hoverinfo": "text",
         "marker": {
          "color": "rgb(35,205,205)"
         },
         "mode": "lines",
         "type": "scatter",
         "x": [
          965,
          965,
          980,
          980
         ],
         "xaxis": "x",
         "y": [
          0,
          4.371753307301487,
          4.371753307301487,
          3.1153327129230046
         ],
         "yaxis": "y"
        },
        {
         "hoverinfo": "text",
         "marker": {
          "color": "rgb(35,205,205)"
         },
         "mode": "lines",
         "type": "scatter",
         "x": [
          950,
          950,
          972.5,
          972.5
         ],
         "xaxis": "x",
         "y": [
          2.8899722652540087,
          5.070859929720887,
          5.070859929720887,
          4.371753307301487
         ],
         "yaxis": "y"
        },
        {
         "hoverinfo": "text",
         "marker": {
          "color": "rgb(35,205,205)"
         },
         "mode": "lines",
         "type": "scatter",
         "x": [
          888.75,
          888.75,
          961.25,
          961.25
         ],
         "xaxis": "x",
         "y": [
          4.379920057796106,
          5.8104010253627765,
          5.8104010253627765,
          5.070859929720887
         ],
         "yaxis": "y"
        },
        {
         "hoverinfo": "text",
         "marker": {
          "color": "rgb(35,205,205)"
         },
         "mode": "lines",
         "type": "scatter",
         "x": [
          995,
          995,
          1005,
          1005
         ],
         "xaxis": "x",
         "y": [
          0,
          3.3570353736901337,
          3.3570353736901337,
          0
         ],
         "yaxis": "y"
        },
        {
         "hoverinfo": "text",
         "marker": {
          "color": "rgb(35,205,205)"
         },
         "mode": "lines",
         "type": "scatter",
         "x": [
          1015,
          1015,
          1025,
          1025
         ],
         "xaxis": "x",
         "y": [
          0,
          3.868620806305758,
          3.868620806305758,
          0
         ],
         "yaxis": "y"
        },
        {
         "hoverinfo": "text",
         "marker": {
          "color": "rgb(35,205,205)"
         },
         "mode": "lines",
         "type": "scatter",
         "x": [
          1055,
          1055,
          1065,
          1065
         ],
         "xaxis": "x",
         "y": [
          0,
          2.11505963938218,
          2.11505963938218,
          0
         ],
         "yaxis": "y"
        },
        {
         "hoverinfo": "text",
         "marker": {
          "color": "rgb(35,205,205)"
         },
         "mode": "lines",
         "type": "scatter",
         "x": [
          1045,
          1045,
          1060,
          1060
         ],
         "xaxis": "x",
         "y": [
          0,
          2.6162436170715484,
          2.6162436170715484,
          2.11505963938218
         ],
         "yaxis": "y"
        },
        {
         "hoverinfo": "text",
         "marker": {
          "color": "rgb(35,205,205)"
         },
         "mode": "lines",
         "type": "scatter",
         "x": [
          1035,
          1035,
          1052.5,
          1052.5
         ],
         "xaxis": "x",
         "y": [
          0,
          4.11940681892451,
          4.11940681892451,
          2.6162436170715484
         ],
         "yaxis": "y"
        },
        {
         "hoverinfo": "text",
         "marker": {
          "color": "rgb(35,205,205)"
         },
         "mode": "lines",
         "type": "scatter",
         "x": [
          1020,
          1020,
          1043.75,
          1043.75
         ],
         "xaxis": "x",
         "y": [
          3.868620806305758,
          4.693464240354737,
          4.693464240354737,
          4.11940681892451
         ],
         "yaxis": "y"
        },
        {
         "hoverinfo": "text",
         "marker": {
          "color": "rgb(35,205,205)"
         },
         "mode": "lines",
         "type": "scatter",
         "x": [
          1000,
          1000,
          1031.875,
          1031.875
         ],
         "xaxis": "x",
         "y": [
          3.3570353736901337,
          5.931693944397808,
          5.931693944397808,
          4.693464240354737
         ],
         "yaxis": "y"
        },
        {
         "hoverinfo": "text",
         "marker": {
          "color": "rgb(35,205,205)"
         },
         "mode": "lines",
         "type": "scatter",
         "x": [
          925,
          925,
          1015.9375,
          1015.9375
         ],
         "xaxis": "x",
         "y": [
          5.8104010253627765,
          7.653019974708326,
          7.653019974708326,
          5.931693944397808
         ],
         "yaxis": "y"
        },
        {
         "hoverinfo": "text",
         "marker": {
          "color": "rgb(35,205,205)"
         },
         "mode": "lines",
         "type": "scatter",
         "x": [
          842.5,
          842.5,
          970.46875,
          970.46875
         ],
         "xaxis": "x",
         "y": [
          6.495593500783756,
          8.669114766637886,
          8.669114766637886,
          7.653019974708326
         ],
         "yaxis": "y"
        },
        {
         "hoverinfo": "text",
         "marker": {
          "color": "rgb(35,205,205)"
         },
         "mode": "lines",
         "type": "scatter",
         "x": [
          797.5,
          797.5,
          906.484375,
          906.484375
         ],
         "xaxis": "x",
         "y": [
          8.081061159743365,
          10.696365653275157,
          10.696365653275157,
          8.669114766637886
         ],
         "yaxis": "y"
        },
        {
         "hoverinfo": "text",
         "marker": {
          "color": "rgb(35,205,205)"
         },
         "mode": "lines",
         "type": "scatter",
         "x": [
          253.8671875,
          253.8671875,
          851.9921875,
          851.9921875
         ],
         "xaxis": "x",
         "y": [
          10.395692175526571,
          12.317817208219068,
          12.317817208219068,
          10.696365653275157
         ],
         "yaxis": "y"
        },
        {
         "hoverinfo": "text",
         "marker": {
          "color": "rgb(35,205,205)"
         },
         "mode": "lines",
         "type": "scatter",
         "x": [
          1075,
          1075,
          1085,
          1085
         ],
         "xaxis": "x",
         "y": [
          0,
          3.499959035243869,
          3.499959035243869,
          0
         ],
         "yaxis": "y"
        },
        {
         "hoverinfo": "text",
         "marker": {
          "color": "rgb(35,205,205)"
         },
         "mode": "lines",
         "type": "scatter",
         "x": [
          1095,
          1095,
          1105,
          1105
         ],
         "xaxis": "x",
         "y": [
          0,
          4.597238614532386,
          4.597238614532386,
          0
         ],
         "yaxis": "y"
        },
        {
         "hoverinfo": "text",
         "marker": {
          "color": "rgb(35,205,205)"
         },
         "mode": "lines",
         "type": "scatter",
         "x": [
          1080,
          1080,
          1100,
          1100
         ],
         "xaxis": "x",
         "y": [
          3.499959035243869,
          6.011244912382028,
          6.011244912382028,
          4.597238614532386
         ],
         "yaxis": "y"
        },
        {
         "hoverinfo": "text",
         "marker": {
          "color": "rgb(35,205,205)"
         },
         "mode": "lines",
         "type": "scatter",
         "x": [
          1115,
          1115,
          1125,
          1125
         ],
         "xaxis": "x",
         "y": [
          0,
          7.035663664819317,
          7.035663664819317,
          0
         ],
         "yaxis": "y"
        },
        {
         "hoverinfo": "text",
         "marker": {
          "color": "rgb(35,205,205)"
         },
         "mode": "lines",
         "type": "scatter",
         "x": [
          1090,
          1090,
          1120,
          1120
         ],
         "xaxis": "x",
         "y": [
          6.011244912382028,
          8.221145360726725,
          8.221145360726725,
          7.035663664819317
         ],
         "yaxis": "y"
        },
        {
         "hoverinfo": "text",
         "marker": {
          "color": "rgb(35,205,205)"
         },
         "mode": "lines",
         "type": "scatter",
         "x": [
          1135,
          1135,
          1145,
          1145
         ],
         "xaxis": "x",
         "y": [
          0,
          6.968998137974113,
          6.968998137974113,
          0
         ],
         "yaxis": "y"
        },
        {
         "hoverinfo": "text",
         "marker": {
          "color": "rgb(35,205,205)"
         },
         "mode": "lines",
         "type": "scatter",
         "x": [
          1155,
          1155,
          1165,
          1165
         ],
         "xaxis": "x",
         "y": [
          0,
          5.238807716963352,
          5.238807716963352,
          0
         ],
         "yaxis": "y"
        },
        {
         "hoverinfo": "text",
         "marker": {
          "color": "rgb(35,205,205)"
         },
         "mode": "lines",
         "type": "scatter",
         "x": [
          1185,
          1185,
          1195,
          1195
         ],
         "xaxis": "x",
         "y": [
          0,
          3.2162341964065106,
          3.2162341964065106,
          0
         ],
         "yaxis": "y"
        },
        {
         "hoverinfo": "text",
         "marker": {
          "color": "rgb(35,205,205)"
         },
         "mode": "lines",
         "type": "scatter",
         "x": [
          1175,
          1175,
          1190,
          1190
         ],
         "xaxis": "x",
         "y": [
          0,
          3.7405643613890938,
          3.7405643613890938,
          3.2162341964065106
         ],
         "yaxis": "y"
        },
        {
         "hoverinfo": "text",
         "marker": {
          "color": "rgb(35,205,205)"
         },
         "mode": "lines",
         "type": "scatter",
         "x": [
          1205,
          1205,
          1215,
          1215
         ],
         "xaxis": "x",
         "y": [
          0,
          3.111876208888276,
          3.111876208888276,
          0
         ],
         "yaxis": "y"
        },
        {
         "hoverinfo": "text",
         "marker": {
          "color": "rgb(35,205,205)"
         },
         "mode": "lines",
         "type": "scatter",
         "x": [
          1225,
          1225,
          1235,
          1235
         ],
         "xaxis": "x",
         "y": [
          0,
          3.4679593685786014,
          3.4679593685786014,
          0
         ],
         "yaxis": "y"
        },
        {
         "hoverinfo": "text",
         "marker": {
          "color": "rgb(35,205,205)"
         },
         "mode": "lines",
         "type": "scatter",
         "x": [
          1210,
          1210,
          1230,
          1230
         ],
         "xaxis": "x",
         "y": [
          3.111876208888276,
          4.149184396988962,
          4.149184396988962,
          3.4679593685786014
         ],
         "yaxis": "y"
        },
        {
         "hoverinfo": "text",
         "marker": {
          "color": "rgb(35,205,205)"
         },
         "mode": "lines",
         "type": "scatter",
         "x": [
          1182.5,
          1182.5,
          1220,
          1220
         ],
         "xaxis": "x",
         "y": [
          3.7405643613890938,
          4.979423850639669,
          4.979423850639669,
          4.149184396988962
         ],
         "yaxis": "y"
        },
        {
         "hoverinfo": "text",
         "marker": {
          "color": "rgb(35,205,205)"
         },
         "mode": "lines",
         "type": "scatter",
         "x": [
          1255,
          1255,
          1265,
          1265
         ],
         "xaxis": "x",
         "y": [
          0,
          4.240592894529004,
          4.240592894529004,
          0
         ],
         "yaxis": "y"
        },
        {
         "hoverinfo": "text",
         "marker": {
          "color": "rgb(35,205,205)"
         },
         "mode": "lines",
         "type": "scatter",
         "x": [
          1245,
          1245,
          1260,
          1260
         ],
         "xaxis": "x",
         "y": [
          0,
          5.395369957969167,
          5.395369957969167,
          4.240592894529004
         ],
         "yaxis": "y"
        },
        {
         "hoverinfo": "text",
         "marker": {
          "color": "rgb(35,205,205)"
         },
         "mode": "lines",
         "type": "scatter",
         "x": [
          1201.25,
          1201.25,
          1252.5,
          1252.5
         ],
         "xaxis": "x",
         "y": [
          4.979423850639669,
          6.1325898766750315,
          6.1325898766750315,
          5.395369957969167
         ],
         "yaxis": "y"
        },
        {
         "hoverinfo": "text",
         "marker": {
          "color": "rgb(35,205,205)"
         },
         "mode": "lines",
         "type": "scatter",
         "x": [
          1160,
          1160,
          1226.875,
          1226.875
         ],
         "xaxis": "x",
         "y": [
          5.238807716963352,
          7.5733839222482455,
          7.5733839222482455,
          6.1325898766750315
         ],
         "yaxis": "y"
        },
        {
         "hoverinfo": "text",
         "marker": {
          "color": "rgb(35,205,205)"
         },
         "mode": "lines",
         "type": "scatter",
         "x": [
          1140,
          1140,
          1193.4375,
          1193.4375
         ],
         "xaxis": "x",
         "y": [
          6.968998137974113,
          9.715966254770192,
          9.715966254770192,
          7.5733839222482455
         ],
         "yaxis": "y"
        },
        {
         "hoverinfo": "text",
         "marker": {
          "color": "rgb(35,205,205)"
         },
         "mode": "lines",
         "type": "scatter",
         "x": [
          1105,
          1105,
          1166.71875,
          1166.71875
         ],
         "xaxis": "x",
         "y": [
          8.221145360726725,
          10.449368086927626,
          10.449368086927626,
          9.715966254770192
         ],
         "yaxis": "y"
        },
        {
         "hoverinfo": "text",
         "marker": {
          "color": "rgb(35,205,205)"
         },
         "mode": "lines",
         "type": "scatter",
         "x": [
          1275,
          1275,
          1285,
          1285
         ],
         "xaxis": "x",
         "y": [
          0,
          2.450679336236668,
          2.450679336236668,
          0
         ],
         "yaxis": "y"
        },
        {
         "hoverinfo": "text",
         "marker": {
          "color": "rgb(35,205,205)"
         },
         "mode": "lines",
         "type": "scatter",
         "x": [
          1295,
          1295,
          1305,
          1305
         ],
         "xaxis": "x",
         "y": [
          0,
          2.770078647479813,
          2.770078647479813,
          0
         ],
         "yaxis": "y"
        },
        {
         "hoverinfo": "text",
         "marker": {
          "color": "rgb(35,205,205)"
         },
         "mode": "lines",
         "type": "scatter",
         "x": [
          1280,
          1280,
          1300,
          1300
         ],
         "xaxis": "x",
         "y": [
          2.450679336236668,
          3.631736842028982,
          3.631736842028982,
          2.770078647479813
         ],
         "yaxis": "y"
        },
        {
         "hoverinfo": "text",
         "marker": {
          "color": "rgb(35,205,205)"
         },
         "mode": "lines",
         "type": "scatter",
         "x": [
          1315,
          1315,
          1325,
          1325
         ],
         "xaxis": "x",
         "y": [
          0,
          3.83333537729729,
          3.83333537729729,
          0
         ],
         "yaxis": "y"
        },
        {
         "hoverinfo": "text",
         "marker": {
          "color": "rgb(35,205,205)"
         },
         "mode": "lines",
         "type": "scatter",
         "x": [
          1290,
          1290,
          1320,
          1320
         ],
         "xaxis": "x",
         "y": [
          3.631736842028982,
          5.3175894760295215,
          5.3175894760295215,
          3.83333537729729
         ],
         "yaxis": "y"
        },
        {
         "hoverinfo": "text",
         "marker": {
          "color": "rgb(35,205,205)"
         },
         "mode": "lines",
         "type": "scatter",
         "x": [
          1335,
          1335,
          1345,
          1345
         ],
         "xaxis": "x",
         "y": [
          0,
          4.33376008559287,
          4.33376008559287,
          0
         ],
         "yaxis": "y"
        },
        {
         "hoverinfo": "text",
         "marker": {
          "color": "rgb(35,205,205)"
         },
         "mode": "lines",
         "type": "scatter",
         "x": [
          1355,
          1355,
          1365,
          1365
         ],
         "xaxis": "x",
         "y": [
          0,
          4.246512169257519,
          4.246512169257519,
          0
         ],
         "yaxis": "y"
        },
        {
         "hoverinfo": "text",
         "marker": {
          "color": "rgb(35,205,205)"
         },
         "mode": "lines",
         "type": "scatter",
         "x": [
          1395,
          1395,
          1405,
          1405
         ],
         "xaxis": "x",
         "y": [
          0,
          2.6275535494139306,
          2.6275535494139306,
          0
         ],
         "yaxis": "y"
        },
        {
         "hoverinfo": "text",
         "marker": {
          "color": "rgb(35,205,205)"
         },
         "mode": "lines",
         "type": "scatter",
         "x": [
          1385,
          1385,
          1400,
          1400
         ],
         "xaxis": "x",
         "y": [
          0,
          3.059501143684357,
          3.059501143684357,
          2.6275535494139306
         ],
         "yaxis": "y"
        },
        {
         "hoverinfo": "text",
         "marker": {
          "color": "rgb(35,205,205)"
         },
         "mode": "lines",
         "type": "scatter",
         "x": [
          1375,
          1375,
          1392.5,
          1392.5
         ],
         "xaxis": "x",
         "y": [
          0,
          4.276982545837989,
          4.276982545837989,
          3.059501143684357
         ],
         "yaxis": "y"
        },
        {
         "hoverinfo": "text",
         "marker": {
          "color": "rgb(35,205,205)"
         },
         "mode": "lines",
         "type": "scatter",
         "x": [
          1360,
          1360,
          1383.75,
          1383.75
         ],
         "xaxis": "x",
         "y": [
          4.246512169257519,
          5.681607936091614,
          5.681607936091614,
          4.276982545837989
         ],
         "yaxis": "y"
        },
        {
         "hoverinfo": "text",
         "marker": {
          "color": "rgb(35,205,205)"
         },
         "mode": "lines",
         "type": "scatter",
         "x": [
          1340,
          1340,
          1371.875,
          1371.875
         ],
         "xaxis": "x",
         "y": [
          4.33376008559287,
          8.147644329929735,
          8.147644329929735,
          5.681607936091614
         ],
         "yaxis": "y"
        },
        {
         "hoverinfo": "text",
         "marker": {
          "color": "rgb(35,205,205)"
         },
         "mode": "lines",
         "type": "scatter",
         "x": [
          1415,
          1415,
          1425,
          1425
         ],
         "xaxis": "x",
         "y": [
          0,
          3.8999724271051592,
          3.8999724271051592,
          0
         ],
         "yaxis": "y"
        },
        {
         "hoverinfo": "text",
         "marker": {
          "color": "rgb(35,205,205)"
         },
         "mode": "lines",
         "type": "scatter",
         "x": [
          1435,
          1435,
          1445,
          1445
         ],
         "xaxis": "x",
         "y": [
          0,
          5.222866174783127,
          5.222866174783127,
          0
         ],
         "yaxis": "y"
        },
        {
         "hoverinfo": "text",
         "marker": {
          "color": "rgb(35,205,205)"
         },
         "mode": "lines",
         "type": "scatter",
         "x": [
          1420,
          1420,
          1440,
          1440
         ],
         "xaxis": "x",
         "y": [
          3.8999724271051592,
          6.528016594120634,
          6.528016594120634,
          5.222866174783127
         ],
         "yaxis": "y"
        },
        {
         "hoverinfo": "text",
         "marker": {
          "color": "rgb(35,205,205)"
         },
         "mode": "lines",
         "type": "scatter",
         "x": [
          1465,
          1465,
          1475,
          1475
         ],
         "xaxis": "x",
         "y": [
          0,
          1.8923783874694138,
          1.8923783874694138,
          0
         ],
         "yaxis": "y"
        },
        {
         "hoverinfo": "text",
         "marker": {
          "color": "rgb(35,205,205)"
         },
         "mode": "lines",
         "type": "scatter",
         "x": [
          1455,
          1455,
          1470,
          1470
         ],
         "xaxis": "x",
         "y": [
          0,
          2.903135327778354,
          2.903135327778354,
          1.8923783874694138
         ],
         "yaxis": "y"
        },
        {
         "hoverinfo": "text",
         "marker": {
          "color": "rgb(35,205,205)"
         },
         "mode": "lines",
         "type": "scatter",
         "x": [
          1485,
          1485,
          1495,
          1495
         ],
         "xaxis": "x",
         "y": [
          0,
          2.765618588919533,
          2.765618588919533,
          0
         ],
         "yaxis": "y"
        },
        {
         "hoverinfo": "text",
         "marker": {
          "color": "rgb(35,205,205)"
         },
         "mode": "lines",
         "type": "scatter",
         "x": [
          1515,
          1515,
          1525,
          1525
         ],
         "xaxis": "x",
         "y": [
          0,
          2.2210895688322463,
          2.2210895688322463,
          0
         ],
         "yaxis": "y"
        },
        {
         "hoverinfo": "text",
         "marker": {
          "color": "rgb(35,205,205)"
         },
         "mode": "lines",
         "type": "scatter",
         "x": [
          1505,
          1505,
          1520,
          1520
         ],
         "xaxis": "x",
         "y": [
          0,
          2.880482964398465,
          2.880482964398465,
          2.2210895688322463
         ],
         "yaxis": "y"
        },
        {
         "hoverinfo": "text",
         "marker": {
          "color": "rgb(35,205,205)"
         },
         "mode": "lines",
         "type": "scatter",
         "x": [
          1490,
          1490,
          1512.5,
          1512.5
         ],
         "xaxis": "x",
         "y": [
          2.765618588919533,
          3.388181275819666,
          3.388181275819666,
          2.880482964398465
         ],
         "yaxis": "y"
        },
        {
         "hoverinfo": "text",
         "marker": {
          "color": "rgb(35,205,205)"
         },
         "mode": "lines",
         "type": "scatter",
         "x": [
          1462.5,
          1462.5,
          1501.25,
          1501.25
         ],
         "xaxis": "x",
         "y": [
          2.903135327778354,
          4.173879908348478,
          4.173879908348478,
          3.388181275819666
         ],
         "yaxis": "y"
        },
        {
         "hoverinfo": "text",
         "marker": {
          "color": "rgb(35,205,205)"
         },
         "mode": "lines",
         "type": "scatter",
         "x": [
          1545,
          1545,
          1555,
          1555
         ],
         "xaxis": "x",
         "y": [
          0,
          3.1100328351146356,
          3.1100328351146356,
          0
         ],
         "yaxis": "y"
        },
        {
         "hoverinfo": "text",
         "marker": {
          "color": "rgb(35,205,205)"
         },
         "mode": "lines",
         "type": "scatter",
         "x": [
          1585,
          1585,
          1595,
          1595
         ],
         "xaxis": "x",
         "y": [
          0,
          2.32000683133649,
          2.32000683133649,
          0
         ],
         "yaxis": "y"
        },
        {
         "hoverinfo": "text",
         "marker": {
          "color": "rgb(35,205,205)"
         },
         "mode": "lines",
         "type": "scatter",
         "x": [
          1575,
          1575,
          1590,
          1590
         ],
         "xaxis": "x",
         "y": [
          0,
          2.8555313583709743,
          2.8555313583709743,
          2.32000683133649
         ],
         "yaxis": "y"
        },
        {
         "hoverinfo": "text",
         "marker": {
          "color": "rgb(35,205,205)"
         },
         "mode": "lines",
         "type": "scatter",
         "x": [
          1565,
          1565,
          1582.5,
          1582.5
         ],
         "xaxis": "x",
         "y": [
          0,
          3.6766553096587784,
          3.6766553096587784,
          2.8555313583709743
         ],
         "yaxis": "y"
        },
        {
         "hoverinfo": "text",
         "marker": {
          "color": "rgb(35,205,205)"
         },
         "mode": "lines",
         "type": "scatter",
         "x": [
          1550,
          1550,
          1573.75,
          1573.75
         ],
         "xaxis": "x",
         "y": [
          3.1100328351146356,
          4.066875715880461,
          4.066875715880461,
          3.6766553096587784
         ],
         "yaxis": "y"
        },
        {
         "hoverinfo": "text",
         "marker": {
          "color": "rgb(35,205,205)"
         },
         "mode": "lines",
         "type": "scatter",
         "x": [
          1535,
          1535,
          1561.875,
          1561.875
         ],
         "xaxis": "x",
         "y": [
          0,
          4.468835239844526,
          4.468835239844526,
          4.066875715880461
         ],
         "yaxis": "y"
        },
        {
         "hoverinfo": "text",
         "marker": {
          "color": "rgb(35,205,205)"
         },
         "mode": "lines",
         "type": "scatter",
         "x": [
          1481.875,
          1481.875,
          1548.4375,
          1548.4375
         ],
         "xaxis": "x",
         "y": [
          4.173879908348478,
          5.364812573302412,
          5.364812573302412,
          4.468835239844526
         ],
         "yaxis": "y"
        },
        {
         "hoverinfo": "text",
         "marker": {
          "color": "rgb(35,205,205)"
         },
         "mode": "lines",
         "type": "scatter",
         "x": [
          1605,
          1605,
          1615,
          1615
         ],
         "xaxis": "x",
         "y": [
          0,
          3.190882849225537,
          3.190882849225537,
          0
         ],
         "yaxis": "y"
        },
        {
         "hoverinfo": "text",
         "marker": {
          "color": "rgb(35,205,205)"
         },
         "mode": "lines",
         "type": "scatter",
         "x": [
          1635,
          1635,
          1645,
          1645
         ],
         "xaxis": "x",
         "y": [
          0,
          2.023837381853308,
          2.023837381853308,
          0
         ],
         "yaxis": "y"
        },
        {
         "hoverinfo": "text",
         "marker": {
          "color": "rgb(35,205,205)"
         },
         "mode": "lines",
         "type": "scatter",
         "x": [
          1625,
          1625,
          1640,
          1640
         ],
         "xaxis": "x",
         "y": [
          0,
          2.321947159540832,
          2.321947159540832,
          2.023837381853308
         ],
         "yaxis": "y"
        },
        {
         "hoverinfo": "text",
         "marker": {
          "color": "rgb(35,205,205)"
         },
         "mode": "lines",
         "type": "scatter",
         "x": [
          1655,
          1655,
          1665,
          1665
         ],
         "xaxis": "x",
         "y": [
          0,
          2.4515412374813503,
          2.4515412374813503,
          0
         ],
         "yaxis": "y"
        },
        {
         "hoverinfo": "text",
         "marker": {
          "color": "rgb(35,205,205)"
         },
         "mode": "lines",
         "type": "scatter",
         "x": [
          1632.5,
          1632.5,
          1660,
          1660
         ],
         "xaxis": "x",
         "y": [
          2.321947159540832,
          3.444581068624301,
          3.444581068624301,
          2.4515412374813503
         ],
         "yaxis": "y"
        },
        {
         "hoverinfo": "text",
         "marker": {
          "color": "rgb(35,205,205)"
         },
         "mode": "lines",
         "type": "scatter",
         "x": [
          1610,
          1610,
          1646.25,
          1646.25
         ],
         "xaxis": "x",
         "y": [
          3.190882849225537,
          3.9299903260046585,
          3.9299903260046585,
          3.444581068624301
         ],
         "yaxis": "y"
        },
        {
         "hoverinfo": "text",
         "marker": {
          "color": "rgb(35,205,205)"
         },
         "mode": "lines",
         "type": "scatter",
         "x": [
          1695,
          1695,
          1705,
          1705
         ],
         "xaxis": "x",
         "y": [
          0,
          2.036375392462135,
          2.036375392462135,
          0
         ],
         "yaxis": "y"
        },
        {
         "hoverinfo": "text",
         "marker": {
          "color": "rgb(35,205,205)"
         },
         "mode": "lines",
         "type": "scatter",
         "x": [
          1685,
          1685,
          1700,
          1700
         ],
         "xaxis": "x",
         "y": [
          0,
          3.254343029083454,
          3.254343029083454,
          2.036375392462135
         ],
         "yaxis": "y"
        },
        {
         "hoverinfo": "text",
         "marker": {
          "color": "rgb(35,205,205)"
         },
         "mode": "lines",
         "type": "scatter",
         "x": [
          1675,
          1675,
          1692.5,
          1692.5
         ],
         "xaxis": "x",
         "y": [
          0,
          4.1988073594105995,
          4.1988073594105995,
          3.254343029083454
         ],
         "yaxis": "y"
        },
        {
         "hoverinfo": "text",
         "marker": {
          "color": "rgb(35,205,205)"
         },
         "mode": "lines",
         "type": "scatter",
         "x": [
          1628.125,
          1628.125,
          1683.75,
          1683.75
         ],
         "xaxis": "x",
         "y": [
          3.9299903260046585,
          4.928978960602788,
          4.928978960602788,
          4.1988073594105995
         ],
         "yaxis": "y"
        },
        {
         "hoverinfo": "text",
         "marker": {
          "color": "rgb(35,205,205)"
         },
         "mode": "lines",
         "type": "scatter",
         "x": [
          1735,
          1735,
          1745,
          1745
         ],
         "xaxis": "x",
         "y": [
          0,
          2.2233701612489836,
          2.2233701612489836,
          0
         ],
         "yaxis": "y"
        },
        {
         "hoverinfo": "text",
         "marker": {
          "color": "rgb(35,205,205)"
         },
         "mode": "lines",
         "type": "scatter",
         "x": [
          1725,
          1725,
          1740,
          1740
         ],
         "xaxis": "x",
         "y": [
          0,
          2.7044602320075,
          2.7044602320075,
          2.2233701612489836
         ],
         "yaxis": "y"
        },
        {
         "hoverinfo": "text",
         "marker": {
          "color": "rgb(35,205,205)"
         },
         "mode": "lines",
         "type": "scatter",
         "x": [
          1715,
          1715,
          1732.5,
          1732.5
         ],
         "xaxis": "x",
         "y": [
          0,
          3.690094344690455,
          3.690094344690455,
          2.7044602320075
         ],
         "yaxis": "y"
        },
        {
         "hoverinfo": "text",
         "marker": {
          "color": "rgb(35,205,205)"
         },
         "mode": "lines",
         "type": "scatter",
         "x": [
          1765,
          1765,
          1775,
          1775
         ],
         "xaxis": "x",
         "y": [
          0,
          1.6715278909644558,
          1.6715278909644558,
          0
         ],
         "yaxis": "y"
        },
        {
         "hoverinfo": "text",
         "marker": {
          "color": "rgb(35,205,205)"
         },
         "mode": "lines",
         "type": "scatter",
         "x": [
          1755,
          1755,
          1770,
          1770
         ],
         "xaxis": "x",
         "y": [
          0,
          2.4941054474071724,
          2.4941054474071724,
          1.6715278909644558
         ],
         "yaxis": "y"
        },
        {
         "hoverinfo": "text",
         "marker": {
          "color": "rgb(35,205,205)"
         },
         "mode": "lines",
         "type": "scatter",
         "x": [
          1795,
          1795,
          1805,
          1805
         ],
         "xaxis": "x",
         "y": [
          0,
          2.6759960290505083,
          2.6759960290505083,
          0
         ],
         "yaxis": "y"
        },
        {
         "hoverinfo": "text",
         "marker": {
          "color": "rgb(35,205,205)"
         },
         "mode": "lines",
         "type": "scatter",
         "x": [
          1785,
          1785,
          1800,
          1800
         ],
         "xaxis": "x",
         "y": [
          0,
          2.9125909227489215,
          2.9125909227489215,
          2.6759960290505083
         ],
         "yaxis": "y"
        },
        {
         "hoverinfo": "text",
         "marker": {
          "color": "rgb(35,205,205)"
         },
         "mode": "lines",
         "type": "scatter",
         "x": [
          1762.5,
          1762.5,
          1792.5,
          1792.5
         ],
         "xaxis": "x",
         "y": [
          2.4941054474071724,
          3.7623555220142917,
          3.7623555220142917,
          2.9125909227489215
         ],
         "yaxis": "y"
        },
        {
         "hoverinfo": "text",
         "marker": {
          "color": "rgb(35,205,205)"
         },
         "mode": "lines",
         "type": "scatter",
         "x": [
          1723.75,
          1723.75,
          1777.5,
          1777.5
         ],
         "xaxis": "x",
         "y": [
          3.690094344690455,
          4.3868594950605395,
          4.3868594950605395,
          3.7623555220142917
         ],
         "yaxis": "y"
        },
        {
         "hoverinfo": "text",
         "marker": {
          "color": "rgb(35,205,205)"
         },
         "mode": "lines",
         "type": "scatter",
         "x": [
          1825,
          1825,
          1835,
          1835
         ],
         "xaxis": "x",
         "y": [
          0,
          2.8587968194545277,
          2.8587968194545277,
          0
         ],
         "yaxis": "y"
        },
        {
         "hoverinfo": "text",
         "marker": {
          "color": "rgb(35,205,205)"
         },
         "mode": "lines",
         "type": "scatter",
         "x": [
          1815,
          1815,
          1830,
          1830
         ],
         "xaxis": "x",
         "y": [
          0,
          3.569438570175699,
          3.569438570175699,
          2.8587968194545277
         ],
         "yaxis": "y"
        },
        {
         "hoverinfo": "text",
         "marker": {
          "color": "rgb(35,205,205)"
         },
         "mode": "lines",
         "type": "scatter",
         "x": [
          1845,
          1845,
          1855,
          1855
         ],
         "xaxis": "x",
         "y": [
          0,
          3.668044370789473,
          3.668044370789473,
          0
         ],
         "yaxis": "y"
        },
        {
         "hoverinfo": "text",
         "marker": {
          "color": "rgb(35,205,205)"
         },
         "mode": "lines",
         "type": "scatter",
         "x": [
          1822.5,
          1822.5,
          1850,
          1850
         ],
         "xaxis": "x",
         "y": [
          3.569438570175699,
          4.60408798492018,
          4.60408798492018,
          3.668044370789473
         ],
         "yaxis": "y"
        },
        {
         "hoverinfo": "text",
         "marker": {
          "color": "rgb(35,205,205)"
         },
         "mode": "lines",
         "type": "scatter",
         "x": [
          1750.625,
          1750.625,
          1836.25,
          1836.25
         ],
         "xaxis": "x",
         "y": [
          4.3868594950605395,
          6.02469150717799,
          6.02469150717799,
          4.60408798492018
         ],
         "yaxis": "y"
        },
        {
         "hoverinfo": "text",
         "marker": {
          "color": "rgb(35,205,205)"
         },
         "mode": "lines",
         "type": "scatter",
         "x": [
          1655.9375,
          1655.9375,
          1793.4375,
          1793.4375
         ],
         "xaxis": "x",
         "y": [
          4.928978960602788,
          6.460061417113037,
          6.460061417113037,
          6.02469150717799
         ],
         "yaxis": "y"
        },
        {
         "hoverinfo": "text",
         "marker": {
          "color": "rgb(35,205,205)"
         },
         "mode": "lines",
         "type": "scatter",
         "x": [
          1515.15625,
          1515.15625,
          1724.6875,
          1724.6875
         ],
         "xaxis": "x",
         "y": [
          5.364812573302412,
          6.823584199143133,
          6.823584199143133,
          6.460061417113037
         ],
         "yaxis": "y"
        },
        {
         "hoverinfo": "text",
         "marker": {
          "color": "rgb(35,205,205)"
         },
         "mode": "lines",
         "type": "scatter",
         "x": [
          1430,
          1430,
          1619.921875,
          1619.921875
         ],
         "xaxis": "x",
         "y": [
          6.528016594120634,
          8.27231225235473,
          8.27231225235473,
          6.823584199143133
         ],
         "yaxis": "y"
        },
        {
         "hoverinfo": "text",
         "marker": {
          "color": "rgb(35,205,205)"
         },
         "mode": "lines",
         "type": "scatter",
         "x": [
          1355.9375,
          1355.9375,
          1524.9609375,
          1524.9609375
         ],
         "xaxis": "x",
         "y": [
          8.147644329929735,
          9.491796033957037,
          9.491796033957037,
          8.27231225235473
         ],
         "yaxis": "y"
        },
        {
         "hoverinfo": "text",
         "marker": {
          "color": "rgb(35,205,205)"
         },
         "mode": "lines",
         "type": "scatter",
         "x": [
          1305,
          1305,
          1440.44921875,
          1440.44921875
         ],
         "xaxis": "x",
         "y": [
          5.3175894760295215,
          11.110171777080152,
          11.110171777080152,
          9.491796033957037
         ],
         "yaxis": "y"
        },
        {
         "hoverinfo": "text",
         "marker": {
          "color": "rgb(35,205,205)"
         },
         "mode": "lines",
         "type": "scatter",
         "x": [
          1135.859375,
          1135.859375,
          1372.724609375,
          1372.724609375
         ],
         "xaxis": "x",
         "y": [
          10.449368086927626,
          13.054422660770108,
          13.054422660770108,
          11.110171777080152
         ],
         "yaxis": "y"
        },
        {
         "hoverinfo": "text",
         "marker": {
          "color": "rgb(35,205,205)"
         },
         "mode": "lines",
         "type": "scatter",
         "x": [
          552.9296875,
          552.9296875,
          1254.2919921875,
          1254.2919921875
         ],
         "xaxis": "x",
         "y": [
          12.317817208219068,
          14.972631863255245,
          14.972631863255245,
          13.054422660770108
         ],
         "yaxis": "y"
        },
        {
         "hoverinfo": "text",
         "marker": {
          "color": "rgb(133,20,75)"
         },
         "mode": "lines",
         "type": "scatter",
         "x": [
          1885,
          1885,
          1895,
          1895
         ],
         "xaxis": "x",
         "y": [
          0,
          2.518011281181264,
          2.518011281181264,
          0
         ],
         "yaxis": "y"
        },
        {
         "hoverinfo": "text",
         "marker": {
          "color": "rgb(133,20,75)"
         },
         "mode": "lines",
         "type": "scatter",
         "x": [
          1875,
          1875,
          1890,
          1890
         ],
         "xaxis": "x",
         "y": [
          0,
          4.0004648154724585,
          4.0004648154724585,
          2.518011281181264
         ],
         "yaxis": "y"
        },
        {
         "hoverinfo": "text",
         "marker": {
          "color": "rgb(133,20,75)"
         },
         "mode": "lines",
         "type": "scatter",
         "x": [
          1865,
          1865,
          1882.5,
          1882.5
         ],
         "xaxis": "x",
         "y": [
          0,
          5.013823016943404,
          5.013823016943404,
          4.0004648154724585
         ],
         "yaxis": "y"
        },
        {
         "hoverinfo": "text",
         "marker": {
          "color": "rgb(133,20,75)"
         },
         "mode": "lines",
         "type": "scatter",
         "x": [
          1905,
          1905,
          1915,
          1915
         ],
         "xaxis": "x",
         "y": [
          0,
          2.463360732223187,
          2.463360732223187,
          0
         ],
         "yaxis": "y"
        },
        {
         "hoverinfo": "text",
         "marker": {
          "color": "rgb(133,20,75)"
         },
         "mode": "lines",
         "type": "scatter",
         "x": [
          1935,
          1935,
          1945,
          1945
         ],
         "xaxis": "x",
         "y": [
          0,
          1.8164876416250026,
          1.8164876416250026,
          0
         ],
         "yaxis": "y"
        },
        {
         "hoverinfo": "text",
         "marker": {
          "color": "rgb(133,20,75)"
         },
         "mode": "lines",
         "type": "scatter",
         "x": [
          1925,
          1925,
          1940,
          1940
         ],
         "xaxis": "x",
         "y": [
          0,
          2.691899848866266,
          2.691899848866266,
          1.8164876416250026
         ],
         "yaxis": "y"
        },
        {
         "hoverinfo": "text",
         "marker": {
          "color": "rgb(133,20,75)"
         },
         "mode": "lines",
         "type": "scatter",
         "x": [
          1910,
          1910,
          1932.5,
          1932.5
         ],
         "xaxis": "x",
         "y": [
          2.463360732223187,
          3.948555718353097,
          3.948555718353097,
          2.691899848866266
         ],
         "yaxis": "y"
        },
        {
         "hoverinfo": "text",
         "marker": {
          "color": "rgb(133,20,75)"
         },
         "mode": "lines",
         "type": "scatter",
         "x": [
          1955,
          1955,
          1965,
          1965
         ],
         "xaxis": "x",
         "y": [
          0,
          2.722030048048498,
          2.722030048048498,
          0
         ],
         "yaxis": "y"
        },
        {
         "hoverinfo": "text",
         "marker": {
          "color": "rgb(133,20,75)"
         },
         "mode": "lines",
         "type": "scatter",
         "x": [
          1995,
          1995,
          2005,
          2005
         ],
         "xaxis": "x",
         "y": [
          0,
          1.8934628473963426,
          1.8934628473963426,
          0
         ],
         "yaxis": "y"
        },
        {
         "hoverinfo": "text",
         "marker": {
          "color": "rgb(133,20,75)"
         },
         "mode": "lines",
         "type": "scatter",
         "x": [
          1985,
          1985,
          2000,
          2000
         ],
         "xaxis": "x",
         "y": [
          0,
          2.2621774645929036,
          2.2621774645929036,
          1.8934628473963426
         ],
         "yaxis": "y"
        },
        {
         "hoverinfo": "text",
         "marker": {
          "color": "rgb(133,20,75)"
         },
         "mode": "lines",
         "type": "scatter",
         "x": [
          1975,
          1975,
          1992.5,
          1992.5
         ],
         "xaxis": "x",
         "y": [
          0,
          2.9997242506379185,
          2.9997242506379185,
          2.2621774645929036
         ],
         "yaxis": "y"
        },
        {
         "hoverinfo": "text",
         "marker": {
          "color": "rgb(133,20,75)"
         },
         "mode": "lines",
         "type": "scatter",
         "x": [
          1960,
          1960,
          1983.75,
          1983.75
         ],
         "xaxis": "x",
         "y": [
          2.722030048048498,
          4.133107692627803,
          4.133107692627803,
          2.9997242506379185
         ],
         "yaxis": "y"
        },
        {
         "hoverinfo": "text",
         "marker": {
          "color": "rgb(133,20,75)"
         },
         "mode": "lines",
         "type": "scatter",
         "x": [
          1921.25,
          1921.25,
          1971.875,
          1971.875
         ],
         "xaxis": "x",
         "y": [
          3.948555718353097,
          5.090065385600562,
          5.090065385600562,
          4.133107692627803
         ],
         "yaxis": "y"
        },
        {
         "hoverinfo": "text",
         "marker": {
          "color": "rgb(133,20,75)"
         },
         "mode": "lines",
         "type": "scatter",
         "x": [
          1873.75,
          1873.75,
          1946.5625,
          1946.5625
         ],
         "xaxis": "x",
         "y": [
          5.013823016943404,
          6.534977182797628,
          6.534977182797628,
          5.090065385600562
         ],
         "yaxis": "y"
        },
        {
         "hoverinfo": "text",
         "marker": {
          "color": "rgb(133,20,75)"
         },
         "mode": "lines",
         "type": "scatter",
         "x": [
          2015,
          2015,
          2025,
          2025
         ],
         "xaxis": "x",
         "y": [
          0,
          1.6673781208233096,
          1.6673781208233096,
          0
         ],
         "yaxis": "y"
        },
        {
         "hoverinfo": "text",
         "marker": {
          "color": "rgb(133,20,75)"
         },
         "mode": "lines",
         "type": "scatter",
         "x": [
          2035,
          2035,
          2045,
          2045
         ],
         "xaxis": "x",
         "y": [
          0,
          2.078000786201295,
          2.078000786201295,
          0
         ],
         "yaxis": "y"
        },
        {
         "hoverinfo": "text",
         "marker": {
          "color": "rgb(133,20,75)"
         },
         "mode": "lines",
         "type": "scatter",
         "x": [
          2020,
          2020,
          2040,
          2040
         ],
         "xaxis": "x",
         "y": [
          1.6673781208233096,
          2.730842958635528,
          2.730842958635528,
          2.078000786201295
         ],
         "yaxis": "y"
        },
        {
         "hoverinfo": "text",
         "marker": {
          "color": "rgb(133,20,75)"
         },
         "mode": "lines",
         "type": "scatter",
         "x": [
          2065,
          2065,
          2075,
          2075
         ],
         "xaxis": "x",
         "y": [
          0,
          2.199219060970661,
          2.199219060970661,
          0
         ],
         "yaxis": "y"
        },
        {
         "hoverinfo": "text",
         "marker": {
          "color": "rgb(133,20,75)"
         },
         "mode": "lines",
         "type": "scatter",
         "x": [
          2055,
          2055,
          2070,
          2070
         ],
         "xaxis": "x",
         "y": [
          0,
          2.869665429591883,
          2.869665429591883,
          2.199219060970661
         ],
         "yaxis": "y"
        },
        {
         "hoverinfo": "text",
         "marker": {
          "color": "rgb(133,20,75)"
         },
         "mode": "lines",
         "type": "scatter",
         "x": [
          2095,
          2095,
          2105,
          2105
         ],
         "xaxis": "x",
         "y": [
          0,
          1.7683582244888654,
          1.7683582244888654,
          0
         ],
         "yaxis": "y"
        },
        {
         "hoverinfo": "text",
         "marker": {
          "color": "rgb(133,20,75)"
         },
         "mode": "lines",
         "type": "scatter",
         "x": [
          2085,
          2085,
          2100,
          2100
         ],
         "xaxis": "x",
         "y": [
          0,
          2.7030552676607456,
          2.7030552676607456,
          1.7683582244888654
         ],
         "yaxis": "y"
        },
        {
         "hoverinfo": "text",
         "marker": {
          "color": "rgb(133,20,75)"
         },
         "mode": "lines",
         "type": "scatter",
         "x": [
          2135,
          2135,
          2145,
          2145
         ],
         "xaxis": "x",
         "y": [
          0,
          2.1194800352419656,
          2.1194800352419656,
          0
         ],
         "yaxis": "y"
        },
        {
         "hoverinfo": "text",
         "marker": {
          "color": "rgb(133,20,75)"
         },
         "mode": "lines",
         "type": "scatter",
         "x": [
          2125,
          2125,
          2140,
          2140
         ],
         "xaxis": "x",
         "y": [
          0,
          2.308053396658378,
          2.308053396658378,
          2.1194800352419656
         ],
         "yaxis": "y"
        },
        {
         "hoverinfo": "text",
         "marker": {
          "color": "rgb(133,20,75)"
         },
         "mode": "lines",
         "type": "scatter",
         "x": [
          2115,
          2115,
          2132.5,
          2132.5
         ],
         "xaxis": "x",
         "y": [
          0,
          2.958886442258585,
          2.958886442258585,
          2.308053396658378
         ],
         "yaxis": "y"
        },
        {
         "hoverinfo": "text",
         "marker": {
          "color": "rgb(133,20,75)"
         },
         "mode": "lines",
         "type": "scatter",
         "x": [
          2092.5,
          2092.5,
          2123.75,
          2123.75
         ],
         "xaxis": "x",
         "y": [
          2.7030552676607456,
          3.649901603344626,
          3.649901603344626,
          2.958886442258585
         ],
         "yaxis": "y"
        },
        {
         "hoverinfo": "text",
         "marker": {
          "color": "rgb(133,20,75)"
         },
         "mode": "lines",
         "type": "scatter",
         "x": [
          2062.5,
          2062.5,
          2108.125,
          2108.125
         ],
         "xaxis": "x",
         "y": [
          2.869665429591883,
          4.365051262754256,
          4.365051262754256,
          3.649901603344626
         ],
         "yaxis": "y"
        },
        {
         "hoverinfo": "text",
         "marker": {
          "color": "rgb(133,20,75)"
         },
         "mode": "lines",
         "type": "scatter",
         "x": [
          2030,
          2030,
          2085.3125,
          2085.3125
         ],
         "xaxis": "x",
         "y": [
          2.730842958635528,
          4.749425634125726,
          4.749425634125726,
          4.365051262754256
         ],
         "yaxis": "y"
        },
        {
         "hoverinfo": "text",
         "marker": {
          "color": "rgb(133,20,75)"
         },
         "mode": "lines",
         "type": "scatter",
         "x": [
          2175,
          2175,
          2185,
          2185
         ],
         "xaxis": "x",
         "y": [
          0,
          1.881733137563671,
          1.881733137563671,
          0
         ],
         "yaxis": "y"
        },
        {
         "hoverinfo": "text",
         "marker": {
          "color": "rgb(133,20,75)"
         },
         "mode": "lines",
         "type": "scatter",
         "x": [
          2165,
          2165,
          2180,
          2180
         ],
         "xaxis": "x",
         "y": [
          0,
          2.085723962762716,
          2.085723962762716,
          1.881733137563671
         ],
         "yaxis": "y"
        },
        {
         "hoverinfo": "text",
         "marker": {
          "color": "rgb(133,20,75)"
         },
         "mode": "lines",
         "type": "scatter",
         "x": [
          2155,
          2155,
          2172.5,
          2172.5
         ],
         "xaxis": "x",
         "y": [
          0,
          2.789992705369029,
          2.789992705369029,
          2.085723962762716
         ],
         "yaxis": "y"
        },
        {
         "hoverinfo": "text",
         "marker": {
          "color": "rgb(133,20,75)"
         },
         "mode": "lines",
         "type": "scatter",
         "x": [
          2205,
          2205,
          2215,
          2215
         ],
         "xaxis": "x",
         "y": [
          0,
          1.7134630268894195,
          1.7134630268894195,
          0
         ],
         "yaxis": "y"
        },
        {
         "hoverinfo": "text",
         "marker": {
          "color": "rgb(133,20,75)"
         },
         "mode": "lines",
         "type": "scatter",
         "x": [
          2195,
          2195,
          2210,
          2210
         ],
         "xaxis": "x",
         "y": [
          0,
          1.8246369296214275,
          1.8246369296214275,
          1.7134630268894195
         ],
         "yaxis": "y"
        },
        {
         "hoverinfo": "text",
         "marker": {
          "color": "rgb(133,20,75)"
         },
         "mode": "lines",
         "type": "scatter",
         "x": [
          2225,
          2225,
          2235,
          2235
         ],
         "xaxis": "x",
         "y": [
          0,
          1.3833477922443937,
          1.3833477922443937,
          0
         ],
         "yaxis": "y"
        },
        {
         "hoverinfo": "text",
         "marker": {
          "color": "rgb(133,20,75)"
         },
         "mode": "lines",
         "type": "scatter",
         "x": [
          2245,
          2245,
          2255,
          2255
         ],
         "xaxis": "x",
         "y": [
          0,
          1.7689772615395492,
          1.7689772615395492,
          0
         ],
         "yaxis": "y"
        },
        {
         "hoverinfo": "text",
         "marker": {
          "color": "rgb(133,20,75)"
         },
         "mode": "lines",
         "type": "scatter",
         "x": [
          2230,
          2230,
          2250,
          2250
         ],
         "xaxis": "x",
         "y": [
          1.3833477922443937,
          2.1336751313070694,
          2.1336751313070694,
          1.7689772615395492
         ],
         "yaxis": "y"
        },
        {
         "hoverinfo": "text",
         "marker": {
          "color": "rgb(133,20,75)"
         },
         "mode": "lines",
         "type": "scatter",
         "x": [
          2202.5,
          2202.5,
          2240,
          2240
         ],
         "xaxis": "x",
         "y": [
          1.8246369296214275,
          2.702647870625433,
          2.702647870625433,
          2.1336751313070694
         ],
         "yaxis": "y"
        },
        {
         "hoverinfo": "text",
         "marker": {
          "color": "rgb(133,20,75)"
         },
         "mode": "lines",
         "type": "scatter",
         "x": [
          2265,
          2265,
          2275,
          2275
         ],
         "xaxis": "x",
         "y": [
          0,
          1.9479920467962886,
          1.9479920467962886,
          0
         ],
         "yaxis": "y"
        },
        {
         "hoverinfo": "text",
         "marker": {
          "color": "rgb(133,20,75)"
         },
         "mode": "lines",
         "type": "scatter",
         "x": [
          2295,
          2295,
          2305,
          2305
         ],
         "xaxis": "x",
         "y": [
          0,
          1.7390804057077414,
          1.7390804057077414,
          0
         ],
         "yaxis": "y"
        },
        {
         "hoverinfo": "text",
         "marker": {
          "color": "rgb(133,20,75)"
         },
         "mode": "lines",
         "type": "scatter",
         "x": [
          2285,
          2285,
          2300,
          2300
         ],
         "xaxis": "x",
         "y": [
          0,
          2.525037323645241,
          2.525037323645241,
          1.7390804057077414
         ],
         "yaxis": "y"
        },
        {
         "hoverinfo": "text",
         "marker": {
          "color": "rgb(133,20,75)"
         },
         "mode": "lines",
         "type": "scatter",
         "x": [
          2270,
          2270,
          2292.5,
          2292.5
         ],
         "xaxis": "x",
         "y": [
          1.9479920467962886,
          2.849673646913515,
          2.849673646913515,
          2.525037323645241
         ],
         "yaxis": "y"
        },
        {
         "hoverinfo": "text",
         "marker": {
          "color": "rgb(133,20,75)"
         },
         "mode": "lines",
         "type": "scatter",
         "x": [
          2221.25,
          2221.25,
          2281.25,
          2281.25
         ],
         "xaxis": "x",
         "y": [
          2.702647870625433,
          3.35528589921667,
          3.35528589921667,
          2.849673646913515
         ],
         "yaxis": "y"
        },
        {
         "hoverinfo": "text",
         "marker": {
          "color": "rgb(133,20,75)"
         },
         "mode": "lines",
         "type": "scatter",
         "x": [
          2163.75,
          2163.75,
          2251.25,
          2251.25
         ],
         "xaxis": "x",
         "y": [
          2.789992705369029,
          4.072040788904394,
          4.072040788904394,
          3.35528589921667
         ],
         "yaxis": "y"
        },
        {
         "hoverinfo": "text",
         "marker": {
          "color": "rgb(133,20,75)"
         },
         "mode": "lines",
         "type": "scatter",
         "x": [
          2325,
          2325,
          2335,
          2335
         ],
         "xaxis": "x",
         "y": [
          0,
          2.5006569015950704,
          2.5006569015950704,
          0
         ],
         "yaxis": "y"
        },
        {
         "hoverinfo": "text",
         "marker": {
          "color": "rgb(133,20,75)"
         },
         "mode": "lines",
         "type": "scatter",
         "x": [
          2345,
          2345,
          2355,
          2355
         ],
         "xaxis": "x",
         "y": [
          0,
          1.5941507481372534,
          1.5941507481372534,
          0
         ],
         "yaxis": "y"
        },
        {
         "hoverinfo": "text",
         "marker": {
          "color": "rgb(133,20,75)"
         },
         "mode": "lines",
         "type": "scatter",
         "x": [
          2365,
          2365,
          2375,
          2375
         ],
         "xaxis": "x",
         "y": [
          0,
          1.7527580446421578,
          1.7527580446421578,
          0
         ],
         "yaxis": "y"
        },
        {
         "hoverinfo": "text",
         "marker": {
          "color": "rgb(133,20,75)"
         },
         "mode": "lines",
         "type": "scatter",
         "x": [
          2350,
          2350,
          2370,
          2370
         ],
         "xaxis": "x",
         "y": [
          1.5941507481372534,
          2.652953152464317,
          2.652953152464317,
          1.7527580446421578
         ],
         "yaxis": "y"
        },
        {
         "hoverinfo": "text",
         "marker": {
          "color": "rgb(133,20,75)"
         },
         "mode": "lines",
         "type": "scatter",
         "x": [
          2330,
          2330,
          2360,
          2360
         ],
         "xaxis": "x",
         "y": [
          2.5006569015950704,
          3.0750986370684297,
          3.0750986370684297,
          2.652953152464317
         ],
         "yaxis": "y"
        },
        {
         "hoverinfo": "text",
         "marker": {
          "color": "rgb(133,20,75)"
         },
         "mode": "lines",
         "type": "scatter",
         "x": [
          2315,
          2315,
          2345,
          2345
         ],
         "xaxis": "x",
         "y": [
          0,
          4.606275166346189,
          4.606275166346189,
          3.0750986370684297
         ],
         "yaxis": "y"
        },
        {
         "hoverinfo": "text",
         "marker": {
          "color": "rgb(133,20,75)"
         },
         "mode": "lines",
         "type": "scatter",
         "x": [
          2207.5,
          2207.5,
          2330,
          2330
         ],
         "xaxis": "x",
         "y": [
          4.072040788904394,
          4.93686485722742,
          4.93686485722742,
          4.606275166346189
         ],
         "yaxis": "y"
        },
        {
         "hoverinfo": "text",
         "marker": {
          "color": "rgb(133,20,75)"
         },
         "mode": "lines",
         "type": "scatter",
         "x": [
          2057.65625,
          2057.65625,
          2268.75,
          2268.75
         ],
         "xaxis": "x",
         "y": [
          4.749425634125726,
          5.631288885435185,
          5.631288885435185,
          4.93686485722742
         ],
         "yaxis": "y"
        },
        {
         "hoverinfo": "text",
         "marker": {
          "color": "rgb(133,20,75)"
         },
         "mode": "lines",
         "type": "scatter",
         "x": [
          2385,
          2385,
          2395,
          2395
         ],
         "xaxis": "x",
         "y": [
          0,
          3.168589163687424,
          3.168589163687424,
          0
         ],
         "yaxis": "y"
        },
        {
         "hoverinfo": "text",
         "marker": {
          "color": "rgb(133,20,75)"
         },
         "mode": "lines",
         "type": "scatter",
         "x": [
          2415,
          2415,
          2425,
          2425
         ],
         "xaxis": "x",
         "y": [
          0,
          1.928158858459444,
          1.928158858459444,
          0
         ],
         "yaxis": "y"
        },
        {
         "hoverinfo": "text",
         "marker": {
          "color": "rgb(133,20,75)"
         },
         "mode": "lines",
         "type": "scatter",
         "x": [
          2405,
          2405,
          2420,
          2420
         ],
         "xaxis": "x",
         "y": [
          0,
          2.220843991637535,
          2.220843991637535,
          1.928158858459444
         ],
         "yaxis": "y"
        },
        {
         "hoverinfo": "text",
         "marker": {
          "color": "rgb(133,20,75)"
         },
         "mode": "lines",
         "type": "scatter",
         "x": [
          2435,
          2435,
          2445,
          2445
         ],
         "xaxis": "x",
         "y": [
          0,
          2.4902642226084493,
          2.4902642226084493,
          0
         ],
         "yaxis": "y"
        },
        {
         "hoverinfo": "text",
         "marker": {
          "color": "rgb(133,20,75)"
         },
         "mode": "lines",
         "type": "scatter",
         "x": [
          2412.5,
          2412.5,
          2440,
          2440
         ],
         "xaxis": "x",
         "y": [
          2.220843991637535,
          3.1639530644358174,
          3.1639530644358174,
          2.4902642226084493
         ],
         "yaxis": "y"
        },
        {
         "hoverinfo": "text",
         "marker": {
          "color": "rgb(133,20,75)"
         },
         "mode": "lines",
         "type": "scatter",
         "x": [
          2465,
          2465,
          2475,
          2475
         ],
         "xaxis": "x",
         "y": [
          0,
          1.8733005062154584,
          1.8733005062154584,
          0
         ],
         "yaxis": "y"
        },
        {
         "hoverinfo": "text",
         "marker": {
          "color": "rgb(133,20,75)"
         },
         "mode": "lines",
         "type": "scatter",
         "x": [
          2455,
          2455,
          2470,
          2470
         ],
         "xaxis": "x",
         "y": [
          0,
          2.304009537093264,
          2.304009537093264,
          1.8733005062154584
         ],
         "yaxis": "y"
        },
        {
         "hoverinfo": "text",
         "marker": {
          "color": "rgb(133,20,75)"
         },
         "mode": "lines",
         "type": "scatter",
         "x": [
          2485,
          2485,
          2495,
          2495
         ],
         "xaxis": "x",
         "y": [
          0,
          2.4667201489362705,
          2.4667201489362705,
          0
         ],
         "yaxis": "y"
        },
        {
         "hoverinfo": "text",
         "marker": {
          "color": "rgb(133,20,75)"
         },
         "mode": "lines",
         "type": "scatter",
         "x": [
          2462.5,
          2462.5,
          2490,
          2490
         ],
         "xaxis": "x",
         "y": [
          2.304009537093264,
          3.569489015822835,
          3.569489015822835,
          2.4667201489362705
         ],
         "yaxis": "y"
        },
        {
         "hoverinfo": "text",
         "marker": {
          "color": "rgb(133,20,75)"
         },
         "mode": "lines",
         "type": "scatter",
         "x": [
          2426.25,
          2426.25,
          2476.25,
          2476.25
         ],
         "xaxis": "x",
         "y": [
          3.1639530644358174,
          3.7631188884445046,
          3.7631188884445046,
          3.569489015822835
         ],
         "yaxis": "y"
        },
        {
         "hoverinfo": "text",
         "marker": {
          "color": "rgb(133,20,75)"
         },
         "mode": "lines",
         "type": "scatter",
         "x": [
          2390,
          2390,
          2451.25,
          2451.25
         ],
         "xaxis": "x",
         "y": [
          3.168589163687424,
          5.0120317367400045,
          5.0120317367400045,
          3.7631188884445046
         ],
         "yaxis": "y"
        },
        {
         "hoverinfo": "text",
         "marker": {
          "color": "rgb(133,20,75)"
         },
         "mode": "lines",
         "type": "scatter",
         "x": [
          2525,
          2525,
          2535,
          2535
         ],
         "xaxis": "x",
         "y": [
          0,
          2.112803138688831,
          2.112803138688831,
          0
         ],
         "yaxis": "y"
        },
        {
         "hoverinfo": "text",
         "marker": {
          "color": "rgb(133,20,75)"
         },
         "mode": "lines",
         "type": "scatter",
         "x": [
          2515,
          2515,
          2530,
          2530
         ],
         "xaxis": "x",
         "y": [
          0,
          2.3338449428240313,
          2.3338449428240313,
          2.112803138688831
         ],
         "yaxis": "y"
        },
        {
         "hoverinfo": "text",
         "marker": {
          "color": "rgb(133,20,75)"
         },
         "mode": "lines",
         "type": "scatter",
         "x": [
          2505,
          2505,
          2522.5,
          2522.5
         ],
         "xaxis": "x",
         "y": [
          0,
          2.560538341466571,
          2.560538341466571,
          2.3338449428240313
         ],
         "yaxis": "y"
        },
        {
         "hoverinfo": "text",
         "marker": {
          "color": "rgb(133,20,75)"
         },
         "mode": "lines",
         "type": "scatter",
         "x": [
          2545,
          2545,
          2555,
          2555
         ],
         "xaxis": "x",
         "y": [
          0,
          2.752667111766734,
          2.752667111766734,
          0
         ],
         "yaxis": "y"
        },
        {
         "hoverinfo": "text",
         "marker": {
          "color": "rgb(133,20,75)"
         },
         "mode": "lines",
         "type": "scatter",
         "x": [
          2513.75,
          2513.75,
          2550,
          2550
         ],
         "xaxis": "x",
         "y": [
          2.560538341466571,
          3.0393925921214784,
          3.0393925921214784,
          2.752667111766734
         ],
         "yaxis": "y"
        },
        {
         "hoverinfo": "text",
         "marker": {
          "color": "rgb(133,20,75)"
         },
         "mode": "lines",
         "type": "scatter",
         "x": [
          2565,
          2565,
          2575,
          2575
         ],
         "xaxis": "x",
         "y": [
          0,
          2.162020640400963,
          2.162020640400963,
          0
         ],
         "yaxis": "y"
        },
        {
         "hoverinfo": "text",
         "marker": {
          "color": "rgb(133,20,75)"
         },
         "mode": "lines",
         "type": "scatter",
         "x": [
          2595,
          2595,
          2605,
          2605
         ],
         "xaxis": "x",
         "y": [
          0,
          1.783336238019376,
          1.783336238019376,
          0
         ],
         "yaxis": "y"
        },
        {
         "hoverinfo": "text",
         "marker": {
          "color": "rgb(133,20,75)"
         },
         "mode": "lines",
         "type": "scatter",
         "x": [
          2585,
          2585,
          2600,
          2600
         ],
         "xaxis": "x",
         "y": [
          0,
          2.6889304668819385,
          2.6889304668819385,
          1.783336238019376
         ],
         "yaxis": "y"
        },
        {
         "hoverinfo": "text",
         "marker": {
          "color": "rgb(133,20,75)"
         },
         "mode": "lines",
         "type": "scatter",
         "x": [
          2570,
          2570,
          2592.5,
          2592.5
         ],
         "xaxis": "x",
         "y": [
          2.162020640400963,
          3.293545081745676,
          3.293545081745676,
          2.6889304668819385
         ],
         "yaxis": "y"
        },
        {
         "hoverinfo": "text",
         "marker": {
          "color": "rgb(133,20,75)"
         },
         "mode": "lines",
         "type": "scatter",
         "x": [
          2531.875,
          2531.875,
          2581.25,
          2581.25
         ],
         "xaxis": "x",
         "y": [
          3.0393925921214784,
          4.364515496275486,
          4.364515496275486,
          3.293545081745676
         ],
         "yaxis": "y"
        },
        {
         "hoverinfo": "text",
         "marker": {
          "color": "rgb(133,20,75)"
         },
         "mode": "lines",
         "type": "scatter",
         "x": [
          2635,
          2635,
          2645,
          2645
         ],
         "xaxis": "x",
         "y": [
          0,
          1.669821430274538,
          1.669821430274538,
          0
         ],
         "yaxis": "y"
        },
        {
         "hoverinfo": "text",
         "marker": {
          "color": "rgb(133,20,75)"
         },
         "mode": "lines",
         "type": "scatter",
         "x": [
          2625,
          2625,
          2640,
          2640
         ],
         "xaxis": "x",
         "y": [
          0,
          2.5332079260252054,
          2.5332079260252054,
          1.669821430274538
         ],
         "yaxis": "y"
        },
        {
         "hoverinfo": "text",
         "marker": {
          "color": "rgb(133,20,75)"
         },
         "mode": "lines",
         "type": "scatter",
         "x": [
          2615,
          2615,
          2632.5,
          2632.5
         ],
         "xaxis": "x",
         "y": [
          0,
          2.7117186386217877,
          2.7117186386217877,
          2.5332079260252054
         ],
         "yaxis": "y"
        },
        {
         "hoverinfo": "text",
         "marker": {
          "color": "rgb(133,20,75)"
         },
         "mode": "lines",
         "type": "scatter",
         "x": [
          2655,
          2655,
          2665,
          2665
         ],
         "xaxis": "x",
         "y": [
          0,
          2.0915403952674105,
          2.0915403952674105,
          0
         ],
         "yaxis": "y"
        },
        {
         "hoverinfo": "text",
         "marker": {
          "color": "rgb(133,20,75)"
         },
         "mode": "lines",
         "type": "scatter",
         "x": [
          2675,
          2675,
          2685,
          2685
         ],
         "xaxis": "x",
         "y": [
          0,
          2.468202847584944,
          2.468202847584944,
          0
         ],
         "yaxis": "y"
        },
        {
         "hoverinfo": "text",
         "marker": {
          "color": "rgb(133,20,75)"
         },
         "mode": "lines",
         "type": "scatter",
         "x": [
          2660,
          2660,
          2680,
          2680
         ],
         "xaxis": "x",
         "y": [
          2.0915403952674105,
          3.171418976945387,
          3.171418976945387,
          2.468202847584944
         ],
         "yaxis": "y"
        },
        {
         "hoverinfo": "text",
         "marker": {
          "color": "rgb(133,20,75)"
         },
         "mode": "lines",
         "type": "scatter",
         "x": [
          2623.75,
          2623.75,
          2670,
          2670
         ],
         "xaxis": "x",
         "y": [
          2.7117186386217877,
          3.8285386530334304,
          3.8285386530334304,
          3.171418976945387
         ],
         "yaxis": "y"
        },
        {
         "hoverinfo": "text",
         "marker": {
          "color": "rgb(133,20,75)"
         },
         "mode": "lines",
         "type": "scatter",
         "x": [
          2695,
          2695,
          2705,
          2705
         ],
         "xaxis": "x",
         "y": [
          0,
          2.3638443717761533,
          2.3638443717761533,
          0
         ],
         "yaxis": "y"
        },
        {
         "hoverinfo": "text",
         "marker": {
          "color": "rgb(133,20,75)"
         },
         "mode": "lines",
         "type": "scatter",
         "x": [
          2715,
          2715,
          2725,
          2725
         ],
         "xaxis": "x",
         "y": [
          0,
          1.9109138519117574,
          1.9109138519117574,
          0
         ],
         "yaxis": "y"
        },
        {
         "hoverinfo": "text",
         "marker": {
          "color": "rgb(133,20,75)"
         },
         "mode": "lines",
         "type": "scatter",
         "x": [
          2735,
          2735,
          2745,
          2745
         ],
         "xaxis": "x",
         "y": [
          0,
          1.5712355158204323,
          1.5712355158204323,
          0
         ],
         "yaxis": "y"
        },
        {
         "hoverinfo": "text",
         "marker": {
          "color": "rgb(133,20,75)"
         },
         "mode": "lines",
         "type": "scatter",
         "x": [
          2755,
          2755,
          2765,
          2765
         ],
         "xaxis": "x",
         "y": [
          0,
          1.8901297594979107,
          1.8901297594979107,
          0
         ],
         "yaxis": "y"
        },
        {
         "hoverinfo": "text",
         "marker": {
          "color": "rgb(133,20,75)"
         },
         "mode": "lines",
         "type": "scatter",
         "x": [
          2740,
          2740,
          2760,
          2760
         ],
         "xaxis": "x",
         "y": [
          1.5712355158204323,
          2.138503626913427,
          2.138503626913427,
          1.8901297594979107
         ],
         "yaxis": "y"
        },
        {
         "hoverinfo": "text",
         "marker": {
          "color": "rgb(133,20,75)"
         },
         "mode": "lines",
         "type": "scatter",
         "x": [
          2720,
          2720,
          2750,
          2750
         ],
         "xaxis": "x",
         "y": [
          1.9109138519117574,
          2.7808109268262715,
          2.7808109268262715,
          2.138503626913427
         ],
         "yaxis": "y"
        },
        {
         "hoverinfo": "text",
         "marker": {
          "color": "rgb(133,20,75)"
         },
         "mode": "lines",
         "type": "scatter",
         "x": [
          2700,
          2700,
          2735,
          2735
         ],
         "xaxis": "x",
         "y": [
          2.3638443717761533,
          3.0935944689167583,
          3.0935944689167583,
          2.7808109268262715
         ],
         "yaxis": "y"
        },
        {
         "hoverinfo": "text",
         "marker": {
          "color": "rgb(133,20,75)"
         },
         "mode": "lines",
         "type": "scatter",
         "x": [
          2795,
          2795,
          2805,
          2805
         ],
         "xaxis": "x",
         "y": [
          0,
          2.0179543663648287,
          2.0179543663648287,
          0
         ],
         "yaxis": "y"
        },
        {
         "hoverinfo": "text",
         "marker": {
          "color": "rgb(133,20,75)"
         },
         "mode": "lines",
         "type": "scatter",
         "x": [
          2785,
          2785,
          2800,
          2800
         ],
         "xaxis": "x",
         "y": [
          0,
          2.49349569420292,
          2.49349569420292,
          2.0179543663648287
         ],
         "yaxis": "y"
        },
        {
         "hoverinfo": "text",
         "marker": {
          "color": "rgb(133,20,75)"
         },
         "mode": "lines",
         "type": "scatter",
         "x": [
          2775,
          2775,
          2792.5,
          2792.5
         ],
         "xaxis": "x",
         "y": [
          0,
          3.1025961878297443,
          3.1025961878297443,
          2.49349569420292
         ],
         "yaxis": "y"
        },
        {
         "hoverinfo": "text",
         "marker": {
          "color": "rgb(133,20,75)"
         },
         "mode": "lines",
         "type": "scatter",
         "x": [
          2717.5,
          2717.5,
          2783.75,
          2783.75
         ],
         "xaxis": "x",
         "y": [
          3.0935944689167583,
          3.747619154356435,
          3.747619154356435,
          3.1025961878297443
         ],
         "yaxis": "y"
        },
        {
         "hoverinfo": "text",
         "marker": {
          "color": "rgb(133,20,75)"
         },
         "mode": "lines",
         "type": "scatter",
         "x": [
          2825,
          2825,
          2835,
          2835
         ],
         "xaxis": "x",
         "y": [
          0,
          1.5489786893088506,
          1.5489786893088506,
          0
         ],
         "yaxis": "y"
        },
        {
         "hoverinfo": "text",
         "marker": {
          "color": "rgb(133,20,75)"
         },
         "mode": "lines",
         "type": "scatter",
         "x": [
          2815,
          2815,
          2830,
          2830
         ],
         "xaxis": "x",
         "y": [
          0,
          2.2812917671976183,
          2.2812917671976183,
          1.5489786893088506
         ],
         "yaxis": "y"
        },
        {
         "hoverinfo": "text",
         "marker": {
          "color": "rgb(133,20,75)"
         },
         "mode": "lines",
         "type": "scatter",
         "x": [
          2875,
          2875,
          2885,
          2885
         ],
         "xaxis": "x",
         "y": [
          0,
          1.3601818405798605,
          1.3601818405798605,
          0
         ],
         "yaxis": "y"
        },
        {
         "hoverinfo": "text",
         "marker": {
          "color": "rgb(133,20,75)"
         },
         "mode": "lines",
         "type": "scatter",
         "x": [
          2865,
          2865,
          2880,
          2880
         ],
         "xaxis": "x",
         "y": [
          0,
          1.8292992330768265,
          1.8292992330768265,
          1.3601818405798605
         ],
         "yaxis": "y"
        },
        {
         "hoverinfo": "text",
         "marker": {
          "color": "rgb(133,20,75)"
         },
         "mode": "lines",
         "type": "scatter",
         "x": [
          2855,
          2855,
          2872.5,
          2872.5
         ],
         "xaxis": "x",
         "y": [
          0,
          2.0366749968907683,
          2.0366749968907683,
          1.8292992330768265
         ],
         "yaxis": "y"
        },
        {
         "hoverinfo": "text",
         "marker": {
          "color": "rgb(133,20,75)"
         },
         "mode": "lines",
         "type": "scatter",
         "x": [
          2845,
          2845,
          2863.75,
          2863.75
         ],
         "xaxis": "x",
         "y": [
          0,
          2.7470481945040865,
          2.7470481945040865,
          2.0366749968907683
         ],
         "yaxis": "y"
        },
        {
         "hoverinfo": "text",
         "marker": {
          "color": "rgb(133,20,75)"
         },
         "mode": "lines",
         "type": "scatter",
         "x": [
          2822.5,
          2822.5,
          2854.375,
          2854.375
         ],
         "xaxis": "x",
         "y": [
          2.2812917671976183,
          3.321906716372894,
          3.321906716372894,
          2.7470481945040865
         ],
         "yaxis": "y"
        },
        {
         "hoverinfo": "text",
         "marker": {
          "color": "rgb(133,20,75)"
         },
         "mode": "lines",
         "type": "scatter",
         "x": [
          2895,
          2895,
          2905,
          2905
         ],
         "xaxis": "x",
         "y": [
          0,
          1.6002654734472028,
          1.6002654734472028,
          0
         ],
         "yaxis": "y"
        },
        {
         "hoverinfo": "text",
         "marker": {
          "color": "rgb(133,20,75)"
         },
         "mode": "lines",
         "type": "scatter",
         "x": [
          2925,
          2925,
          2935,
          2935
         ],
         "xaxis": "x",
         "y": [
          0,
          1.7041754850266408,
          1.7041754850266408,
          0
         ],
         "yaxis": "y"
        },
        {
         "hoverinfo": "text",
         "marker": {
          "color": "rgb(133,20,75)"
         },
         "mode": "lines",
         "type": "scatter",
         "x": [
          2915,
          2915,
          2930,
          2930
         ],
         "xaxis": "x",
         "y": [
          0,
          1.9321368627766324,
          1.9321368627766324,
          1.7041754850266408
         ],
         "yaxis": "y"
        },
        {
         "hoverinfo": "text",
         "marker": {
          "color": "rgb(133,20,75)"
         },
         "mode": "lines",
         "type": "scatter",
         "x": [
          2900,
          2900,
          2922.5,
          2922.5
         ],
         "xaxis": "x",
         "y": [
          1.6002654734472028,
          2.4761376166162012,
          2.4761376166162012,
          1.9321368627766324
         ],
         "yaxis": "y"
        },
        {
         "hoverinfo": "text",
         "marker": {
          "color": "rgb(133,20,75)"
         },
         "mode": "lines",
         "type": "scatter",
         "x": [
          2945,
          2945,
          2955,
          2955
         ],
         "xaxis": "x",
         "y": [
          0,
          2.9675166072690233,
          2.9675166072690233,
          0
         ],
         "yaxis": "y"
        },
        {
         "hoverinfo": "text",
         "marker": {
          "color": "rgb(133,20,75)"
         },
         "mode": "lines",
         "type": "scatter",
         "x": [
          2911.25,
          2911.25,
          2950,
          2950
         ],
         "xaxis": "x",
         "y": [
          2.4761376166162012,
          3.491373326132762,
          3.491373326132762,
          2.9675166072690233
         ],
         "yaxis": "y"
        },
        {
         "hoverinfo": "text",
         "marker": {
          "color": "rgb(133,20,75)"
         },
         "mode": "lines",
         "type": "scatter",
         "x": [
          2838.4375,
          2838.4375,
          2930.625,
          2930.625
         ],
         "xaxis": "x",
         "y": [
          3.321906716372894,
          4.4588280531166316,
          4.4588280531166316,
          3.491373326132762
         ],
         "yaxis": "y"
        },
        {
         "hoverinfo": "text",
         "marker": {
          "color": "rgb(133,20,75)"
         },
         "mode": "lines",
         "type": "scatter",
         "x": [
          2750.625,
          2750.625,
          2884.53125,
          2884.53125
         ],
         "xaxis": "x",
         "y": [
          3.747619154356435,
          4.721284049018891,
          4.721284049018891,
          4.4588280531166316
         ],
         "yaxis": "y"
        },
        {
         "hoverinfo": "text",
         "marker": {
          "color": "rgb(133,20,75)"
         },
         "mode": "lines",
         "type": "scatter",
         "x": [
          2646.875,
          2646.875,
          2817.578125,
          2817.578125
         ],
         "xaxis": "x",
         "y": [
          3.8285386530334304,
          5.203861270444288,
          5.203861270444288,
          4.721284049018891
         ],
         "yaxis": "y"
        },
        {
         "hoverinfo": "text",
         "marker": {
          "color": "rgb(133,20,75)"
         },
         "mode": "lines",
         "type": "scatter",
         "x": [
          2556.5625,
          2556.5625,
          2732.2265625,
          2732.2265625
         ],
         "xaxis": "x",
         "y": [
          4.364515496275486,
          5.7070647169403115,
          5.7070647169403115,
          5.203861270444288
         ],
         "yaxis": "y"
        },
        {
         "hoverinfo": "text",
         "marker": {
          "color": "rgb(133,20,75)"
         },
         "mode": "lines",
         "type": "scatter",
         "x": [
          2420.625,
          2420.625,
          2644.39453125,
          2644.39453125
         ],
         "xaxis": "x",
         "y": [
          5.0120317367400045,
          6.282033970550301,
          6.282033970550301,
          5.7070647169403115
         ],
         "yaxis": "y"
        },
        {
         "hoverinfo": "text",
         "marker": {
          "color": "rgb(133,20,75)"
         },
         "mode": "lines",
         "type": "scatter",
         "x": [
          2163.203125,
          2163.203125,
          2532.509765625,
          2532.509765625
         ],
         "xaxis": "x",
         "y": [
          5.631288885435185,
          6.49982350950413,
          6.49982350950413,
          6.282033970550301
         ],
         "yaxis": "y"
        },
        {
         "hoverinfo": "text",
         "marker": {
          "color": "rgb(133,20,75)"
         },
         "mode": "lines",
         "type": "scatter",
         "x": [
          2965,
          2965,
          2975,
          2975
         ],
         "xaxis": "x",
         "y": [
          0,
          2.4173521406642817,
          2.4173521406642817,
          0
         ],
         "yaxis": "y"
        },
        {
         "hoverinfo": "text",
         "marker": {
          "color": "rgb(133,20,75)"
         },
         "mode": "lines",
         "type": "scatter",
         "x": [
          2985,
          2985,
          2995,
          2995
         ],
         "xaxis": "x",
         "y": [
          0,
          1.7754168148784388,
          1.7754168148784388,
          0
         ],
         "yaxis": "y"
        },
        {
         "hoverinfo": "text",
         "marker": {
          "color": "rgb(133,20,75)"
         },
         "mode": "lines",
         "type": "scatter",
         "x": [
          3025,
          3025,
          3035,
          3035
         ],
         "xaxis": "x",
         "y": [
          0,
          1.2724313177468913,
          1.2724313177468913,
          0
         ],
         "yaxis": "y"
        },
        {
         "hoverinfo": "text",
         "marker": {
          "color": "rgb(133,20,75)"
         },
         "mode": "lines",
         "type": "scatter",
         "x": [
          3015,
          3015,
          3030,
          3030
         ],
         "xaxis": "x",
         "y": [
          0,
          1.5972308921722949,
          1.5972308921722949,
          1.2724313177468913
         ],
         "yaxis": "y"
        },
        {
         "hoverinfo": "text",
         "marker": {
          "color": "rgb(133,20,75)"
         },
         "mode": "lines",
         "type": "scatter",
         "x": [
          3005,
          3005,
          3022.5,
          3022.5
         ],
         "xaxis": "x",
         "y": [
          0,
          2.0866058086838577,
          2.0866058086838577,
          1.5972308921722949
         ],
         "yaxis": "y"
        },
        {
         "hoverinfo": "text",
         "marker": {
          "color": "rgb(133,20,75)"
         },
         "mode": "lines",
         "type": "scatter",
         "x": [
          2990,
          2990,
          3013.75,
          3013.75
         ],
         "xaxis": "x",
         "y": [
          1.7754168148784388,
          2.5805911867390807,
          2.5805911867390807,
          2.0866058086838577
         ],
         "yaxis": "y"
        },
        {
         "hoverinfo": "text",
         "marker": {
          "color": "rgb(133,20,75)"
         },
         "mode": "lines",
         "type": "scatter",
         "x": [
          2970,
          2970,
          3001.875,
          3001.875
         ],
         "xaxis": "x",
         "y": [
          2.4173521406642817,
          3.3167783860791054,
          3.3167783860791054,
          2.5805911867390807
         ],
         "yaxis": "y"
        },
        {
         "hoverinfo": "text",
         "marker": {
          "color": "rgb(133,20,75)"
         },
         "mode": "lines",
         "type": "scatter",
         "x": [
          3065,
          3065,
          3075,
          3075
         ],
         "xaxis": "x",
         "y": [
          0,
          1.7454465203880052,
          1.7454465203880052,
          0
         ],
         "yaxis": "y"
        },
        {
         "hoverinfo": "text",
         "marker": {
          "color": "rgb(133,20,75)"
         },
         "mode": "lines",
         "type": "scatter",
         "x": [
          3055,
          3055,
          3070,
          3070
         ],
         "xaxis": "x",
         "y": [
          0,
          2.069133110384634,
          2.069133110384634,
          1.7454465203880052
         ],
         "yaxis": "y"
        },
        {
         "hoverinfo": "text",
         "marker": {
          "color": "rgb(133,20,75)"
         },
         "mode": "lines",
         "type": "scatter",
         "x": [
          3105,
          3105,
          3115,
          3115
         ],
         "xaxis": "x",
         "y": [
          0,
          1.6607267131218875,
          1.6607267131218875,
          0
         ],
         "yaxis": "y"
        },
        {
         "hoverinfo": "text",
         "marker": {
          "color": "rgb(133,20,75)"
         },
         "mode": "lines",
         "type": "scatter",
         "x": [
          3095,
          3095,
          3110,
          3110
         ],
         "xaxis": "x",
         "y": [
          0,
          1.7353516110132527,
          1.7353516110132527,
          1.6607267131218875
         ],
         "yaxis": "y"
        },
        {
         "hoverinfo": "text",
         "marker": {
          "color": "rgb(133,20,75)"
         },
         "mode": "lines",
         "type": "scatter",
         "x": [
          3085,
          3085,
          3102.5,
          3102.5
         ],
         "xaxis": "x",
         "y": [
          0,
          2.4843770489875046,
          2.4843770489875046,
          1.7353516110132527
         ],
         "yaxis": "y"
        },
        {
         "hoverinfo": "text",
         "marker": {
          "color": "rgb(133,20,75)"
         },
         "mode": "lines",
         "type": "scatter",
         "x": [
          3062.5,
          3062.5,
          3093.75,
          3093.75
         ],
         "xaxis": "x",
         "y": [
          2.069133110384634,
          3.035955363777997,
          3.035955363777997,
          2.4843770489875046
         ],
         "yaxis": "y"
        },
        {
         "hoverinfo": "text",
         "marker": {
          "color": "rgb(133,20,75)"
         },
         "mode": "lines",
         "type": "scatter",
         "x": [
          3045,
          3045,
          3078.125,
          3078.125
         ],
         "xaxis": "x",
         "y": [
          0,
          3.627205249261785,
          3.627205249261785,
          3.035955363777997
         ],
         "yaxis": "y"
        },
        {
         "hoverinfo": "text",
         "marker": {
          "color": "rgb(133,20,75)"
         },
         "mode": "lines",
         "type": "scatter",
         "x": [
          2985.9375,
          2985.9375,
          3061.5625,
          3061.5625
         ],
         "xaxis": "x",
         "y": [
          3.3167783860791054,
          4.01801555321738,
          4.01801555321738,
          3.627205249261785
         ],
         "yaxis": "y"
        },
        {
         "hoverinfo": "text",
         "marker": {
          "color": "rgb(133,20,75)"
         },
         "mode": "lines",
         "type": "scatter",
         "x": [
          3135,
          3135,
          3145,
          3145
         ],
         "xaxis": "x",
         "y": [
          0,
          1.6543622835017755,
          1.6543622835017755,
          0
         ],
         "yaxis": "y"
        },
        {
         "hoverinfo": "text",
         "marker": {
          "color": "rgb(133,20,75)"
         },
         "mode": "lines",
         "type": "scatter",
         "x": [
          3155,
          3155,
          3165,
          3165
         ],
         "xaxis": "x",
         "y": [
          0,
          1.5756451124670745,
          1.5756451124670745,
          0
         ],
         "yaxis": "y"
        },
        {
         "hoverinfo": "text",
         "marker": {
          "color": "rgb(133,20,75)"
         },
         "mode": "lines",
         "type": "scatter",
         "x": [
          3185,
          3185,
          3195,
          3195
         ],
         "xaxis": "x",
         "y": [
          0,
          1.3942233967204134,
          1.3942233967204134,
          0
         ],
         "yaxis": "y"
        },
        {
         "hoverinfo": "text",
         "marker": {
          "color": "rgb(133,20,75)"
         },
         "mode": "lines",
         "type": "scatter",
         "x": [
          3175,
          3175,
          3190,
          3190
         ],
         "xaxis": "x",
         "y": [
          0,
          1.925809306182688,
          1.925809306182688,
          1.3942233967204134
         ],
         "yaxis": "y"
        },
        {
         "hoverinfo": "text",
         "marker": {
          "color": "rgb(133,20,75)"
         },
         "mode": "lines",
         "type": "scatter",
         "x": [
          3160,
          3160,
          3182.5,
          3182.5
         ],
         "xaxis": "x",
         "y": [
          1.5756451124670745,
          2.120443717103557,
          2.120443717103557,
          1.925809306182688
         ],
         "yaxis": "y"
        },
        {
         "hoverinfo": "text",
         "marker": {
          "color": "rgb(133,20,75)"
         },
         "mode": "lines",
         "type": "scatter",
         "x": [
          3225,
          3225,
          3235,
          3235
         ],
         "xaxis": "x",
         "y": [
          0,
          1.3686095151676538,
          1.3686095151676538,
          0
         ],
         "yaxis": "y"
        },
        {
         "hoverinfo": "text",
         "marker": {
          "color": "rgb(133,20,75)"
         },
         "mode": "lines",
         "type": "scatter",
         "x": [
          3215,
          3215,
          3230,
          3230
         ],
         "xaxis": "x",
         "y": [
          0,
          1.4372676122173174,
          1.4372676122173174,
          1.3686095151676538
         ],
         "yaxis": "y"
        },
        {
         "hoverinfo": "text",
         "marker": {
          "color": "rgb(133,20,75)"
         },
         "mode": "lines",
         "type": "scatter",
         "x": [
          3205,
          3205,
          3222.5,
          3222.5
         ],
         "xaxis": "x",
         "y": [
          0,
          2.126455812028049,
          2.126455812028049,
          1.4372676122173174
         ],
         "yaxis": "y"
        },
        {
         "hoverinfo": "text",
         "marker": {
          "color": "rgb(133,20,75)"
         },
         "mode": "lines",
         "type": "scatter",
         "x": [
          3171.25,
          3171.25,
          3213.75,
          3213.75
         ],
         "xaxis": "x",
         "y": [
          2.120443717103557,
          2.675353925249779,
          2.675353925249779,
          2.126455812028049
         ],
         "yaxis": "y"
        },
        {
         "hoverinfo": "text",
         "marker": {
          "color": "rgb(133,20,75)"
         },
         "mode": "lines",
         "type": "scatter",
         "x": [
          3140,
          3140,
          3192.5,
          3192.5
         ],
         "xaxis": "x",
         "y": [
          1.6543622835017755,
          2.913310100947397,
          2.913310100947397,
          2.675353925249779
         ],
         "yaxis": "y"
        },
        {
         "hoverinfo": "text",
         "marker": {
          "color": "rgb(133,20,75)"
         },
         "mode": "lines",
         "type": "scatter",
         "x": [
          3125,
          3125,
          3166.25,
          3166.25
         ],
         "xaxis": "x",
         "y": [
          0,
          3.463754961895563,
          3.463754961895563,
          2.913310100947397
         ],
         "yaxis": "y"
        },
        {
         "hoverinfo": "text",
         "marker": {
          "color": "rgb(133,20,75)"
         },
         "mode": "lines",
         "type": "scatter",
         "x": [
          3245,
          3245,
          3255,
          3255
         ],
         "xaxis": "x",
         "y": [
          0,
          1.2105916054697368,
          1.2105916054697368,
          0
         ],
         "yaxis": "y"
        },
        {
         "hoverinfo": "text",
         "marker": {
          "color": "rgb(133,20,75)"
         },
         "mode": "lines",
         "type": "scatter",
         "x": [
          3265,
          3265,
          3275,
          3275
         ],
         "xaxis": "x",
         "y": [
          0,
          1.2300127172033786,
          1.2300127172033786,
          0
         ],
         "yaxis": "y"
        },
        {
         "hoverinfo": "text",
         "marker": {
          "color": "rgb(133,20,75)"
         },
         "mode": "lines",
         "type": "scatter",
         "x": [
          3250,
          3250,
          3270,
          3270
         ],
         "xaxis": "x",
         "y": [
          1.2105916054697368,
          1.8271139856673233,
          1.8271139856673233,
          1.2300127172033786
         ],
         "yaxis": "y"
        },
        {
         "hoverinfo": "text",
         "marker": {
          "color": "rgb(133,20,75)"
         },
         "mode": "lines",
         "type": "scatter",
         "x": [
          3285,
          3285,
          3295,
          3295
         ],
         "xaxis": "x",
         "y": [
          0,
          1.3219534716996044,
          1.3219534716996044,
          0
         ],
         "yaxis": "y"
        },
        {
         "hoverinfo": "text",
         "marker": {
          "color": "rgb(133,20,75)"
         },
         "mode": "lines",
         "type": "scatter",
         "x": [
          3315,
          3315,
          3325,
          3325
         ],
         "xaxis": "x",
         "y": [
          0,
          1.1487117257852832,
          1.1487117257852832,
          0
         ],
         "yaxis": "y"
        },
        {
         "hoverinfo": "text",
         "marker": {
          "color": "rgb(133,20,75)"
         },
         "mode": "lines",
         "type": "scatter",
         "x": [
          3305,
          3305,
          3320,
          3320
         ],
         "xaxis": "x",
         "y": [
          0,
          1.8661884419143964,
          1.8661884419143964,
          1.1487117257852832
         ],
         "yaxis": "y"
        },
        {
         "hoverinfo": "text",
         "marker": {
          "color": "rgb(133,20,75)"
         },
         "mode": "lines",
         "type": "scatter",
         "x": [
          3290,
          3290,
          3312.5,
          3312.5
         ],
         "xaxis": "x",
         "y": [
          1.3219534716996044,
          2.348302663819774,
          2.348302663819774,
          1.8661884419143964
         ],
         "yaxis": "y"
        },
        {
         "hoverinfo": "text",
         "marker": {
          "color": "rgb(133,20,75)"
         },
         "mode": "lines",
         "type": "scatter",
         "x": [
          3260,
          3260,
          3301.25,
          3301.25
         ],
         "xaxis": "x",
         "y": [
          1.8271139856673233,
          2.4509978862818347,
          2.4509978862818347,
          2.348302663819774
         ],
         "yaxis": "y"
        },
        {
         "hoverinfo": "text",
         "marker": {
          "color": "rgb(133,20,75)"
         },
         "mode": "lines",
         "type": "scatter",
         "x": [
          3345,
          3345,
          3355,
          3355
         ],
         "xaxis": "x",
         "y": [
          0,
          1.0061149471356947,
          1.0061149471356947,
          0
         ],
         "yaxis": "y"
        },
        {
         "hoverinfo": "text",
         "marker": {
          "color": "rgb(133,20,75)"
         },
         "mode": "lines",
         "type": "scatter",
         "x": [
          3335,
          3335,
          3350,
          3350
         ],
         "xaxis": "x",
         "y": [
          0,
          1.3513080317822137,
          1.3513080317822137,
          1.0061149471356947
         ],
         "yaxis": "y"
        },
        {
         "hoverinfo": "text",
         "marker": {
          "color": "rgb(133,20,75)"
         },
         "mode": "lines",
         "type": "scatter",
         "x": [
          3375,
          3375,
          3385,
          3385
         ],
         "xaxis": "x",
         "y": [
          0,
          1.368448797003026,
          1.368448797003026,
          0
         ],
         "yaxis": "y"
        },
        {
         "hoverinfo": "text",
         "marker": {
          "color": "rgb(133,20,75)"
         },
         "mode": "lines",
         "type": "scatter",
         "x": [
          3365,
          3365,
          3380,
          3380
         ],
         "xaxis": "x",
         "y": [
          0,
          1.6677222474872972,
          1.6677222474872972,
          1.368448797003026
         ],
         "yaxis": "y"
        },
        {
         "hoverinfo": "text",
         "marker": {
          "color": "rgb(133,20,75)"
         },
         "mode": "lines",
         "type": "scatter",
         "x": [
          3405,
          3405,
          3415,
          3415
         ],
         "xaxis": "x",
         "y": [
          0,
          1.3574196790069688,
          1.3574196790069688,
          0
         ],
         "yaxis": "y"
        },
        {
         "hoverinfo": "text",
         "marker": {
          "color": "rgb(133,20,75)"
         },
         "mode": "lines",
         "type": "scatter",
         "x": [
          3395,
          3395,
          3410,
          3410
         ],
         "xaxis": "x",
         "y": [
          0,
          1.702724816610338,
          1.702724816610338,
          1.3574196790069688
         ],
         "yaxis": "y"
        },
        {
         "hoverinfo": "text",
         "marker": {
          "color": "rgb(133,20,75)"
         },
         "mode": "lines",
         "type": "scatter",
         "x": [
          3372.5,
          3372.5,
          3402.5,
          3402.5
         ],
         "xaxis": "x",
         "y": [
          1.6677222474872972,
          2.3616979573525954,
          2.3616979573525954,
          1.702724816610338
         ],
         "yaxis": "y"
        },
        {
         "hoverinfo": "text",
         "marker": {
          "color": "rgb(133,20,75)"
         },
         "mode": "lines",
         "type": "scatter",
         "x": [
          3342.5,
          3342.5,
          3387.5,
          3387.5
         ],
         "xaxis": "x",
         "y": [
          1.3513080317822137,
          2.4667345840201653,
          2.4667345840201653,
          2.3616979573525954
         ],
         "yaxis": "y"
        },
        {
         "hoverinfo": "text",
         "marker": {
          "color": "rgb(133,20,75)"
         },
         "mode": "lines",
         "type": "scatter",
         "x": [
          3435,
          3435,
          3445,
          3445
         ],
         "xaxis": "x",
         "y": [
          0,
          1.53748961030278,
          1.53748961030278,
          0
         ],
         "yaxis": "y"
        },
        {
         "hoverinfo": "text",
         "marker": {
          "color": "rgb(133,20,75)"
         },
         "mode": "lines",
         "type": "scatter",
         "x": [
          3425,
          3425,
          3440,
          3440
         ],
         "xaxis": "x",
         "y": [
          0,
          1.9763391917513986,
          1.9763391917513986,
          1.53748961030278
         ],
         "yaxis": "y"
        },
        {
         "hoverinfo": "text",
         "marker": {
          "color": "rgb(133,20,75)"
         },
         "mode": "lines",
         "type": "scatter",
         "x": [
          3475,
          3475,
          3485,
          3485
         ],
         "xaxis": "x",
         "y": [
          0,
          1.3331690195019972,
          1.3331690195019972,
          0
         ],
         "yaxis": "y"
        },
        {
         "hoverinfo": "text",
         "marker": {
          "color": "rgb(133,20,75)"
         },
         "mode": "lines",
         "type": "scatter",
         "x": [
          3465,
          3465,
          3480,
          3480
         ],
         "xaxis": "x",
         "y": [
          0,
          1.5347210971467962,
          1.5347210971467962,
          1.3331690195019972
         ],
         "yaxis": "y"
        },
        {
         "hoverinfo": "text",
         "marker": {
          "color": "rgb(133,20,75)"
         },
         "mode": "lines",
         "type": "scatter",
         "x": [
          3455,
          3455,
          3472.5,
          3472.5
         ],
         "xaxis": "x",
         "y": [
          0,
          1.5996495668577397,
          1.5996495668577397,
          1.5347210971467962
         ],
         "yaxis": "y"
        },
        {
         "hoverinfo": "text",
         "marker": {
          "color": "rgb(133,20,75)"
         },
         "mode": "lines",
         "type": "scatter",
         "x": [
          3505,
          3505,
          3515,
          3515
         ],
         "xaxis": "x",
         "y": [
          0,
          1.2180077186880456,
          1.2180077186880456,
          0
         ],
         "yaxis": "y"
        },
        {
         "hoverinfo": "text",
         "marker": {
          "color": "rgb(133,20,75)"
         },
         "mode": "lines",
         "type": "scatter",
         "x": [
          3495,
          3495,
          3510,
          3510
         ],
         "xaxis": "x",
         "y": [
          0,
          1.7441636695086766,
          1.7441636695086766,
          1.2180077186880456
         ],
         "yaxis": "y"
        },
        {
         "hoverinfo": "text",
         "marker": {
          "color": "rgb(133,20,75)"
         },
         "mode": "lines",
         "type": "scatter",
         "x": [
          3463.75,
          3463.75,
          3502.5,
          3502.5
         ],
         "xaxis": "x",
         "y": [
          1.5996495668577397,
          2.2030131735586598,
          2.2030131735586598,
          1.7441636695086766
         ],
         "yaxis": "y"
        },
        {
         "hoverinfo": "text",
         "marker": {
          "color": "rgb(133,20,75)"
         },
         "mode": "lines",
         "type": "scatter",
         "x": [
          3432.5,
          3432.5,
          3483.125,
          3483.125
         ],
         "xaxis": "x",
         "y": [
          1.9763391917513986,
          2.893972081794457,
          2.893972081794457,
          2.2030131735586598
         ],
         "yaxis": "y"
        },
        {
         "hoverinfo": "text",
         "marker": {
          "color": "rgb(133,20,75)"
         },
         "mode": "lines",
         "type": "scatter",
         "x": [
          3365,
          3365,
          3457.8125,
          3457.8125
         ],
         "xaxis": "x",
         "y": [
          2.4667345840201653,
          3.0847067146176985,
          3.0847067146176985,
          2.893972081794457
         ],
         "yaxis": "y"
        },
        {
         "hoverinfo": "text",
         "marker": {
          "color": "rgb(133,20,75)"
         },
         "mode": "lines",
         "type": "scatter",
         "x": [
          3280.625,
          3280.625,
          3411.40625,
          3411.40625
         ],
         "xaxis": "x",
         "y": [
          2.4509978862818347,
          3.4029646246777445,
          3.4029646246777445,
          3.0847067146176985
         ],
         "yaxis": "y"
        },
        {
         "hoverinfo": "text",
         "marker": {
          "color": "rgb(133,20,75)"
         },
         "mode": "lines",
         "type": "scatter",
         "x": [
          3545,
          3545,
          3555,
          3555
         ],
         "xaxis": "x",
         "y": [
          0,
          1.3422715819074218,
          1.3422715819074218,
          0
         ],
         "yaxis": "y"
        },
        {
         "hoverinfo": "text",
         "marker": {
          "color": "rgb(133,20,75)"
         },
         "mode": "lines",
         "type": "scatter",
         "x": [
          3535,
          3535,
          3550,
          3550
         ],
         "xaxis": "x",
         "y": [
          0,
          1.9359770452458893,
          1.9359770452458893,
          1.3422715819074218
         ],
         "yaxis": "y"
        },
        {
         "hoverinfo": "text",
         "marker": {
          "color": "rgb(133,20,75)"
         },
         "mode": "lines",
         "type": "scatter",
         "x": [
          3525,
          3525,
          3542.5,
          3542.5
         ],
         "xaxis": "x",
         "y": [
          0,
          2.377360975472759,
          2.377360975472759,
          1.9359770452458893
         ],
         "yaxis": "y"
        },
        {
         "hoverinfo": "text",
         "marker": {
          "color": "rgb(133,20,75)"
         },
         "mode": "lines",
         "type": "scatter",
         "x": [
          3575,
          3575,
          3585,
          3585
         ],
         "xaxis": "x",
         "y": [
          0,
          1.407663089085857,
          1.407663089085857,
          0
         ],
         "yaxis": "y"
        },
        {
         "hoverinfo": "text",
         "marker": {
          "color": "rgb(133,20,75)"
         },
         "mode": "lines",
         "type": "scatter",
         "x": [
          3565,
          3565,
          3580,
          3580
         ],
         "xaxis": "x",
         "y": [
          0,
          2.0010450329363225,
          2.0010450329363225,
          1.407663089085857
         ],
         "yaxis": "y"
        },
        {
         "hoverinfo": "text",
         "marker": {
          "color": "rgb(133,20,75)"
         },
         "mode": "lines",
         "type": "scatter",
         "x": [
          3595,
          3595,
          3605,
          3605
         ],
         "xaxis": "x",
         "y": [
          0,
          2.0863542862233455,
          2.0863542862233455,
          0
         ],
         "yaxis": "y"
        },
        {
         "hoverinfo": "text",
         "marker": {
          "color": "rgb(133,20,75)"
         },
         "mode": "lines",
         "type": "scatter",
         "x": [
          3572.5,
          3572.5,
          3600,
          3600
         ],
         "xaxis": "x",
         "y": [
          2.0010450329363225,
          2.561558368115245,
          2.561558368115245,
          2.0863542862233455
         ],
         "yaxis": "y"
        },
        {
         "hoverinfo": "text",
         "marker": {
          "color": "rgb(133,20,75)"
         },
         "mode": "lines",
         "type": "scatter",
         "x": [
          3533.75,
          3533.75,
          3586.25,
          3586.25
         ],
         "xaxis": "x",
         "y": [
          2.377360975472759,
          2.7521626508120414,
          2.7521626508120414,
          2.561558368115245
         ],
         "yaxis": "y"
        },
        {
         "hoverinfo": "text",
         "marker": {
          "color": "rgb(133,20,75)"
         },
         "mode": "lines",
         "type": "scatter",
         "x": [
          3615,
          3615,
          3625,
          3625
         ],
         "xaxis": "x",
         "y": [
          0,
          1.7762234458417905,
          1.7762234458417905,
          0
         ],
         "yaxis": "y"
        },
        {
         "hoverinfo": "text",
         "marker": {
          "color": "rgb(133,20,75)"
         },
         "mode": "lines",
         "type": "scatter",
         "x": [
          3645,
          3645,
          3655,
          3655
         ],
         "xaxis": "x",
         "y": [
          0,
          1.0970963531342428,
          1.0970963531342428,
          0
         ],
         "yaxis": "y"
        },
        {
         "hoverinfo": "text",
         "marker": {
          "color": "rgb(133,20,75)"
         },
         "mode": "lines",
         "type": "scatter",
         "x": [
          3635,
          3635,
          3650,
          3650
         ],
         "xaxis": "x",
         "y": [
          0,
          1.8733819414769382,
          1.8733819414769382,
          1.0970963531342428
         ],
         "yaxis": "y"
        },
        {
         "hoverinfo": "text",
         "marker": {
          "color": "rgb(133,20,75)"
         },
         "mode": "lines",
         "type": "scatter",
         "x": [
          3620,
          3620,
          3642.5,
          3642.5
         ],
         "xaxis": "x",
         "y": [
          1.7762234458417905,
          2.54262855623185,
          2.54262855623185,
          1.8733819414769382
         ],
         "yaxis": "y"
        },
        {
         "hoverinfo": "text",
         "marker": {
          "color": "rgb(133,20,75)"
         },
         "mode": "lines",
         "type": "scatter",
         "x": [
          3665,
          3665,
          3675,
          3675
         ],
         "xaxis": "x",
         "y": [
          0,
          1.6104930749184876,
          1.6104930749184876,
          0
         ],
         "yaxis": "y"
        },
        {
         "hoverinfo": "text",
         "marker": {
          "color": "rgb(133,20,75)"
         },
         "mode": "lines",
         "type": "scatter",
         "x": [
          3685,
          3685,
          3695,
          3695
         ],
         "xaxis": "x",
         "y": [
          0,
          1.6885898847515017,
          1.6885898847515017,
          0
         ],
         "yaxis": "y"
        },
        {
         "hoverinfo": "text",
         "marker": {
          "color": "rgb(133,20,75)"
         },
         "mode": "lines",
         "type": "scatter",
         "x": [
          3670,
          3670,
          3690,
          3690
         ],
         "xaxis": "x",
         "y": [
          1.6104930749184876,
          2.1273812244918755,
          2.1273812244918755,
          1.6885898847515017
         ],
         "yaxis": "y"
        },
        {
         "hoverinfo": "text",
         "marker": {
          "color": "rgb(133,20,75)"
         },
         "mode": "lines",
         "type": "scatter",
         "x": [
          3715,
          3715,
          3725,
          3725
         ],
         "xaxis": "x",
         "y": [
          0,
          1.7887840486905298,
          1.7887840486905298,
          0
         ],
         "yaxis": "y"
        },
        {
         "hoverinfo": "text",
         "marker": {
          "color": "rgb(133,20,75)"
         },
         "mode": "lines",
         "type": "scatter",
         "x": [
          3705,
          3705,
          3720,
          3720
         ],
         "xaxis": "x",
         "y": [
          0,
          2.840119998705225,
          2.840119998705225,
          1.7887840486905298
         ],
         "yaxis": "y"
        },
        {
         "hoverinfo": "text",
         "marker": {
          "color": "rgb(133,20,75)"
         },
         "mode": "lines",
         "type": "scatter",
         "x": [
          3680,
          3680,
          3712.5,
          3712.5
         ],
         "xaxis": "x",
         "y": [
          2.1273812244918755,
          3.0427541575817565,
          3.0427541575817565,
          2.840119998705225
         ],
         "yaxis": "y"
        },
        {
         "hoverinfo": "text",
         "marker": {
          "color": "rgb(133,20,75)"
         },
         "mode": "lines",
         "type": "scatter",
         "x": [
          3631.25,
          3631.25,
          3696.25,
          3696.25
         ],
         "xaxis": "x",
         "y": [
          2.54262855623185,
          3.4719454171966664,
          3.4719454171966664,
          3.0427541575817565
         ],
         "yaxis": "y"
        },
        {
         "hoverinfo": "text",
         "marker": {
          "color": "rgb(133,20,75)"
         },
         "mode": "lines",
         "type": "scatter",
         "x": [
          3560,
          3560,
          3663.75,
          3663.75
         ],
         "xaxis": "x",
         "y": [
          2.7521626508120414,
          3.833424757834095,
          3.833424757834095,
          3.4719454171966664
         ],
         "yaxis": "y"
        },
        {
         "hoverinfo": "text",
         "marker": {
          "color": "rgb(133,20,75)"
         },
         "mode": "lines",
         "type": "scatter",
         "x": [
          3346.015625,
          3346.015625,
          3611.875,
          3611.875
         ],
         "xaxis": "x",
         "y": [
          3.4029646246777445,
          4.363691042973528,
          4.363691042973528,
          3.833424757834095
         ],
         "yaxis": "y"
        },
        {
         "hoverinfo": "text",
         "marker": {
          "color": "rgb(133,20,75)"
         },
         "mode": "lines",
         "type": "scatter",
         "x": [
          3145.625,
          3145.625,
          3478.9453125,
          3478.9453125
         ],
         "xaxis": "x",
         "y": [
          3.463754961895563,
          4.645616407508062,
          4.645616407508062,
          4.363691042973528
         ],
         "yaxis": "y"
        },
        {
         "hoverinfo": "text",
         "marker": {
          "color": "rgb(133,20,75)"
         },
         "mode": "lines",
         "type": "scatter",
         "x": [
          3023.75,
          3023.75,
          3312.28515625,
          3312.28515625
         ],
         "xaxis": "x",
         "y": [
          4.01801555321738,
          5.369286515124273,
          5.369286515124273,
          4.645616407508062
         ],
         "yaxis": "y"
        },
        {
         "hoverinfo": "text",
         "marker": {
          "color": "rgb(133,20,75)"
         },
         "mode": "lines",
         "type": "scatter",
         "x": [
          3745,
          3745,
          3755,
          3755
         ],
         "xaxis": "x",
         "y": [
          0,
          1.6533287779207197,
          1.6533287779207197,
          0
         ],
         "yaxis": "y"
        },
        {
         "hoverinfo": "text",
         "marker": {
          "color": "rgb(133,20,75)"
         },
         "mode": "lines",
         "type": "scatter",
         "x": [
          3735,
          3735,
          3750,
          3750
         ],
         "xaxis": "x",
         "y": [
          0,
          2.850199217064347,
          2.850199217064347,
          1.6533287779207197
         ],
         "yaxis": "y"
        },
        {
         "hoverinfo": "text",
         "marker": {
          "color": "rgb(133,20,75)"
         },
         "mode": "lines",
         "type": "scatter",
         "x": [
          3765,
          3765,
          3775,
          3775
         ],
         "xaxis": "x",
         "y": [
          0,
          2.419855562361983,
          2.419855562361983,
          0
         ],
         "yaxis": "y"
        },
        {
         "hoverinfo": "text",
         "marker": {
          "color": "rgb(133,20,75)"
         },
         "mode": "lines",
         "type": "scatter",
         "x": [
          3785,
          3785,
          3795,
          3795
         ],
         "xaxis": "x",
         "y": [
          0,
          1.851088190068923,
          1.851088190068923,
          0
         ],
         "yaxis": "y"
        },
        {
         "hoverinfo": "text",
         "marker": {
          "color": "rgb(133,20,75)"
         },
         "mode": "lines",
         "type": "scatter",
         "x": [
          3805,
          3805,
          3815,
          3815
         ],
         "xaxis": "x",
         "y": [
          0,
          1.860323684931948,
          1.860323684931948,
          0
         ],
         "yaxis": "y"
        },
        {
         "hoverinfo": "text",
         "marker": {
          "color": "rgb(133,20,75)"
         },
         "mode": "lines",
         "type": "scatter",
         "x": [
          3790,
          3790,
          3810,
          3810
         ],
         "xaxis": "x",
         "y": [
          1.851088190068923,
          2.717586269344573,
          2.717586269344573,
          1.860323684931948
         ],
         "yaxis": "y"
        },
        {
         "hoverinfo": "text",
         "marker": {
          "color": "rgb(133,20,75)"
         },
         "mode": "lines",
         "type": "scatter",
         "x": [
          3770,
          3770,
          3800,
          3800
         ],
         "xaxis": "x",
         "y": [
          2.419855562361983,
          3.1091226593104277,
          3.1091226593104277,
          2.717586269344573
         ],
         "yaxis": "y"
        },
        {
         "hoverinfo": "text",
         "marker": {
          "color": "rgb(133,20,75)"
         },
         "mode": "lines",
         "type": "scatter",
         "x": [
          3835,
          3835,
          3845,
          3845
         ],
         "xaxis": "x",
         "y": [
          0,
          2.013153422013723,
          2.013153422013723,
          0
         ],
         "yaxis": "y"
        },
        {
         "hoverinfo": "text",
         "marker": {
          "color": "rgb(133,20,75)"
         },
         "mode": "lines",
         "type": "scatter",
         "x": [
          3855,
          3855,
          3865,
          3865
         ],
         "xaxis": "x",
         "y": [
          0,
          1.377223562407647,
          1.377223562407647,
          0
         ],
         "yaxis": "y"
        },
        {
         "hoverinfo": "text",
         "marker": {
          "color": "rgb(133,20,75)"
         },
         "mode": "lines",
         "type": "scatter",
         "x": [
          3875,
          3875,
          3885,
          3885
         ],
         "xaxis": "x",
         "y": [
          0,
          1.8251221634399002,
          1.8251221634399002,
          0
         ],
         "yaxis": "y"
        },
        {
         "hoverinfo": "text",
         "marker": {
          "color": "rgb(133,20,75)"
         },
         "mode": "lines",
         "type": "scatter",
         "x": [
          3860,
          3860,
          3880,
          3880
         ],
         "xaxis": "x",
         "y": [
          1.377223562407647,
          2.576099311008478,
          2.576099311008478,
          1.8251221634399002
         ],
         "yaxis": "y"
        },
        {
         "hoverinfo": "text",
         "marker": {
          "color": "rgb(133,20,75)"
         },
         "mode": "lines",
         "type": "scatter",
         "x": [
          3840,
          3840,
          3870,
          3870
         ],
         "xaxis": "x",
         "y": [
          2.013153422013723,
          2.825108914788063,
          2.825108914788063,
          2.576099311008478
         ],
         "yaxis": "y"
        },
        {
         "hoverinfo": "text",
         "marker": {
          "color": "rgb(133,20,75)"
         },
         "mode": "lines",
         "type": "scatter",
         "x": [
          3825,
          3825,
          3855,
          3855
         ],
         "xaxis": "x",
         "y": [
          0,
          3.9342898838768408,
          3.9342898838768408,
          2.825108914788063
         ],
         "yaxis": "y"
        },
        {
         "hoverinfo": "text",
         "marker": {
          "color": "rgb(133,20,75)"
         },
         "mode": "lines",
         "type": "scatter",
         "x": [
          3785,
          3785,
          3840,
          3840
         ],
         "xaxis": "x",
         "y": [
          3.1091226593104277,
          4.67461249819192,
          4.67461249819192,
          3.9342898838768408
         ],
         "yaxis": "y"
        },
        {
         "hoverinfo": "text",
         "marker": {
          "color": "rgb(133,20,75)"
         },
         "mode": "lines",
         "type": "scatter",
         "x": [
          3742.5,
          3742.5,
          3812.5,
          3812.5
         ],
         "xaxis": "x",
         "y": [
          2.850199217064347,
          5.664051621040386,
          5.664051621040386,
          4.67461249819192
         ],
         "yaxis": "y"
        },
        {
         "hoverinfo": "text",
         "marker": {
          "color": "rgb(133,20,75)"
         },
         "mode": "lines",
         "type": "scatter",
         "x": [
          3168.017578125,
          3168.017578125,
          3777.5,
          3777.5
         ],
         "xaxis": "x",
         "y": [
          5.369286515124273,
          7.029256601876485,
          7.029256601876485,
          5.664051621040386
         ],
         "yaxis": "y"
        },
        {
         "hoverinfo": "text",
         "marker": {
          "color": "rgb(133,20,75)"
         },
         "mode": "lines",
         "type": "scatter",
         "x": [
          2347.8564453125,
          2347.8564453125,
          3472.7587890625,
          3472.7587890625
         ],
         "xaxis": "x",
         "y": [
          6.49982350950413,
          7.8345398377292375,
          7.8345398377292375,
          7.029256601876485
         ],
         "yaxis": "y"
        },
        {
         "hoverinfo": "text",
         "marker": {
          "color": "rgb(133,20,75)"
         },
         "mode": "lines",
         "type": "scatter",
         "x": [
          1910.15625,
          1910.15625,
          2910.3076171875,
          2910.3076171875
         ],
         "xaxis": "x",
         "y": [
          6.534977182797628,
          8.918317130766232,
          8.918317130766232,
          7.8345398377292375
         ],
         "yaxis": "y"
        },
        {
         "hoverinfo": "text",
         "marker": {
          "color": "rgb(133,20,75)"
         },
         "mode": "lines",
         "type": "scatter",
         "x": [
          3905,
          3905,
          3915,
          3915
         ],
         "xaxis": "x",
         "y": [
          0,
          2.740902789376786,
          2.740902789376786,
          0
         ],
         "yaxis": "y"
        },
        {
         "hoverinfo": "text",
         "marker": {
          "color": "rgb(133,20,75)"
         },
         "mode": "lines",
         "type": "scatter",
         "x": [
          3935,
          3935,
          3945,
          3945
         ],
         "xaxis": "x",
         "y": [
          0,
          2.8926803984564016,
          2.8926803984564016,
          0
         ],
         "yaxis": "y"
        },
        {
         "hoverinfo": "text",
         "marker": {
          "color": "rgb(133,20,75)"
         },
         "mode": "lines",
         "type": "scatter",
         "x": [
          3925,
          3925,
          3940,
          3940
         ],
         "xaxis": "x",
         "y": [
          0,
          3.461262214803157,
          3.461262214803157,
          2.8926803984564016
         ],
         "yaxis": "y"
        },
        {
         "hoverinfo": "text",
         "marker": {
          "color": "rgb(133,20,75)"
         },
         "mode": "lines",
         "type": "scatter",
         "x": [
          3910,
          3910,
          3932.5,
          3932.5
         ],
         "xaxis": "x",
         "y": [
          2.740902789376786,
          4.246038259041855,
          4.246038259041855,
          3.461262214803157
         ],
         "yaxis": "y"
        },
        {
         "hoverinfo": "text",
         "marker": {
          "color": "rgb(133,20,75)"
         },
         "mode": "lines",
         "type": "scatter",
         "x": [
          3965,
          3965,
          3975,
          3975
         ],
         "xaxis": "x",
         "y": [
          0,
          1.6076702922304422,
          1.6076702922304422,
          0
         ],
         "yaxis": "y"
        },
        {
         "hoverinfo": "text",
         "marker": {
          "color": "rgb(133,20,75)"
         },
         "mode": "lines",
         "type": "scatter",
         "x": [
          3955,
          3955,
          3970,
          3970
         ],
         "xaxis": "x",
         "y": [
          0,
          1.931029190336673,
          1.931029190336673,
          1.6076702922304422
         ],
         "yaxis": "y"
        },
        {
         "hoverinfo": "text",
         "marker": {
          "color": "rgb(133,20,75)"
         },
         "mode": "lines",
         "type": "scatter",
         "x": [
          3995,
          3995,
          4005,
          4005
         ],
         "xaxis": "x",
         "y": [
          0,
          1.532109440654848,
          1.532109440654848,
          0
         ],
         "yaxis": "y"
        },
        {
         "hoverinfo": "text",
         "marker": {
          "color": "rgb(133,20,75)"
         },
         "mode": "lines",
         "type": "scatter",
         "x": [
          3985,
          3985,
          4000,
          4000
         ],
         "xaxis": "x",
         "y": [
          0,
          1.828548470858394,
          1.828548470858394,
          1.532109440654848
         ],
         "yaxis": "y"
        },
        {
         "hoverinfo": "text",
         "marker": {
          "color": "rgb(133,20,75)"
         },
         "mode": "lines",
         "type": "scatter",
         "x": [
          4015,
          4015,
          4025,
          4025
         ],
         "xaxis": "x",
         "y": [
          0,
          2.0975266631505196,
          2.0975266631505196,
          0
         ],
         "yaxis": "y"
        },
        {
         "hoverinfo": "text",
         "marker": {
          "color": "rgb(133,20,75)"
         },
         "mode": "lines",
         "type": "scatter",
         "x": [
          3992.5,
          3992.5,
          4020,
          4020
         ],
         "xaxis": "x",
         "y": [
          1.828548470858394,
          2.909860703277762,
          2.909860703277762,
          2.0975266631505196
         ],
         "yaxis": "y"
        },
        {
         "hoverinfo": "text",
         "marker": {
          "color": "rgb(133,20,75)"
         },
         "mode": "lines",
         "type": "scatter",
         "x": [
          4035,
          4035,
          4045,
          4045
         ],
         "xaxis": "x",
         "y": [
          0,
          1.751378487187551,
          1.751378487187551,
          0
         ],
         "yaxis": "y"
        },
        {
         "hoverinfo": "text",
         "marker": {
          "color": "rgb(133,20,75)"
         },
         "mode": "lines",
         "type": "scatter",
         "x": [
          4065,
          4065,
          4075,
          4075
         ],
         "xaxis": "x",
         "y": [
          0,
          1.6556942945942912,
          1.6556942945942912,
          0
         ],
         "yaxis": "y"
        },
        {
         "hoverinfo": "text",
         "marker": {
          "color": "rgb(133,20,75)"
         },
         "mode": "lines",
         "type": "scatter",
         "x": [
          4055,
          4055,
          4070,
          4070
         ],
         "xaxis": "x",
         "y": [
          0,
          2.0866545744490907,
          2.0866545744490907,
          1.6556942945942912
         ],
         "yaxis": "y"
        },
        {
         "hoverinfo": "text",
         "marker": {
          "color": "rgb(133,20,75)"
         },
         "mode": "lines",
         "type": "scatter",
         "x": [
          4040,
          4040,
          4062.5,
          4062.5
         ],
         "xaxis": "x",
         "y": [
          1.751378487187551,
          2.978745708237053,
          2.978745708237053,
          2.0866545744490907
         ],
         "yaxis": "y"
        },
        {
         "hoverinfo": "text",
         "marker": {
          "color": "rgb(133,20,75)"
         },
         "mode": "lines",
         "type": "scatter",
         "x": [
          4006.25,
          4006.25,
          4051.25,
          4051.25
         ],
         "xaxis": "x",
         "y": [
          2.909860703277762,
          3.162743797542663,
          3.162743797542663,
          2.978745708237053
         ],
         "yaxis": "y"
        },
        {
         "hoverinfo": "text",
         "marker": {
          "color": "rgb(133,20,75)"
         },
         "mode": "lines",
         "type": "scatter",
         "x": [
          3962.5,
          3962.5,
          4028.75,
          4028.75
         ],
         "xaxis": "x",
         "y": [
          1.931029190336673,
          3.712162806501692,
          3.712162806501692,
          3.162743797542663
         ],
         "yaxis": "y"
        },
        {
         "hoverinfo": "text",
         "marker": {
          "color": "rgb(133,20,75)"
         },
         "mode": "lines",
         "type": "scatter",
         "x": [
          4085,
          4085,
          4095,
          4095
         ],
         "xaxis": "x",
         "y": [
          0,
          2.559883755199695,
          2.559883755199695,
          0
         ],
         "yaxis": "y"
        },
        {
         "hoverinfo": "text",
         "marker": {
          "color": "rgb(133,20,75)"
         },
         "mode": "lines",
         "type": "scatter",
         "x": [
          4115,
          4115,
          4125,
          4125
         ],
         "xaxis": "x",
         "y": [
          0,
          2.122034371822165,
          2.122034371822165,
          0
         ],
         "yaxis": "y"
        },
        {
         "hoverinfo": "text",
         "marker": {
          "color": "rgb(133,20,75)"
         },
         "mode": "lines",
         "type": "scatter",
         "x": [
          4105,
          4105,
          4120,
          4120
         ],
         "xaxis": "x",
         "y": [
          0,
          3.347155374100578,
          3.347155374100578,
          2.122034371822165
         ],
         "yaxis": "y"
        },
        {
         "hoverinfo": "text",
         "marker": {
          "color": "rgb(133,20,75)"
         },
         "mode": "lines",
         "type": "scatter",
         "x": [
          4090,
          4090,
          4112.5,
          4112.5
         ],
         "xaxis": "x",
         "y": [
          2.559883755199695,
          4.44261771171396,
          4.44261771171396,
          3.347155374100578
         ],
         "yaxis": "y"
        },
        {
         "hoverinfo": "text",
         "marker": {
          "color": "rgb(133,20,75)"
         },
         "mode": "lines",
         "type": "scatter",
         "x": [
          3995.625,
          3995.625,
          4101.25,
          4101.25
         ],
         "xaxis": "x",
         "y": [
          3.712162806501692,
          5.003430173525868,
          5.003430173525868,
          4.44261771171396
         ],
         "yaxis": "y"
        },
        {
         "hoverinfo": "text",
         "marker": {
          "color": "rgb(133,20,75)"
         },
         "mode": "lines",
         "type": "scatter",
         "x": [
          3921.25,
          3921.25,
          4048.4375,
          4048.4375
         ],
         "xaxis": "x",
         "y": [
          4.246038259041855,
          6.24803394401457,
          6.24803394401457,
          5.003430173525868
         ],
         "yaxis": "y"
        },
        {
         "hoverinfo": "text",
         "marker": {
          "color": "rgb(133,20,75)"
         },
         "mode": "lines",
         "type": "scatter",
         "x": [
          3895,
          3895,
          3984.84375,
          3984.84375
         ],
         "xaxis": "x",
         "y": [
          0,
          7.541301151047836,
          7.541301151047836,
          6.24803394401457
         ],
         "yaxis": "y"
        },
        {
         "hoverinfo": "text",
         "marker": {
          "color": "rgb(133,20,75)"
         },
         "mode": "lines",
         "type": "scatter",
         "x": [
          4135,
          4135,
          4145,
          4145
         ],
         "xaxis": "x",
         "y": [
          0,
          4.874252523249761,
          4.874252523249761,
          0
         ],
         "yaxis": "y"
        },
        {
         "hoverinfo": "text",
         "marker": {
          "color": "rgb(133,20,75)"
         },
         "mode": "lines",
         "type": "scatter",
         "x": [
          4155,
          4155,
          4165,
          4165
         ],
         "xaxis": "x",
         "y": [
          0,
          3.470040614295234,
          3.470040614295234,
          0
         ],
         "yaxis": "y"
        },
        {
         "hoverinfo": "text",
         "marker": {
          "color": "rgb(133,20,75)"
         },
         "mode": "lines",
         "type": "scatter",
         "x": [
          4205,
          4205,
          4215,
          4215
         ],
         "xaxis": "x",
         "y": [
          0,
          1.9066147798612167,
          1.9066147798612167,
          0
         ],
         "yaxis": "y"
        },
        {
         "hoverinfo": "text",
         "marker": {
          "color": "rgb(133,20,75)"
         },
         "mode": "lines",
         "type": "scatter",
         "x": [
          4195,
          4195,
          4210,
          4210
         ],
         "xaxis": "x",
         "y": [
          0,
          2.476167864447529,
          2.476167864447529,
          1.9066147798612167
         ],
         "yaxis": "y"
        },
        {
         "hoverinfo": "text",
         "marker": {
          "color": "rgb(133,20,75)"
         },
         "mode": "lines",
         "type": "scatter",
         "x": [
          4185,
          4185,
          4202.5,
          4202.5
         ],
         "xaxis": "x",
         "y": [
          0,
          3.3906840973388865,
          3.3906840973388865,
          2.476167864447529
         ],
         "yaxis": "y"
        },
        {
         "hoverinfo": "text",
         "marker": {
          "color": "rgb(133,20,75)"
         },
         "mode": "lines",
         "type": "scatter",
         "x": [
          4175,
          4175,
          4193.75,
          4193.75
         ],
         "xaxis": "x",
         "y": [
          0,
          3.801266391402674,
          3.801266391402674,
          3.3906840973388865
         ],
         "yaxis": "y"
        },
        {
         "hoverinfo": "text",
         "marker": {
          "color": "rgb(133,20,75)"
         },
         "mode": "lines",
         "type": "scatter",
         "x": [
          4235,
          4235,
          4245,
          4245
         ],
         "xaxis": "x",
         "y": [
          0,
          2.1808019214242225,
          2.1808019214242225,
          0
         ],
         "yaxis": "y"
        },
        {
         "hoverinfo": "text",
         "marker": {
          "color": "rgb(133,20,75)"
         },
         "mode": "lines",
         "type": "scatter",
         "x": [
          4225,
          4225,
          4240,
          4240
         ],
         "xaxis": "x",
         "y": [
          0,
          2.5478515649587603,
          2.5478515649587603,
          2.1808019214242225
         ],
         "yaxis": "y"
        },
        {
         "hoverinfo": "text",
         "marker": {
          "color": "rgb(133,20,75)"
         },
         "mode": "lines",
         "type": "scatter",
         "x": [
          4285,
          4285,
          4295,
          4295
         ],
         "xaxis": "x",
         "y": [
          0,
          1.8462578767019242,
          1.8462578767019242,
          0
         ],
         "yaxis": "y"
        },
        {
         "hoverinfo": "text",
         "marker": {
          "color": "rgb(133,20,75)"
         },
         "mode": "lines",
         "type": "scatter",
         "x": [
          4275,
          4275,
          4290,
          4290
         ],
         "xaxis": "x",
         "y": [
          0,
          2.1631128229650765,
          2.1631128229650765,
          1.8462578767019242
         ],
         "yaxis": "y"
        },
        {
         "hoverinfo": "text",
         "marker": {
          "color": "rgb(133,20,75)"
         },
         "mode": "lines",
         "type": "scatter",
         "x": [
          4265,
          4265,
          4282.5,
          4282.5
         ],
         "xaxis": "x",
         "y": [
          0,
          2.8471806397901633,
          2.8471806397901633,
          2.1631128229650765
         ],
         "yaxis": "y"
        },
        {
         "hoverinfo": "text",
         "marker": {
          "color": "rgb(133,20,75)"
         },
         "mode": "lines",
         "type": "scatter",
         "x": [
          4255,
          4255,
          4273.75,
          4273.75
         ],
         "xaxis": "x",
         "y": [
          0,
          3.355352007722724,
          3.355352007722724,
          2.8471806397901633
         ],
         "yaxis": "y"
        },
        {
         "hoverinfo": "text",
         "marker": {
          "color": "rgb(133,20,75)"
         },
         "mode": "lines",
         "type": "scatter",
         "x": [
          4232.5,
          4232.5,
          4264.375,
          4264.375
         ],
         "xaxis": "x",
         "y": [
          2.5478515649587603,
          4.220494225755696,
          4.220494225755696,
          3.355352007722724
         ],
         "yaxis": "y"
        },
        {
         "hoverinfo": "text",
         "marker": {
          "color": "rgb(133,20,75)"
         },
         "mode": "lines",
         "type": "scatter",
         "x": [
          4184.375,
          4184.375,
          4248.4375,
          4248.4375
         ],
         "xaxis": "x",
         "y": [
          3.801266391402674,
          4.94514646182312,
          4.94514646182312,
          4.220494225755696
         ],
         "yaxis": "y"
        },
        {
         "hoverinfo": "text",
         "marker": {
          "color": "rgb(133,20,75)"
         },
         "mode": "lines",
         "type": "scatter",
         "x": [
          4160,
          4160,
          4216.40625,
          4216.40625
         ],
         "xaxis": "x",
         "y": [
          3.470040614295234,
          5.453654467770261,
          5.453654467770261,
          4.94514646182312
         ],
         "yaxis": "y"
        },
        {
         "hoverinfo": "text",
         "marker": {
          "color": "rgb(133,20,75)"
         },
         "mode": "lines",
         "type": "scatter",
         "x": [
          4140,
          4140,
          4188.203125,
          4188.203125
         ],
         "xaxis": "x",
         "y": [
          4.874252523249761,
          6.883048846166736,
          6.883048846166736,
          5.453654467770261
         ],
         "yaxis": "y"
        },
        {
         "hoverinfo": "text",
         "marker": {
          "color": "rgb(133,20,75)"
         },
         "mode": "lines",
         "type": "scatter",
         "x": [
          4305,
          4305,
          4315,
          4315
         ],
         "xaxis": "x",
         "y": [
          0,
          1.451903944116735,
          1.451903944116735,
          0
         ],
         "yaxis": "y"
        },
        {
         "hoverinfo": "text",
         "marker": {
          "color": "rgb(133,20,75)"
         },
         "mode": "lines",
         "type": "scatter",
         "x": [
          4325,
          4325,
          4335,
          4335
         ],
         "xaxis": "x",
         "y": [
          0,
          1.7406522630269596,
          1.7406522630269596,
          0
         ],
         "yaxis": "y"
        },
        {
         "hoverinfo": "text",
         "marker": {
          "color": "rgb(133,20,75)"
         },
         "mode": "lines",
         "type": "scatter",
         "x": [
          4310,
          4310,
          4330,
          4330
         ],
         "xaxis": "x",
         "y": [
          1.451903944116735,
          2.031199065328375,
          2.031199065328375,
          1.7406522630269596
         ],
         "yaxis": "y"
        },
        {
         "hoverinfo": "text",
         "marker": {
          "color": "rgb(133,20,75)"
         },
         "mode": "lines",
         "type": "scatter",
         "x": [
          4365,
          4365,
          4375,
          4375
         ],
         "xaxis": "x",
         "y": [
          0,
          1.368401627075855,
          1.368401627075855,
          0
         ],
         "yaxis": "y"
        },
        {
         "hoverinfo": "text",
         "marker": {
          "color": "rgb(133,20,75)"
         },
         "mode": "lines",
         "type": "scatter",
         "x": [
          4355,
          4355,
          4370,
          4370
         ],
         "xaxis": "x",
         "y": [
          0,
          1.6308556924422861,
          1.6308556924422861,
          1.368401627075855
         ],
         "yaxis": "y"
        },
        {
         "hoverinfo": "text",
         "marker": {
          "color": "rgb(133,20,75)"
         },
         "mode": "lines",
         "type": "scatter",
         "x": [
          4345,
          4345,
          4362.5,
          4362.5
         ],
         "xaxis": "x",
         "y": [
          0,
          2.2937303530441473,
          2.2937303530441473,
          1.6308556924422861
         ],
         "yaxis": "y"
        },
        {
         "hoverinfo": "text",
         "marker": {
          "color": "rgb(133,20,75)"
         },
         "mode": "lines",
         "type": "scatter",
         "x": [
          4320,
          4320,
          4353.75,
          4353.75
         ],
         "xaxis": "x",
         "y": [
          2.031199065328375,
          2.377971550923031,
          2.377971550923031,
          2.2937303530441473
         ],
         "yaxis": "y"
        },
        {
         "hoverinfo": "text",
         "marker": {
          "color": "rgb(133,20,75)"
         },
         "mode": "lines",
         "type": "scatter",
         "x": [
          4395,
          4395,
          4405,
          4405
         ],
         "xaxis": "x",
         "y": [
          0,
          1.8189707007312295,
          1.8189707007312295,
          0
         ],
         "yaxis": "y"
        },
        {
         "hoverinfo": "text",
         "marker": {
          "color": "rgb(133,20,75)"
         },
         "mode": "lines",
         "type": "scatter",
         "x": [
          4385,
          4385,
          4400,
          4400
         ],
         "xaxis": "x",
         "y": [
          0,
          2.18499822625804,
          2.18499822625804,
          1.8189707007312295
         ],
         "yaxis": "y"
        },
        {
         "hoverinfo": "text",
         "marker": {
          "color": "rgb(133,20,75)"
         },
         "mode": "lines",
         "type": "scatter",
         "x": [
          4435,
          4435,
          4445,
          4445
         ],
         "xaxis": "x",
         "y": [
          0,
          1.487073572323634,
          1.487073572323634,
          0
         ],
         "yaxis": "y"
        },
        {
         "hoverinfo": "text",
         "marker": {
          "color": "rgb(133,20,75)"
         },
         "mode": "lines",
         "type": "scatter",
         "x": [
          4425,
          4425,
          4440,
          4440
         ],
         "xaxis": "x",
         "y": [
          0,
          1.6106643451207596,
          1.6106643451207596,
          1.487073572323634
         ],
         "yaxis": "y"
        },
        {
         "hoverinfo": "text",
         "marker": {
          "color": "rgb(133,20,75)"
         },
         "mode": "lines",
         "type": "scatter",
         "x": [
          4415,
          4415,
          4432.5,
          4432.5
         ],
         "xaxis": "x",
         "y": [
          0,
          2.271692941494897,
          2.271692941494897,
          1.6106643451207596
         ],
         "yaxis": "y"
        },
        {
         "hoverinfo": "text",
         "marker": {
          "color": "rgb(133,20,75)"
         },
         "mode": "lines",
         "type": "scatter",
         "x": [
          4392.5,
          4392.5,
          4423.75,
          4423.75
         ],
         "xaxis": "x",
         "y": [
          2.18499822625804,
          2.971393789920725,
          2.971393789920725,
          2.271692941494897
         ],
         "yaxis": "y"
        },
        {
         "hoverinfo": "text",
         "marker": {
          "color": "rgb(133,20,75)"
         },
         "mode": "lines",
         "type": "scatter",
         "x": [
          4336.875,
          4336.875,
          4408.125,
          4408.125
         ],
         "xaxis": "x",
         "y": [
          2.377971550923031,
          3.310269501756576,
          3.310269501756576,
          2.971393789920725
         ],
         "yaxis": "y"
        },
        {
         "hoverinfo": "text",
         "marker": {
          "color": "rgb(133,20,75)"
         },
         "mode": "lines",
         "type": "scatter",
         "x": [
          4465,
          4465,
          4475,
          4475
         ],
         "xaxis": "x",
         "y": [
          0,
          1.4897600930460309,
          1.4897600930460309,
          0
         ],
         "yaxis": "y"
        },
        {
         "hoverinfo": "text",
         "marker": {
          "color": "rgb(133,20,75)"
         },
         "mode": "lines",
         "type": "scatter",
         "x": [
          4455,
          4455,
          4470,
          4470
         ],
         "xaxis": "x",
         "y": [
          0,
          2.088313474606575,
          2.088313474606575,
          1.4897600930460309
         ],
         "yaxis": "y"
        },
        {
         "hoverinfo": "text",
         "marker": {
          "color": "rgb(133,20,75)"
         },
         "mode": "lines",
         "type": "scatter",
         "x": [
          4485,
          4485,
          4495,
          4495
         ],
         "xaxis": "x",
         "y": [
          0,
          1.4312328946816424,
          1.4312328946816424,
          0
         ],
         "yaxis": "y"
        },
        {
         "hoverinfo": "text",
         "marker": {
          "color": "rgb(133,20,75)"
         },
         "mode": "lines",
         "type": "scatter",
         "x": [
          4505,
          4505,
          4515,
          4515
         ],
         "xaxis": "x",
         "y": [
          0,
          1.7247747389123145,
          1.7247747389123145,
          0
         ],
         "yaxis": "y"
        },
        {
         "hoverinfo": "text",
         "marker": {
          "color": "rgb(133,20,75)"
         },
         "mode": "lines",
         "type": "scatter",
         "x": [
          4490,
          4490,
          4510,
          4510
         ],
         "xaxis": "x",
         "y": [
          1.4312328946816424,
          1.9131092959142357,
          1.9131092959142357,
          1.7247747389123145
         ],
         "yaxis": "y"
        },
        {
         "hoverinfo": "text",
         "marker": {
          "color": "rgb(133,20,75)"
         },
         "mode": "lines",
         "type": "scatter",
         "x": [
          4535,
          4535,
          4545,
          4545
         ],
         "xaxis": "x",
         "y": [
          0,
          1.6012378833493928,
          1.6012378833493928,
          0
         ],
         "yaxis": "y"
        },
        {
         "hoverinfo": "text",
         "marker": {
          "color": "rgb(133,20,75)"
         },
         "mode": "lines",
         "type": "scatter",
         "x": [
          4525,
          4525,
          4540,
          4540
         ],
         "xaxis": "x",
         "y": [
          0,
          2.1513878252281304,
          2.1513878252281304,
          1.6012378833493928
         ],
         "yaxis": "y"
        },
        {
         "hoverinfo": "text",
         "marker": {
          "color": "rgb(133,20,75)"
         },
         "mode": "lines",
         "type": "scatter",
         "x": [
          4500,
          4500,
          4532.5,
          4532.5
         ],
         "xaxis": "x",
         "y": [
          1.9131092959142357,
          2.7580600622376723,
          2.7580600622376723,
          2.1513878252281304
         ],
         "yaxis": "y"
        },
        {
         "hoverinfo": "text",
         "marker": {
          "color": "rgb(133,20,75)"
         },
         "mode": "lines",
         "type": "scatter",
         "x": [
          4462.5,
          4462.5,
          4516.25,
          4516.25
         ],
         "xaxis": "x",
         "y": [
          2.088313474606575,
          2.958651965474091,
          2.958651965474091,
          2.7580600622376723
         ],
         "yaxis": "y"
        },
        {
         "hoverinfo": "text",
         "marker": {
          "color": "rgb(133,20,75)"
         },
         "mode": "lines",
         "type": "scatter",
         "x": [
          4565,
          4565,
          4575,
          4575
         ],
         "xaxis": "x",
         "y": [
          0,
          1.818093035931395,
          1.818093035931395,
          0
         ],
         "yaxis": "y"
        },
        {
         "hoverinfo": "text",
         "marker": {
          "color": "rgb(133,20,75)"
         },
         "mode": "lines",
         "type": "scatter",
         "x": [
          4555,
          4555,
          4570,
          4570
         ],
         "xaxis": "x",
         "y": [
          0,
          1.9114638559927553,
          1.9114638559927553,
          1.818093035931395
         ],
         "yaxis": "y"
        },
        {
         "hoverinfo": "text",
         "marker": {
          "color": "rgb(133,20,75)"
         },
         "mode": "lines",
         "type": "scatter",
         "x": [
          4595,
          4595,
          4605,
          4605
         ],
         "xaxis": "x",
         "y": [
          0,
          1.4787008208537658,
          1.4787008208537658,
          0
         ],
         "yaxis": "y"
        },
        {
         "hoverinfo": "text",
         "marker": {
          "color": "rgb(133,20,75)"
         },
         "mode": "lines",
         "type": "scatter",
         "x": [
          4615,
          4615,
          4625,
          4625
         ],
         "xaxis": "x",
         "y": [
          0,
          1.696936793522677,
          1.696936793522677,
          0
         ],
         "yaxis": "y"
        },
        {
         "hoverinfo": "text",
         "marker": {
          "color": "rgb(133,20,75)"
         },
         "mode": "lines",
         "type": "scatter",
         "x": [
          4635,
          4635,
          4645,
          4645
         ],
         "xaxis": "x",
         "y": [
          0,
          1.790494733344274,
          1.790494733344274,
          0
         ],
         "yaxis": "y"
        },
        {
         "hoverinfo": "text",
         "marker": {
          "color": "rgb(133,20,75)"
         },
         "mode": "lines",
         "type": "scatter",
         "x": [
          4620,
          4620,
          4640,
          4640
         ],
         "xaxis": "x",
         "y": [
          1.696936793522677,
          2.181184461089515,
          2.181184461089515,
          1.790494733344274
         ],
         "yaxis": "y"
        },
        {
         "hoverinfo": "text",
         "marker": {
          "color": "rgb(133,20,75)"
         },
         "mode": "lines",
         "type": "scatter",
         "x": [
          4600,
          4600,
          4630,
          4630
         ],
         "xaxis": "x",
         "y": [
          1.4787008208537658,
          2.372960936741365,
          2.372960936741365,
          2.181184461089515
         ],
         "yaxis": "y"
        },
        {
         "hoverinfo": "text",
         "marker": {
          "color": "rgb(133,20,75)"
         },
         "mode": "lines",
         "type": "scatter",
         "x": [
          4585,
          4585,
          4615,
          4615
         ],
         "xaxis": "x",
         "y": [
          0,
          2.515356734353719,
          2.515356734353719,
          2.372960936741365
         ],
         "yaxis": "y"
        },
        {
         "hoverinfo": "text",
         "marker": {
          "color": "rgb(133,20,75)"
         },
         "mode": "lines",
         "type": "scatter",
         "x": [
          4562.5,
          4562.5,
          4600,
          4600
         ],
         "xaxis": "x",
         "y": [
          1.9114638559927553,
          3.2945667239948344,
          3.2945667239948344,
          2.515356734353719
         ],
         "yaxis": "y"
        },
        {
         "hoverinfo": "text",
         "marker": {
          "color": "rgb(133,20,75)"
         },
         "mode": "lines",
         "type": "scatter",
         "x": [
          4489.375,
          4489.375,
          4581.25,
          4581.25
         ],
         "xaxis": "x",
         "y": [
          2.958651965474091,
          3.832674617158858,
          3.832674617158858,
          3.2945667239948344
         ],
         "yaxis": "y"
        },
        {
         "hoverinfo": "text",
         "marker": {
          "color": "rgb(133,20,75)"
         },
         "mode": "lines",
         "type": "scatter",
         "x": [
          4372.5,
          4372.5,
          4535.3125,
          4535.3125
         ],
         "xaxis": "x",
         "y": [
          3.310269501756576,
          4.136859377880912,
          4.136859377880912,
          3.832674617158858
         ],
         "yaxis": "y"
        },
        {
         "hoverinfo": "text",
         "marker": {
          "color": "rgb(133,20,75)"
         },
         "mode": "lines",
         "type": "scatter",
         "x": [
          4685,
          4685,
          4695,
          4695
         ],
         "xaxis": "x",
         "y": [
          0,
          1.299660227679281,
          1.299660227679281,
          0
         ],
         "yaxis": "y"
        },
        {
         "hoverinfo": "text",
         "marker": {
          "color": "rgb(133,20,75)"
         },
         "mode": "lines",
         "type": "scatter",
         "x": [
          4675,
          4675,
          4690,
          4690
         ],
         "xaxis": "x",
         "y": [
          0,
          2.437565453144004,
          2.437565453144004,
          1.299660227679281
         ],
         "yaxis": "y"
        },
        {
         "hoverinfo": "text",
         "marker": {
          "color": "rgb(133,20,75)"
         },
         "mode": "lines",
         "type": "scatter",
         "x": [
          4665,
          4665,
          4682.5,
          4682.5
         ],
         "xaxis": "x",
         "y": [
          0,
          2.6965845263808235,
          2.6965845263808235,
          2.437565453144004
         ],
         "yaxis": "y"
        },
        {
         "hoverinfo": "text",
         "marker": {
          "color": "rgb(133,20,75)"
         },
         "mode": "lines",
         "type": "scatter",
         "x": [
          4655,
          4655,
          4673.75,
          4673.75
         ],
         "xaxis": "x",
         "y": [
          0,
          4.19364313432122,
          4.19364313432122,
          2.6965845263808235
         ],
         "yaxis": "y"
        },
        {
         "hoverinfo": "text",
         "marker": {
          "color": "rgb(133,20,75)"
         },
         "mode": "lines",
         "type": "scatter",
         "x": [
          4453.90625,
          4453.90625,
          4664.375,
          4664.375
         ],
         "xaxis": "x",
         "y": [
          4.136859377880912,
          5.603864193260254,
          5.603864193260254,
          4.19364313432122
         ],
         "yaxis": "y"
        },
        {
         "hoverinfo": "text",
         "marker": {
          "color": "rgb(133,20,75)"
         },
         "mode": "lines",
         "type": "scatter",
         "x": [
          4715,
          4715,
          4725,
          4725
         ],
         "xaxis": "x",
         "y": [
          0,
          2.5207500435552626,
          2.5207500435552626,
          0
         ],
         "yaxis": "y"
        },
        {
         "hoverinfo": "text",
         "marker": {
          "color": "rgb(133,20,75)"
         },
         "mode": "lines",
         "type": "scatter",
         "x": [
          4705,
          4705,
          4720,
          4720
         ],
         "xaxis": "x",
         "y": [
          0,
          4.309792082514137,
          4.309792082514137,
          2.5207500435552626
         ],
         "yaxis": "y"
        },
        {
         "hoverinfo": "text",
         "marker": {
          "color": "rgb(133,20,75)"
         },
         "mode": "lines",
         "type": "scatter",
         "x": [
          4735,
          4735,
          4745,
          4745
         ],
         "xaxis": "x",
         "y": [
          0,
          1.535897704065501,
          1.535897704065501,
          0
         ],
         "yaxis": "y"
        },
        {
         "hoverinfo": "text",
         "marker": {
          "color": "rgb(133,20,75)"
         },
         "mode": "lines",
         "type": "scatter",
         "x": [
          4755,
          4755,
          4765,
          4765
         ],
         "xaxis": "x",
         "y": [
          0,
          1.854640010436851,
          1.854640010436851,
          0
         ],
         "yaxis": "y"
        },
        {
         "hoverinfo": "text",
         "marker": {
          "color": "rgb(133,20,75)"
         },
         "mode": "lines",
         "type": "scatter",
         "x": [
          4740,
          4740,
          4760,
          4760
         ],
         "xaxis": "x",
         "y": [
          1.535897704065501,
          2.241837488856165,
          2.241837488856165,
          1.854640010436851
         ],
         "yaxis": "y"
        },
        {
         "hoverinfo": "text",
         "marker": {
          "color": "rgb(133,20,75)"
         },
         "mode": "lines",
         "type": "scatter",
         "x": [
          4795,
          4795,
          4805,
          4805
         ],
         "xaxis": "x",
         "y": [
          0,
          1.0276139961568989,
          1.0276139961568989,
          0
         ],
         "yaxis": "y"
        },
        {
         "hoverinfo": "text",
         "marker": {
          "color": "rgb(133,20,75)"
         },
         "mode": "lines",
         "type": "scatter",
         "x": [
          4785,
          4785,
          4800,
          4800
         ],
         "xaxis": "x",
         "y": [
          0,
          1.8232091051972075,
          1.8232091051972075,
          1.0276139961568989
         ],
         "yaxis": "y"
        },
        {
         "hoverinfo": "text",
         "marker": {
          "color": "rgb(133,20,75)"
         },
         "mode": "lines",
         "type": "scatter",
         "x": [
          4775,
          4775,
          4792.5,
          4792.5
         ],
         "xaxis": "x",
         "y": [
          0,
          2.44305071683228,
          2.44305071683228,
          1.8232091051972075
         ],
         "yaxis": "y"
        },
        {
         "hoverinfo": "text",
         "marker": {
          "color": "rgb(133,20,75)"
         },
         "mode": "lines",
         "type": "scatter",
         "x": [
          4825,
          4825,
          4835,
          4835
         ],
         "xaxis": "x",
         "y": [
          0,
          1.5667771453193822,
          1.5667771453193822,
          0
         ],
         "yaxis": "y"
        },
        {
         "hoverinfo": "text",
         "marker": {
          "color": "rgb(133,20,75)"
         },
         "mode": "lines",
         "type": "scatter",
         "x": [
          4815,
          4815,
          4830,
          4830
         ],
         "xaxis": "x",
         "y": [
          0,
          1.9412222291965195,
          1.9412222291965195,
          1.5667771453193822
         ],
         "yaxis": "y"
        },
        {
         "hoverinfo": "text",
         "marker": {
          "color": "rgb(133,20,75)"
         },
         "mode": "lines",
         "type": "scatter",
         "x": [
          4845,
          4845,
          4855,
          4855
         ],
         "xaxis": "x",
         "y": [
          0,
          1.120852682272412,
          1.120852682272412,
          0
         ],
         "yaxis": "y"
        },
        {
         "hoverinfo": "text",
         "marker": {
          "color": "rgb(133,20,75)"
         },
         "mode": "lines",
         "type": "scatter",
         "x": [
          4865,
          4865,
          4875,
          4875
         ],
         "xaxis": "x",
         "y": [
          0,
          1.4204056299971621,
          1.4204056299971621,
          0
         ],
         "yaxis": "y"
        },
        {
         "hoverinfo": "text",
         "marker": {
          "color": "rgb(133,20,75)"
         },
         "mode": "lines",
         "type": "scatter",
         "x": [
          4850,
          4850,
          4870,
          4870
         ],
         "xaxis": "x",
         "y": [
          1.120852682272412,
          2.0459571755750265,
          2.0459571755750265,
          1.4204056299971621
         ],
         "yaxis": "y"
        },
        {
         "hoverinfo": "text",
         "marker": {
          "color": "rgb(133,20,75)"
         },
         "mode": "lines",
         "type": "scatter",
         "x": [
          4822.5,
          4822.5,
          4860,
          4860
         ],
         "xaxis": "x",
         "y": [
          1.9412222291965195,
          2.8190116290986267,
          2.8190116290986267,
          2.0459571755750265
         ],
         "yaxis": "y"
        },
        {
         "hoverinfo": "text",
         "marker": {
          "color": "rgb(133,20,75)"
         },
         "mode": "lines",
         "type": "scatter",
         "x": [
          4783.75,
          4783.75,
          4841.25,
          4841.25
         ],
         "xaxis": "x",
         "y": [
          2.44305071683228,
          2.857492947822749,
          2.857492947822749,
          2.8190116290986267
         ],
         "yaxis": "y"
        },
        {
         "hoverinfo": "text",
         "marker": {
          "color": "rgb(133,20,75)"
         },
         "mode": "lines",
         "type": "scatter",
         "x": [
          4750,
          4750,
          4812.5,
          4812.5
         ],
         "xaxis": "x",
         "y": [
          2.241837488856165,
          3.228175819920011,
          3.228175819920011,
          2.857492947822749
         ],
         "yaxis": "y"
        },
        {
         "hoverinfo": "text",
         "marker": {
          "color": "rgb(133,20,75)"
         },
         "mode": "lines",
         "type": "scatter",
         "x": [
          4905,
          4905,
          4915,
          4915
         ],
         "xaxis": "x",
         "y": [
          0,
          2.390472975668381,
          2.390472975668381,
          0
         ],
         "yaxis": "y"
        },
        {
         "hoverinfo": "text",
         "marker": {
          "color": "rgb(133,20,75)"
         },
         "mode": "lines",
         "type": "scatter",
         "x": [
          4895,
          4895,
          4910,
          4910
         ],
         "xaxis": "x",
         "y": [
          0,
          3.6001236898325963,
          3.6001236898325963,
          2.390472975668381
         ],
         "yaxis": "y"
        },
        {
         "hoverinfo": "text",
         "marker": {
          "color": "rgb(133,20,75)"
         },
         "mode": "lines",
         "type": "scatter",
         "x": [
          4885,
          4885,
          4902.5,
          4902.5
         ],
         "xaxis": "x",
         "y": [
          0,
          3.8298817302171315,
          3.8298817302171315,
          3.6001236898325963
         ],
         "yaxis": "y"
        },
        {
         "hoverinfo": "text",
         "marker": {
          "color": "rgb(133,20,75)"
         },
         "mode": "lines",
         "type": "scatter",
         "x": [
          4781.25,
          4781.25,
          4893.75,
          4893.75
         ],
         "xaxis": "x",
         "y": [
          3.228175819920011,
          4.452208482403742,
          4.452208482403742,
          3.8298817302171315
         ],
         "yaxis": "y"
        },
        {
         "hoverinfo": "text",
         "marker": {
          "color": "rgb(133,20,75)"
         },
         "mode": "lines",
         "type": "scatter",
         "x": [
          4712.5,
          4712.5,
          4837.5,
          4837.5
         ],
         "xaxis": "x",
         "y": [
          4.309792082514137,
          5.87425745337528,
          5.87425745337528,
          4.452208482403742
         ],
         "yaxis": "y"
        },
        {
         "hoverinfo": "text",
         "marker": {
          "color": "rgb(133,20,75)"
         },
         "mode": "lines",
         "type": "scatter",
         "x": [
          4925,
          4925,
          4935,
          4935
         ],
         "xaxis": "x",
         "y": [
          0,
          2.346213328330311,
          2.346213328330311,
          0
         ],
         "yaxis": "y"
        },
        {
         "hoverinfo": "text",
         "marker": {
          "color": "rgb(133,20,75)"
         },
         "mode": "lines",
         "type": "scatter",
         "x": [
          4955,
          4955,
          4965,
          4965
         ],
         "xaxis": "x",
         "y": [
          0,
          2.447558441570921,
          2.447558441570921,
          0
         ],
         "yaxis": "y"
        },
        {
         "hoverinfo": "text",
         "marker": {
          "color": "rgb(133,20,75)"
         },
         "mode": "lines",
         "type": "scatter",
         "x": [
          4945,
          4945,
          4960,
          4960
         ],
         "xaxis": "x",
         "y": [
          0,
          2.9910486882450504,
          2.9910486882450504,
          2.447558441570921
         ],
         "yaxis": "y"
        },
        {
         "hoverinfo": "text",
         "marker": {
          "color": "rgb(133,20,75)"
         },
         "mode": "lines",
         "type": "scatter",
         "x": [
          4930,
          4930,
          4952.5,
          4952.5
         ],
         "xaxis": "x",
         "y": [
          2.346213328330311,
          3.7804547518630507,
          3.7804547518630507,
          2.9910486882450504
         ],
         "yaxis": "y"
        },
        {
         "hoverinfo": "text",
         "marker": {
          "color": "rgb(133,20,75)"
         },
         "mode": "lines",
         "type": "scatter",
         "x": [
          4975,
          4975,
          4985,
          4985
         ],
         "xaxis": "x",
         "y": [
          0,
          2.955950694235519,
          2.955950694235519,
          0
         ],
         "yaxis": "y"
        },
        {
         "hoverinfo": "text",
         "marker": {
          "color": "rgb(133,20,75)"
         },
         "mode": "lines",
         "type": "scatter",
         "x": [
          5015,
          5015,
          5025,
          5025
         ],
         "xaxis": "x",
         "y": [
          0,
          1.3252361905162215,
          1.3252361905162215,
          0
         ],
         "yaxis": "y"
        },
        {
         "hoverinfo": "text",
         "marker": {
          "color": "rgb(133,20,75)"
         },
         "mode": "lines",
         "type": "scatter",
         "x": [
          5005,
          5005,
          5020,
          5020
         ],
         "xaxis": "x",
         "y": [
          0,
          2.1023871958676,
          2.1023871958676,
          1.3252361905162215
         ],
         "yaxis": "y"
        },
        {
         "hoverinfo": "text",
         "marker": {
          "color": "rgb(133,20,75)"
         },
         "mode": "lines",
         "type": "scatter",
         "x": [
          4995,
          4995,
          5012.5,
          5012.5
         ],
         "xaxis": "x",
         "y": [
          0,
          2.4696301944174017,
          2.4696301944174017,
          2.1023871958676
         ],
         "yaxis": "y"
        },
        {
         "hoverinfo": "text",
         "marker": {
          "color": "rgb(133,20,75)"
         },
         "mode": "lines",
         "type": "scatter",
         "x": [
          5035,
          5035,
          5045,
          5045
         ],
         "xaxis": "x",
         "y": [
          0,
          1.2162461072549684,
          1.2162461072549684,
          0
         ],
         "yaxis": "y"
        },
        {
         "hoverinfo": "text",
         "marker": {
          "color": "rgb(133,20,75)"
         },
         "mode": "lines",
         "type": "scatter",
         "x": [
          5075,
          5075,
          5085,
          5085
         ],
         "xaxis": "x",
         "y": [
          0,
          1.2693842588728508,
          1.2693842588728508,
          0
         ],
         "yaxis": "y"
        },
        {
         "hoverinfo": "text",
         "marker": {
          "color": "rgb(133,20,75)"
         },
         "mode": "lines",
         "type": "scatter",
         "x": [
          5065,
          5065,
          5080,
          5080
         ],
         "xaxis": "x",
         "y": [
          0,
          2.042229659688649,
          2.042229659688649,
          1.2693842588728508
         ],
         "yaxis": "y"
        },
        {
         "hoverinfo": "text",
         "marker": {
          "color": "rgb(133,20,75)"
         },
         "mode": "lines",
         "type": "scatter",
         "x": [
          5055,
          5055,
          5072.5,
          5072.5
         ],
         "xaxis": "x",
         "y": [
          0,
          2.068235405822135,
          2.068235405822135,
          2.042229659688649
         ],
         "yaxis": "y"
        },
        {
         "hoverinfo": "text",
         "marker": {
          "color": "rgb(133,20,75)"
         },
         "mode": "lines",
         "type": "scatter",
         "x": [
          5040,
          5040,
          5063.75,
          5063.75
         ],
         "xaxis": "x",
         "y": [
          1.2162461072549684,
          3.0605991291859107,
          3.0605991291859107,
          2.068235405822135
         ],
         "yaxis": "y"
        },
        {
         "hoverinfo": "text",
         "marker": {
          "color": "rgb(133,20,75)"
         },
         "mode": "lines",
         "type": "scatter",
         "x": [
          5003.75,
          5003.75,
          5051.875,
          5051.875
         ],
         "xaxis": "x",
         "y": [
          2.4696301944174017,
          3.2049411898449693,
          3.2049411898449693,
          3.0605991291859107
         ],
         "yaxis": "y"
        },
        {
         "hoverinfo": "text",
         "marker": {
          "color": "rgb(133,20,75)"
         },
         "mode": "lines",
         "type": "scatter",
         "x": [
          4980,
          4980,
          5027.8125,
          5027.8125
         ],
         "xaxis": "x",
         "y": [
          2.955950694235519,
          4.047565096837517,
          4.047565096837517,
          3.2049411898449693
         ],
         "yaxis": "y"
        },
        {
         "hoverinfo": "text",
         "marker": {
          "color": "rgb(133,20,75)"
         },
         "mode": "lines",
         "type": "scatter",
         "x": [
          4941.25,
          4941.25,
          5003.90625,
          5003.90625
         ],
         "xaxis": "x",
         "y": [
          3.7804547518630507,
          4.633088810392194,
          4.633088810392194,
          4.047565096837517
         ],
         "yaxis": "y"
        },
        {
         "hoverinfo": "text",
         "marker": {
          "color": "rgb(133,20,75)"
         },
         "mode": "lines",
         "type": "scatter",
         "x": [
          5115,
          5115,
          5125,
          5125
         ],
         "xaxis": "x",
         "y": [
          0,
          1.8714014887027959,
          1.8714014887027959,
          0
         ],
         "yaxis": "y"
        },
        {
         "hoverinfo": "text",
         "marker": {
          "color": "rgb(133,20,75)"
         },
         "mode": "lines",
         "type": "scatter",
         "x": [
          5105,
          5105,
          5120,
          5120
         ],
         "xaxis": "x",
         "y": [
          0,
          2.5792220922860425,
          2.5792220922860425,
          1.8714014887027959
         ],
         "yaxis": "y"
        },
        {
         "hoverinfo": "text",
         "marker": {
          "color": "rgb(133,20,75)"
         },
         "mode": "lines",
         "type": "scatter",
         "x": [
          5095,
          5095,
          5112.5,
          5112.5
         ],
         "xaxis": "x",
         "y": [
          0,
          3.1597919655650504,
          3.1597919655650504,
          2.5792220922860425
         ],
         "yaxis": "y"
        },
        {
         "hoverinfo": "text",
         "marker": {
          "color": "rgb(133,20,75)"
         },
         "mode": "lines",
         "type": "scatter",
         "x": [
          5135,
          5135,
          5145,
          5145
         ],
         "xaxis": "x",
         "y": [
          0,
          2.3541756999285113,
          2.3541756999285113,
          0
         ],
         "yaxis": "y"
        },
        {
         "hoverinfo": "text",
         "marker": {
          "color": "rgb(133,20,75)"
         },
         "mode": "lines",
         "type": "scatter",
         "x": [
          5155,
          5155,
          5165,
          5165
         ],
         "xaxis": "x",
         "y": [
          0,
          1.889388713997236,
          1.889388713997236,
          0
         ],
         "yaxis": "y"
        },
        {
         "hoverinfo": "text",
         "marker": {
          "color": "rgb(133,20,75)"
         },
         "mode": "lines",
         "type": "scatter",
         "x": [
          5175,
          5175,
          5185,
          5185
         ],
         "xaxis": "x",
         "y": [
          0,
          1.1477103977680023,
          1.1477103977680023,
          0
         ],
         "yaxis": "y"
        },
        {
         "hoverinfo": "text",
         "marker": {
          "color": "rgb(133,20,75)"
         },
         "mode": "lines",
         "type": "scatter",
         "x": [
          5205,
          5205,
          5215,
          5215
         ],
         "xaxis": "x",
         "y": [
          0,
          1.4448909222769346,
          1.4448909222769346,
          0
         ],
         "yaxis": "y"
        },
        {
         "hoverinfo": "text",
         "marker": {
          "color": "rgb(133,20,75)"
         },
         "mode": "lines",
         "type": "scatter",
         "x": [
          5195,
          5195,
          5210,
          5210
         ],
         "xaxis": "x",
         "y": [
          0,
          1.7983105970818214,
          1.7983105970818214,
          1.4448909222769346
         ],
         "yaxis": "y"
        },
        {
         "hoverinfo": "text",
         "marker": {
          "color": "rgb(133,20,75)"
         },
         "mode": "lines",
         "type": "scatter",
         "x": [
          5180,
          5180,
          5202.5,
          5202.5
         ],
         "xaxis": "x",
         "y": [
          1.1477103977680023,
          2.6375340422516915,
          2.6375340422516915,
          1.7983105970818214
         ],
         "yaxis": "y"
        },
        {
         "hoverinfo": "text",
         "marker": {
          "color": "rgb(133,20,75)"
         },
         "mode": "lines",
         "type": "scatter",
         "x": [
          5160,
          5160,
          5191.25,
          5191.25
         ],
         "xaxis": "x",
         "y": [
          1.889388713997236,
          3.0112601356393722,
          3.0112601356393722,
          2.6375340422516915
         ],
         "yaxis": "y"
        },
        {
         "hoverinfo": "text",
         "marker": {
          "color": "rgb(133,20,75)"
         },
         "mode": "lines",
         "type": "scatter",
         "x": [
          5140,
          5140,
          5175.625,
          5175.625
         ],
         "xaxis": "x",
         "y": [
          2.3541756999285113,
          4.1041356852302115,
          4.1041356852302115,
          3.0112601356393722
         ],
         "yaxis": "y"
        },
        {
         "hoverinfo": "text",
         "marker": {
          "color": "rgb(133,20,75)"
         },
         "mode": "lines",
         "type": "scatter",
         "x": [
          5103.75,
          5103.75,
          5157.8125,
          5157.8125
         ],
         "xaxis": "x",
         "y": [
          3.1597919655650504,
          4.878233918033051,
          4.878233918033051,
          4.1041356852302115
         ],
         "yaxis": "y"
        },
        {
         "hoverinfo": "text",
         "marker": {
          "color": "rgb(133,20,75)"
         },
         "mode": "lines",
         "type": "scatter",
         "x": [
          4972.578125,
          4972.578125,
          5130.78125,
          5130.78125
         ],
         "xaxis": "x",
         "y": [
          4.633088810392194,
          6.136989694639599,
          6.136989694639599,
          4.878233918033051
         ],
         "yaxis": "y"
        },
        {
         "hoverinfo": "text",
         "marker": {
          "color": "rgb(133,20,75)"
         },
         "mode": "lines",
         "type": "scatter",
         "x": [
          4775,
          4775,
          5051.6796875,
          5051.6796875
         ],
         "xaxis": "x",
         "y": [
          5.87425745337528,
          7.265321517193384,
          7.265321517193384,
          6.136989694639599
         ],
         "yaxis": "y"
        },
        {
         "hoverinfo": "text",
         "marker": {
          "color": "rgb(133,20,75)"
         },
         "mode": "lines",
         "type": "scatter",
         "x": [
          4559.140625,
          4559.140625,
          4913.33984375,
          4913.33984375
         ],
         "xaxis": "x",
         "y": [
          5.603864193260254,
          8.368291240902835,
          8.368291240902835,
          7.265321517193384
         ],
         "yaxis": "y"
        },
        {
         "hoverinfo": "text",
         "marker": {
          "color": "rgb(133,20,75)"
         },
         "mode": "lines",
         "type": "scatter",
         "x": [
          4164.1015625,
          4164.1015625,
          4736.240234375,
          4736.240234375
         ],
         "xaxis": "x",
         "y": [
          6.883048846166736,
          9.4544118955256,
          9.4544118955256,
          8.368291240902835
         ],
         "yaxis": "y"
        },
        {
         "hoverinfo": "text",
         "marker": {
          "color": "rgb(133,20,75)"
         },
         "mode": "lines",
         "type": "scatter",
         "x": [
          3939.921875,
          3939.921875,
          4450.1708984375,
          4450.1708984375
         ],
         "xaxis": "x",
         "y": [
          7.541301151047836,
          9.610395609495189,
          9.610395609495189,
          9.4544118955256
         ],
         "yaxis": "y"
        },
        {
         "hoverinfo": "text",
         "marker": {
          "color": "rgb(133,20,75)"
         },
         "mode": "lines",
         "type": "scatter",
         "x": [
          2410.23193359375,
          2410.23193359375,
          4195.04638671875,
          4195.04638671875
         ],
         "xaxis": "x",
         "y": [
          8.918317130766232,
          10.992475719610661,
          10.992475719610661,
          9.610395609495189
         ],
         "yaxis": "y"
        },
        {
         "hoverinfo": "text",
         "marker": {
          "color": "rgb(133,20,75)"
         },
         "mode": "lines",
         "type": "scatter",
         "x": [
          5245,
          5245,
          5255,
          5255
         ],
         "xaxis": "x",
         "y": [
          0,
          2.7587685679841147,
          2.7587685679841147,
          0
         ],
         "yaxis": "y"
        },
        {
         "hoverinfo": "text",
         "marker": {
          "color": "rgb(133,20,75)"
         },
         "mode": "lines",
         "type": "scatter",
         "x": [
          5235,
          5235,
          5250,
          5250
         ],
         "xaxis": "x",
         "y": [
          0,
          4.4050535796478325,
          4.4050535796478325,
          2.7587685679841147
         ],
         "yaxis": "y"
        },
        {
         "hoverinfo": "text",
         "marker": {
          "color": "rgb(133,20,75)"
         },
         "mode": "lines",
         "type": "scatter",
         "x": [
          5225,
          5225,
          5242.5,
          5242.5
         ],
         "xaxis": "x",
         "y": [
          0,
          6.361353819536562,
          6.361353819536562,
          4.4050535796478325
         ],
         "yaxis": "y"
        },
        {
         "hoverinfo": "text",
         "marker": {
          "color": "rgb(133,20,75)"
         },
         "mode": "lines",
         "type": "scatter",
         "x": [
          5265,
          5265,
          5275,
          5275
         ],
         "xaxis": "x",
         "y": [
          0,
          6.7094660533407176,
          6.7094660533407176,
          0
         ],
         "yaxis": "y"
        },
        {
         "hoverinfo": "text",
         "marker": {
          "color": "rgb(133,20,75)"
         },
         "mode": "lines",
         "type": "scatter",
         "x": [
          5295,
          5295,
          5305,
          5305
         ],
         "xaxis": "x",
         "y": [
          0,
          3.694606484650158,
          3.694606484650158,
          0
         ],
         "yaxis": "y"
        },
        {
         "hoverinfo": "text",
         "marker": {
          "color": "rgb(133,20,75)"
         },
         "mode": "lines",
         "type": "scatter",
         "x": [
          5285,
          5285,
          5300,
          5300
         ],
         "xaxis": "x",
         "y": [
          0,
          3.952221456407301,
          3.952221456407301,
          3.694606484650158
         ],
         "yaxis": "y"
        },
        {
         "hoverinfo": "text",
         "marker": {
          "color": "rgb(133,20,75)"
         },
         "mode": "lines",
         "type": "scatter",
         "x": [
          5335,
          5335,
          5345,
          5345
         ],
         "xaxis": "x",
         "y": [
          0,
          2.9362472225052927,
          2.9362472225052927,
          0
         ],
         "yaxis": "y"
        },
        {
         "hoverinfo": "text",
         "marker": {
          "color": "rgb(133,20,75)"
         },
         "mode": "lines",
         "type": "scatter",
         "x": [
          5325,
          5325,
          5340,
          5340
         ],
         "xaxis": "x",
         "y": [
          0,
          3.1963850895940666,
          3.1963850895940666,
          2.9362472225052927
         ],
         "yaxis": "y"
        },
        {
         "hoverinfo": "text",
         "marker": {
          "color": "rgb(133,20,75)"
         },
         "mode": "lines",
         "type": "scatter",
         "x": [
          5315,
          5315,
          5332.5,
          5332.5
         ],
         "xaxis": "x",
         "y": [
          0,
          4.070624989792476,
          4.070624989792476,
          3.1963850895940666
         ],
         "yaxis": "y"
        },
        {
         "hoverinfo": "text",
         "marker": {
          "color": "rgb(133,20,75)"
         },
         "mode": "lines",
         "type": "scatter",
         "x": [
          5355,
          5355,
          5365,
          5365
         ],
         "xaxis": "x",
         "y": [
          0,
          4.780748355316554,
          4.780748355316554,
          0
         ],
         "yaxis": "y"
        },
        {
         "hoverinfo": "text",
         "marker": {
          "color": "rgb(133,20,75)"
         },
         "mode": "lines",
         "type": "scatter",
         "x": [
          5323.75,
          5323.75,
          5360,
          5360
         ],
         "xaxis": "x",
         "y": [
          4.070624989792476,
          5.5311698908719675,
          5.5311698908719675,
          4.780748355316554
         ],
         "yaxis": "y"
        },
        {
         "hoverinfo": "text",
         "marker": {
          "color": "rgb(133,20,75)"
         },
         "mode": "lines",
         "type": "scatter",
         "x": [
          5292.5,
          5292.5,
          5341.875,
          5341.875
         ],
         "xaxis": "x",
         "y": [
          3.952221456407301,
          6.9320193309277744,
          6.9320193309277744,
          5.5311698908719675
         ],
         "yaxis": "y"
        },
        {
         "hoverinfo": "text",
         "marker": {
          "color": "rgb(133,20,75)"
         },
         "mode": "lines",
         "type": "scatter",
         "x": [
          5270,
          5270,
          5317.1875,
          5317.1875
         ],
         "xaxis": "x",
         "y": [
          6.7094660533407176,
          8.085022753498272,
          8.085022753498272,
          6.9320193309277744
         ],
         "yaxis": "y"
        },
        {
         "hoverinfo": "text",
         "marker": {
          "color": "rgb(133,20,75)"
         },
         "mode": "lines",
         "type": "scatter",
         "x": [
          5375,
          5375,
          5385,
          5385
         ],
         "xaxis": "x",
         "y": [
          0,
          2.6780476213923077,
          2.6780476213923077,
          0
         ],
         "yaxis": "y"
        },
        {
         "hoverinfo": "text",
         "marker": {
          "color": "rgb(133,20,75)"
         },
         "mode": "lines",
         "type": "scatter",
         "x": [
          5395,
          5395,
          5405,
          5405
         ],
         "xaxis": "x",
         "y": [
          0,
          3.245667964045752,
          3.245667964045752,
          0
         ],
         "yaxis": "y"
        },
        {
         "hoverinfo": "text",
         "marker": {
          "color": "rgb(133,20,75)"
         },
         "mode": "lines",
         "type": "scatter",
         "x": [
          5380,
          5380,
          5400,
          5400
         ],
         "xaxis": "x",
         "y": [
          2.6780476213923077,
          3.9169401371125305,
          3.9169401371125305,
          3.245667964045752
         ],
         "yaxis": "y"
        },
        {
         "hoverinfo": "text",
         "marker": {
          "color": "rgb(133,20,75)"
         },
         "mode": "lines",
         "type": "scatter",
         "x": [
          5435,
          5435,
          5445,
          5445
         ],
         "xaxis": "x",
         "y": [
          0,
          3.0920599910013786,
          3.0920599910013786,
          0
         ],
         "yaxis": "y"
        },
        {
         "hoverinfo": "text",
         "marker": {
          "color": "rgb(133,20,75)"
         },
         "mode": "lines",
         "type": "scatter",
         "x": [
          5425,
          5425,
          5440,
          5440
         ],
         "xaxis": "x",
         "y": [
          0,
          4.819109635923044,
          4.819109635923044,
          3.0920599910013786
         ],
         "yaxis": "y"
        },
        {
         "hoverinfo": "text",
         "marker": {
          "color": "rgb(133,20,75)"
         },
         "mode": "lines",
         "type": "scatter",
         "x": [
          5415,
          5415,
          5432.5,
          5432.5
         ],
         "xaxis": "x",
         "y": [
          0,
          4.830556326728409,
          4.830556326728409,
          4.819109635923044
         ],
         "yaxis": "y"
        },
        {
         "hoverinfo": "text",
         "marker": {
          "color": "rgb(133,20,75)"
         },
         "mode": "lines",
         "type": "scatter",
         "x": [
          5390,
          5390,
          5423.75,
          5423.75
         ],
         "xaxis": "x",
         "y": [
          3.9169401371125305,
          6.336403715486001,
          6.336403715486001,
          4.830556326728409
         ],
         "yaxis": "y"
        },
        {
         "hoverinfo": "text",
         "marker": {
          "color": "rgb(133,20,75)"
         },
         "mode": "lines",
         "type": "scatter",
         "x": [
          5475,
          5475,
          5485,
          5485
         ],
         "xaxis": "x",
         "y": [
          0,
          2.822183940896866,
          2.822183940896866,
          0
         ],
         "yaxis": "y"
        },
        {
         "hoverinfo": "text",
         "marker": {
          "color": "rgb(133,20,75)"
         },
         "mode": "lines",
         "type": "scatter",
         "x": [
          5465,
          5465,
          5480,
          5480
         ],
         "xaxis": "x",
         "y": [
          0,
          3.023445264954094,
          3.023445264954094,
          2.822183940896866
         ],
         "yaxis": "y"
        },
        {
         "hoverinfo": "text",
         "marker": {
          "color": "rgb(133,20,75)"
         },
         "mode": "lines",
         "type": "scatter",
         "x": [
          5515,
          5515,
          5525,
          5525
         ],
         "xaxis": "x",
         "y": [
          0,
          1.895553530794917,
          1.895553530794917,
          0
         ],
         "yaxis": "y"
        },
        {
         "hoverinfo": "text",
         "marker": {
          "color": "rgb(133,20,75)"
         },
         "mode": "lines",
         "type": "scatter",
         "x": [
          5505,
          5505,
          5520,
          5520
         ],
         "xaxis": "x",
         "y": [
          0,
          2.9613297157606318,
          2.9613297157606318,
          1.895553530794917
         ],
         "yaxis": "y"
        },
        {
         "hoverinfo": "text",
         "marker": {
          "color": "rgb(133,20,75)"
         },
         "mode": "lines",
         "type": "scatter",
         "x": [
          5495,
          5495,
          5512.5,
          5512.5
         ],
         "xaxis": "x",
         "y": [
          0,
          3.397839088776849,
          3.397839088776849,
          2.9613297157606318
         ],
         "yaxis": "y"
        },
        {
         "hoverinfo": "text",
         "marker": {
          "color": "rgb(133,20,75)"
         },
         "mode": "lines",
         "type": "scatter",
         "x": [
          5472.5,
          5472.5,
          5503.75,
          5503.75
         ],
         "xaxis": "x",
         "y": [
          3.023445264954094,
          4.838465384757637,
          4.838465384757637,
          3.397839088776849
         ],
         "yaxis": "y"
        },
        {
         "hoverinfo": "text",
         "marker": {
          "color": "rgb(133,20,75)"
         },
         "mode": "lines",
         "type": "scatter",
         "x": [
          5545,
          5545,
          5555,
          5555
         ],
         "xaxis": "x",
         "y": [
          0,
          3.677575051901275,
          3.677575051901275,
          0
         ],
         "yaxis": "y"
        },
        {
         "hoverinfo": "text",
         "marker": {
          "color": "rgb(133,20,75)"
         },
         "mode": "lines",
         "type": "scatter",
         "x": [
          5535,
          5535,
          5550,
          5550
         ],
         "xaxis": "x",
         "y": [
          0,
          4.862037335171418,
          4.862037335171418,
          3.677575051901275
         ],
         "yaxis": "y"
        },
        {
         "hoverinfo": "text",
         "marker": {
          "color": "rgb(133,20,75)"
         },
         "mode": "lines",
         "type": "scatter",
         "x": [
          5488.125,
          5488.125,
          5542.5,
          5542.5
         ],
         "xaxis": "x",
         "y": [
          4.838465384757637,
          5.855843915723081,
          5.855843915723081,
          4.862037335171418
         ],
         "yaxis": "y"
        },
        {
         "hoverinfo": "text",
         "marker": {
          "color": "rgb(133,20,75)"
         },
         "mode": "lines",
         "type": "scatter",
         "x": [
          5455,
          5455,
          5515.3125,
          5515.3125
         ],
         "xaxis": "x",
         "y": [
          0,
          6.586075657037577,
          6.586075657037577,
          5.855843915723081
         ],
         "yaxis": "y"
        },
        {
         "hoverinfo": "text",
         "marker": {
          "color": "rgb(133,20,75)"
         },
         "mode": "lines",
         "type": "scatter",
         "x": [
          5406.875,
          5406.875,
          5485.15625,
          5485.15625
         ],
         "xaxis": "x",
         "y": [
          6.336403715486001,
          8.217117243658981,
          8.217117243658981,
          6.586075657037577
         ],
         "yaxis": "y"
        },
        {
         "hoverinfo": "text",
         "marker": {
          "color": "rgb(133,20,75)"
         },
         "mode": "lines",
         "type": "scatter",
         "x": [
          5293.59375,
          5293.59375,
          5446.015625,
          5446.015625
         ],
         "xaxis": "x",
         "y": [
          8.085022753498272,
          10.119025711737729,
          10.119025711737729,
          8.217117243658981
         ],
         "yaxis": "y"
        },
        {
         "hoverinfo": "text",
         "marker": {
          "color": "rgb(133,20,75)"
         },
         "mode": "lines",
         "type": "scatter",
         "x": [
          5233.75,
          5233.75,
          5369.8046875,
          5369.8046875
         ],
         "xaxis": "x",
         "y": [
          6.361353819536562,
          12.44698190358368,
          12.44698190358368,
          10.119025711737729
         ],
         "yaxis": "y"
        },
        {
         "hoverinfo": "text",
         "marker": {
          "color": "rgb(133,20,75)"
         },
         "mode": "lines",
         "type": "scatter",
         "x": [
          3302.63916015625,
          3302.63916015625,
          5301.77734375,
          5301.77734375
         ],
         "xaxis": "x",
         "y": [
          10.992475719610661,
          12.839327047063033,
          12.839327047063033,
          12.44698190358368
         ],
         "yaxis": "y"
        },
        {
         "hoverinfo": "text",
         "marker": {
          "color": "rgb(133,20,75)"
         },
         "mode": "lines",
         "type": "scatter",
         "x": [
          5575,
          5575,
          5585,
          5585
         ],
         "xaxis": "x",
         "y": [
          0,
          5.361136347229645,
          5.361136347229645,
          0
         ],
         "yaxis": "y"
        },
        {
         "hoverinfo": "text",
         "marker": {
          "color": "rgb(133,20,75)"
         },
         "mode": "lines",
         "type": "scatter",
         "x": [
          5605,
          5605,
          5615,
          5615
         ],
         "xaxis": "x",
         "y": [
          0,
          5.256832680328547,
          5.256832680328547,
          0
         ],
         "yaxis": "y"
        },
        {
         "hoverinfo": "text",
         "marker": {
          "color": "rgb(133,20,75)"
         },
         "mode": "lines",
         "type": "scatter",
         "x": [
          5595,
          5595,
          5610,
          5610
         ],
         "xaxis": "x",
         "y": [
          0,
          6.986705543239318,
          6.986705543239318,
          5.256832680328547
         ],
         "yaxis": "y"
        },
        {
         "hoverinfo": "text",
         "marker": {
          "color": "rgb(133,20,75)"
         },
         "mode": "lines",
         "type": "scatter",
         "x": [
          5635,
          5635,
          5645,
          5645
         ],
         "xaxis": "x",
         "y": [
          0,
          3.9170062410081568,
          3.9170062410081568,
          0
         ],
         "yaxis": "y"
        },
        {
         "hoverinfo": "text",
         "marker": {
          "color": "rgb(133,20,75)"
         },
         "mode": "lines",
         "type": "scatter",
         "x": [
          5625,
          5625,
          5640,
          5640
         ],
         "xaxis": "x",
         "y": [
          0,
          5.280770097266875,
          5.280770097266875,
          3.9170062410081568
         ],
         "yaxis": "y"
        },
        {
         "hoverinfo": "text",
         "marker": {
          "color": "rgb(133,20,75)"
         },
         "mode": "lines",
         "type": "scatter",
         "x": [
          5655,
          5655,
          5665,
          5665
         ],
         "xaxis": "x",
         "y": [
          0,
          3.794174358754613,
          3.794174358754613,
          0
         ],
         "yaxis": "y"
        },
        {
         "hoverinfo": "text",
         "marker": {
          "color": "rgb(133,20,75)"
         },
         "mode": "lines",
         "type": "scatter",
         "x": [
          5675,
          5675,
          5685,
          5685
         ],
         "xaxis": "x",
         "y": [
          0,
          4.413574686052963,
          4.413574686052963,
          0
         ],
         "yaxis": "y"
        },
        {
         "hoverinfo": "text",
         "marker": {
          "color": "rgb(133,20,75)"
         },
         "mode": "lines",
         "type": "scatter",
         "x": [
          5660,
          5660,
          5680,
          5680
         ],
         "xaxis": "x",
         "y": [
          3.794174358754613,
          5.996547977684461,
          5.996547977684461,
          4.413574686052963
         ],
         "yaxis": "y"
        },
        {
         "hoverinfo": "text",
         "marker": {
          "color": "rgb(133,20,75)"
         },
         "mode": "lines",
         "type": "scatter",
         "x": [
          5632.5,
          5632.5,
          5670,
          5670
         ],
         "xaxis": "x",
         "y": [
          5.280770097266875,
          8.448229268208017,
          8.448229268208017,
          5.996547977684461
         ],
         "yaxis": "y"
        },
        {
         "hoverinfo": "text",
         "marker": {
          "color": "rgb(133,20,75)"
         },
         "mode": "lines",
         "type": "scatter",
         "x": [
          5602.5,
          5602.5,
          5651.25,
          5651.25
         ],
         "xaxis": "x",
         "y": [
          6.986705543239318,
          10.00434698732069,
          10.00434698732069,
          8.448229268208017
         ],
         "yaxis": "y"
        },
        {
         "hoverinfo": "text",
         "marker": {
          "color": "rgb(133,20,75)"
         },
         "mode": "lines",
         "type": "scatter",
         "x": [
          5580,
          5580,
          5626.875,
          5626.875
         ],
         "xaxis": "x",
         "y": [
          5.361136347229645,
          11.41939658685938,
          11.41939658685938,
          10.00434698732069
         ],
         "yaxis": "y"
        },
        {
         "hoverinfo": "text",
         "marker": {
          "color": "rgb(133,20,75)"
         },
         "mode": "lines",
         "type": "scatter",
         "x": [
          5565,
          5565,
          5603.4375,
          5603.4375
         ],
         "xaxis": "x",
         "y": [
          0,
          14.302931819778424,
          14.302931819778424,
          11.41939658685938
         ],
         "yaxis": "y"
        },
        {
         "hoverinfo": "text",
         "marker": {
          "color": "rgb(133,20,75)"
         },
         "mode": "lines",
         "type": "scatter",
         "x": [
          4302.208251953125,
          4302.208251953125,
          5584.21875,
          5584.21875
         ],
         "xaxis": "x",
         "y": [
          12.839327047063033,
          17.00104809647825,
          17.00104809647825,
          14.302931819778424
         ],
         "yaxis": "y"
        },
        {
         "hoverinfo": "text",
         "marker": {
          "color": "rgb(0,116,217)"
         },
         "mode": "lines",
         "type": "scatter",
         "x": [
          903.61083984375,
          903.61083984375,
          4943.2135009765625,
          4943.2135009765625
         ],
         "xaxis": "x",
         "y": [
          14.972631863255245,
          20.261113335603497,
          20.261113335603497,
          17.00104809647825
         ],
         "yaxis": "y"
        },
        {
         "hoverinfo": "text",
         "marker": {
          "color": "rgb(0,116,217)"
         },
         "mode": "lines",
         "type": "scatter",
         "x": [
          48.125,
          48.125,
          2923.4121704101562,
          2923.4121704101562
         ],
         "xaxis": "x",
         "y": [
          18.652979684054355,
          23.72651991567194,
          23.72651991567194,
          20.261113335603497
         ],
         "yaxis": "y"
        },
        {
         "hoverinfo": "text",
         "marker": {
          "color": "rgb(0,116,217)"
         },
         "mode": "lines",
         "type": "scatter",
         "x": [
          10,
          10,
          1485.7685852050781,
          1485.7685852050781
         ],
         "xaxis": "x",
         "y": [
          8.26854194336771,
          26.882020763007358,
          26.882020763007358,
          23.72651991567194
         ],
         "yaxis": "y"
        }
       ],
       "layout": {
        "autosize": false,
        "height": 500,
        "hovermode": "closest",
        "showlegend": false,
        "template": {
         "data": {
          "bar": [
           {
            "error_x": {
             "color": "#2a3f5f"
            },
            "error_y": {
             "color": "#2a3f5f"
            },
            "marker": {
             "line": {
              "color": "#E5ECF6",
              "width": 0.5
             },
             "pattern": {
              "fillmode": "overlay",
              "size": 10,
              "solidity": 0.2
             }
            },
            "type": "bar"
           }
          ],
          "barpolar": [
           {
            "marker": {
             "line": {
              "color": "#E5ECF6",
              "width": 0.5
             },
             "pattern": {
              "fillmode": "overlay",
              "size": 10,
              "solidity": 0.2
             }
            },
            "type": "barpolar"
           }
          ],
          "carpet": [
           {
            "aaxis": {
             "endlinecolor": "#2a3f5f",
             "gridcolor": "white",
             "linecolor": "white",
             "minorgridcolor": "white",
             "startlinecolor": "#2a3f5f"
            },
            "baxis": {
             "endlinecolor": "#2a3f5f",
             "gridcolor": "white",
             "linecolor": "white",
             "minorgridcolor": "white",
             "startlinecolor": "#2a3f5f"
            },
            "type": "carpet"
           }
          ],
          "choropleth": [
           {
            "colorbar": {
             "outlinewidth": 0,
             "ticks": ""
            },
            "type": "choropleth"
           }
          ],
          "contour": [
           {
            "colorbar": {
             "outlinewidth": 0,
             "ticks": ""
            },
            "colorscale": [
             [
              0,
              "#0d0887"
             ],
             [
              0.1111111111111111,
              "#46039f"
             ],
             [
              0.2222222222222222,
              "#7201a8"
             ],
             [
              0.3333333333333333,
              "#9c179e"
             ],
             [
              0.4444444444444444,
              "#bd3786"
             ],
             [
              0.5555555555555556,
              "#d8576b"
             ],
             [
              0.6666666666666666,
              "#ed7953"
             ],
             [
              0.7777777777777778,
              "#fb9f3a"
             ],
             [
              0.8888888888888888,
              "#fdca26"
             ],
             [
              1,
              "#f0f921"
             ]
            ],
            "type": "contour"
           }
          ],
          "contourcarpet": [
           {
            "colorbar": {
             "outlinewidth": 0,
             "ticks": ""
            },
            "type": "contourcarpet"
           }
          ],
          "heatmap": [
           {
            "colorbar": {
             "outlinewidth": 0,
             "ticks": ""
            },
            "colorscale": [
             [
              0,
              "#0d0887"
             ],
             [
              0.1111111111111111,
              "#46039f"
             ],
             [
              0.2222222222222222,
              "#7201a8"
             ],
             [
              0.3333333333333333,
              "#9c179e"
             ],
             [
              0.4444444444444444,
              "#bd3786"
             ],
             [
              0.5555555555555556,
              "#d8576b"
             ],
             [
              0.6666666666666666,
              "#ed7953"
             ],
             [
              0.7777777777777778,
              "#fb9f3a"
             ],
             [
              0.8888888888888888,
              "#fdca26"
             ],
             [
              1,
              "#f0f921"
             ]
            ],
            "type": "heatmap"
           }
          ],
          "heatmapgl": [
           {
            "colorbar": {
             "outlinewidth": 0,
             "ticks": ""
            },
            "colorscale": [
             [
              0,
              "#0d0887"
             ],
             [
              0.1111111111111111,
              "#46039f"
             ],
             [
              0.2222222222222222,
              "#7201a8"
             ],
             [
              0.3333333333333333,
              "#9c179e"
             ],
             [
              0.4444444444444444,
              "#bd3786"
             ],
             [
              0.5555555555555556,
              "#d8576b"
             ],
             [
              0.6666666666666666,
              "#ed7953"
             ],
             [
              0.7777777777777778,
              "#fb9f3a"
             ],
             [
              0.8888888888888888,
              "#fdca26"
             ],
             [
              1,
              "#f0f921"
             ]
            ],
            "type": "heatmapgl"
           }
          ],
          "histogram": [
           {
            "marker": {
             "pattern": {
              "fillmode": "overlay",
              "size": 10,
              "solidity": 0.2
             }
            },
            "type": "histogram"
           }
          ],
          "histogram2d": [
           {
            "colorbar": {
             "outlinewidth": 0,
             "ticks": ""
            },
            "colorscale": [
             [
              0,
              "#0d0887"
             ],
             [
              0.1111111111111111,
              "#46039f"
             ],
             [
              0.2222222222222222,
              "#7201a8"
             ],
             [
              0.3333333333333333,
              "#9c179e"
             ],
             [
              0.4444444444444444,
              "#bd3786"
             ],
             [
              0.5555555555555556,
              "#d8576b"
             ],
             [
              0.6666666666666666,
              "#ed7953"
             ],
             [
              0.7777777777777778,
              "#fb9f3a"
             ],
             [
              0.8888888888888888,
              "#fdca26"
             ],
             [
              1,
              "#f0f921"
             ]
            ],
            "type": "histogram2d"
           }
          ],
          "histogram2dcontour": [
           {
            "colorbar": {
             "outlinewidth": 0,
             "ticks": ""
            },
            "colorscale": [
             [
              0,
              "#0d0887"
             ],
             [
              0.1111111111111111,
              "#46039f"
             ],
             [
              0.2222222222222222,
              "#7201a8"
             ],
             [
              0.3333333333333333,
              "#9c179e"
             ],
             [
              0.4444444444444444,
              "#bd3786"
             ],
             [
              0.5555555555555556,
              "#d8576b"
             ],
             [
              0.6666666666666666,
              "#ed7953"
             ],
             [
              0.7777777777777778,
              "#fb9f3a"
             ],
             [
              0.8888888888888888,
              "#fdca26"
             ],
             [
              1,
              "#f0f921"
             ]
            ],
            "type": "histogram2dcontour"
           }
          ],
          "mesh3d": [
           {
            "colorbar": {
             "outlinewidth": 0,
             "ticks": ""
            },
            "type": "mesh3d"
           }
          ],
          "parcoords": [
           {
            "line": {
             "colorbar": {
              "outlinewidth": 0,
              "ticks": ""
             }
            },
            "type": "parcoords"
           }
          ],
          "pie": [
           {
            "automargin": true,
            "type": "pie"
           }
          ],
          "scatter": [
           {
            "fillpattern": {
             "fillmode": "overlay",
             "size": 10,
             "solidity": 0.2
            },
            "type": "scatter"
           }
          ],
          "scatter3d": [
           {
            "line": {
             "colorbar": {
              "outlinewidth": 0,
              "ticks": ""
             }
            },
            "marker": {
             "colorbar": {
              "outlinewidth": 0,
              "ticks": ""
             }
            },
            "type": "scatter3d"
           }
          ],
          "scattercarpet": [
           {
            "marker": {
             "colorbar": {
              "outlinewidth": 0,
              "ticks": ""
             }
            },
            "type": "scattercarpet"
           }
          ],
          "scattergeo": [
           {
            "marker": {
             "colorbar": {
              "outlinewidth": 0,
              "ticks": ""
             }
            },
            "type": "scattergeo"
           }
          ],
          "scattergl": [
           {
            "marker": {
             "colorbar": {
              "outlinewidth": 0,
              "ticks": ""
             }
            },
            "type": "scattergl"
           }
          ],
          "scattermapbox": [
           {
            "marker": {
             "colorbar": {
              "outlinewidth": 0,
              "ticks": ""
             }
            },
            "type": "scattermapbox"
           }
          ],
          "scatterpolar": [
           {
            "marker": {
             "colorbar": {
              "outlinewidth": 0,
              "ticks": ""
             }
            },
            "type": "scatterpolar"
           }
          ],
          "scatterpolargl": [
           {
            "marker": {
             "colorbar": {
              "outlinewidth": 0,
              "ticks": ""
             }
            },
            "type": "scatterpolargl"
           }
          ],
          "scatterternary": [
           {
            "marker": {
             "colorbar": {
              "outlinewidth": 0,
              "ticks": ""
             }
            },
            "type": "scatterternary"
           }
          ],
          "surface": [
           {
            "colorbar": {
             "outlinewidth": 0,
             "ticks": ""
            },
            "colorscale": [
             [
              0,
              "#0d0887"
             ],
             [
              0.1111111111111111,
              "#46039f"
             ],
             [
              0.2222222222222222,
              "#7201a8"
             ],
             [
              0.3333333333333333,
              "#9c179e"
             ],
             [
              0.4444444444444444,
              "#bd3786"
             ],
             [
              0.5555555555555556,
              "#d8576b"
             ],
             [
              0.6666666666666666,
              "#ed7953"
             ],
             [
              0.7777777777777778,
              "#fb9f3a"
             ],
             [
              0.8888888888888888,
              "#fdca26"
             ],
             [
              1,
              "#f0f921"
             ]
            ],
            "type": "surface"
           }
          ],
          "table": [
           {
            "cells": {
             "fill": {
              "color": "#EBF0F8"
             },
             "line": {
              "color": "white"
             }
            },
            "header": {
             "fill": {
              "color": "#C8D4E3"
             },
             "line": {
              "color": "white"
             }
            },
            "type": "table"
           }
          ]
         },
         "layout": {
          "annotationdefaults": {
           "arrowcolor": "#2a3f5f",
           "arrowhead": 0,
           "arrowwidth": 1
          },
          "autotypenumbers": "strict",
          "coloraxis": {
           "colorbar": {
            "outlinewidth": 0,
            "ticks": ""
           }
          },
          "colorscale": {
           "diverging": [
            [
             0,
             "#8e0152"
            ],
            [
             0.1,
             "#c51b7d"
            ],
            [
             0.2,
             "#de77ae"
            ],
            [
             0.3,
             "#f1b6da"
            ],
            [
             0.4,
             "#fde0ef"
            ],
            [
             0.5,
             "#f7f7f7"
            ],
            [
             0.6,
             "#e6f5d0"
            ],
            [
             0.7,
             "#b8e186"
            ],
            [
             0.8,
             "#7fbc41"
            ],
            [
             0.9,
             "#4d9221"
            ],
            [
             1,
             "#276419"
            ]
           ],
           "sequential": [
            [
             0,
             "#0d0887"
            ],
            [
             0.1111111111111111,
             "#46039f"
            ],
            [
             0.2222222222222222,
             "#7201a8"
            ],
            [
             0.3333333333333333,
             "#9c179e"
            ],
            [
             0.4444444444444444,
             "#bd3786"
            ],
            [
             0.5555555555555556,
             "#d8576b"
            ],
            [
             0.6666666666666666,
             "#ed7953"
            ],
            [
             0.7777777777777778,
             "#fb9f3a"
            ],
            [
             0.8888888888888888,
             "#fdca26"
            ],
            [
             1,
             "#f0f921"
            ]
           ],
           "sequentialminus": [
            [
             0,
             "#0d0887"
            ],
            [
             0.1111111111111111,
             "#46039f"
            ],
            [
             0.2222222222222222,
             "#7201a8"
            ],
            [
             0.3333333333333333,
             "#9c179e"
            ],
            [
             0.4444444444444444,
             "#bd3786"
            ],
            [
             0.5555555555555556,
             "#d8576b"
            ],
            [
             0.6666666666666666,
             "#ed7953"
            ],
            [
             0.7777777777777778,
             "#fb9f3a"
            ],
            [
             0.8888888888888888,
             "#fdca26"
            ],
            [
             1,
             "#f0f921"
            ]
           ]
          },
          "colorway": [
           "#636efa",
           "#EF553B",
           "#00cc96",
           "#ab63fa",
           "#FFA15A",
           "#19d3f3",
           "#FF6692",
           "#B6E880",
           "#FF97FF",
           "#FECB52"
          ],
          "font": {
           "color": "#2a3f5f"
          },
          "geo": {
           "bgcolor": "white",
           "lakecolor": "white",
           "landcolor": "#E5ECF6",
           "showlakes": true,
           "showland": true,
           "subunitcolor": "white"
          },
          "hoverlabel": {
           "align": "left"
          },
          "hovermode": "closest",
          "mapbox": {
           "style": "light"
          },
          "paper_bgcolor": "white",
          "plot_bgcolor": "#E5ECF6",
          "polar": {
           "angularaxis": {
            "gridcolor": "white",
            "linecolor": "white",
            "ticks": ""
           },
           "bgcolor": "#E5ECF6",
           "radialaxis": {
            "gridcolor": "white",
            "linecolor": "white",
            "ticks": ""
           }
          },
          "scene": {
           "xaxis": {
            "backgroundcolor": "#E5ECF6",
            "gridcolor": "white",
            "gridwidth": 2,
            "linecolor": "white",
            "showbackground": true,
            "ticks": "",
            "zerolinecolor": "white"
           },
           "yaxis": {
            "backgroundcolor": "#E5ECF6",
            "gridcolor": "white",
            "gridwidth": 2,
            "linecolor": "white",
            "showbackground": true,
            "ticks": "",
            "zerolinecolor": "white"
           },
           "zaxis": {
            "backgroundcolor": "#E5ECF6",
            "gridcolor": "white",
            "gridwidth": 2,
            "linecolor": "white",
            "showbackground": true,
            "ticks": "",
            "zerolinecolor": "white"
           }
          },
          "shapedefaults": {
           "line": {
            "color": "#2a3f5f"
           }
          },
          "ternary": {
           "aaxis": {
            "gridcolor": "white",
            "linecolor": "white",
            "ticks": ""
           },
           "baxis": {
            "gridcolor": "white",
            "linecolor": "white",
            "ticks": ""
           },
           "bgcolor": "#E5ECF6",
           "caxis": {
            "gridcolor": "white",
            "linecolor": "white",
            "ticks": ""
           }
          },
          "title": {
           "x": 0.05
          },
          "xaxis": {
           "automargin": true,
           "gridcolor": "white",
           "linecolor": "white",
           "ticks": "",
           "title": {
            "standoff": 15
           },
           "zerolinecolor": "white",
           "zerolinewidth": 2
          },
          "yaxis": {
           "automargin": true,
           "gridcolor": "white",
           "linecolor": "white",
           "ticks": "",
           "title": {
            "standoff": 15
           },
           "zerolinecolor": "white",
           "zerolinewidth": 2
          }
         }
        },
        "width": 800,
        "xaxis": {
         "mirror": "allticks",
         "rangemode": "tozero",
         "showgrid": false,
         "showline": true,
         "showticklabels": true,
         "tickmode": "array",
         "ticks": "outside",
         "ticktext": [
          "212",
          "461",
          "68",
          "152",
          "3",
          "9",
          "190",
          "78",
          "122",
          "31",
          "229",
          "5",
          "8",
          "14",
          "379",
          "562",
          "259",
          "28",
          "15",
          "26",
          "41",
          "106",
          "469",
          "537",
          "203",
          "509",
          "193",
          "7",
          "501",
          "81",
          "215",
          "47",
          "512",
          "64",
          "65",
          "57",
          "43",
          "223",
          "199",
          "44",
          "526",
          "126",
          "184",
          "39",
          "435",
          "73",
          "496",
          "36",
          "541",
          "208",
          "331",
          "194",
          "479",
          "421",
          "89",
          "128",
          "329",
          "196",
          "353",
          "11",
          "34",
          "35",
          "370",
          "134",
          "264",
          "6",
          "317",
          "132",
          "182",
          "283",
          "330",
          "94",
          "177",
          "230",
          "131",
          "328",
          "408",
          "516",
          "138",
          "22",
          "351",
          "146",
          "214",
          "323",
          "0",
          "25",
          "162",
          "393",
          "280",
          "487",
          "499",
          "129",
          "30",
          "32",
          "33",
          "72",
          "252",
          "118",
          "400",
          "62",
          "430",
          "105",
          "257",
          "172",
          "392",
          "17",
          "117",
          "181",
          "567",
          "82",
          "202",
          "108",
          "258",
          "12",
          "42",
          "83",
          "389",
          "250",
          "302",
          "563",
          "272",
          "300",
          "168",
          "256",
          "468",
          "77",
          "417",
          "369",
          "521",
          "236",
          "339",
          "180",
          "352",
          "219",
          "265",
          "451",
          "565",
          "239",
          "446",
          "233",
          "260",
          "368",
          "503",
          "161",
          "564",
          "53",
          "85",
          "492",
          "27",
          "335",
          "156",
          "244",
          "433",
          "343",
          "210",
          "366",
          "262",
          "218",
          "95",
          "533",
          "45",
          "432",
          "56",
          "254",
          "282",
          "2",
          "535",
          "372",
          "4",
          "121",
          "498",
          "164",
          "23",
          "18",
          "449",
          "237",
          "70",
          "365",
          "1",
          "373",
          "517",
          "87",
          "198",
          "337",
          "24",
          "460",
          "388",
          "440",
          "247",
          "465",
          "147",
          "407",
          "286",
          "382",
          "450",
          "183",
          "355",
          "558",
          "124",
          "284",
          "397",
          "405",
          "530",
          "136",
          "297",
          "556",
          "299",
          "553",
          "163",
          "66",
          "80",
          "97",
          "359",
          "303",
          "524",
          "248",
          "410",
          "135",
          "490",
          "415",
          "394",
          "515",
          "84",
          "268",
          "293",
          "310",
          "289",
          "409",
          "55",
          "188",
          "419",
          "412",
          "217",
          "551",
          "420",
          "427",
          "104",
          "470",
          "500",
          "518",
          "413",
          "291",
          "423",
          "228",
          "466",
          "396",
          "99",
          "536",
          "445",
          "560",
          "113",
          "540",
          "320",
          "431",
          "111",
          "269",
          "266",
          "301",
          "160",
          "216",
          "356",
          "336",
          "510",
          "312",
          "386",
          "341",
          "426",
          "383",
          "474",
          "506",
          "531",
          "115",
          "544",
          "204",
          "523",
          "88",
          "200",
          "109",
          "547",
          "103",
          "534",
          "130",
          "154",
          "292",
          "380",
          "502",
          "519",
          "344",
          "488",
          "206",
          "222",
          "411",
          "142",
          "338",
          "21",
          "96",
          "205",
          "378",
          "227",
          "472",
          "347",
          "513",
          "133",
          "406",
          "484",
          "148",
          "255",
          "340",
          "375",
          "482",
          "20",
          "221",
          "313",
          "143",
          "447",
          "52",
          "251",
          "436",
          "155",
          "399",
          "381",
          "374",
          "195",
          "454",
          "107",
          "497",
          "211",
          "480",
          "367",
          "463",
          "403",
          "74",
          "137",
          "93",
          "79",
          "362",
          "437",
          "240",
          "434",
          "187",
          "69",
          "325",
          "279",
          "169",
          "483",
          "532",
          "324",
          "125",
          "364",
          "295",
          "158",
          "294",
          "401",
          "48",
          "98",
          "120",
          "527",
          "384",
          "475",
          "220",
          "418",
          "342",
          "478",
          "529",
          "271",
          "390",
          "249",
          "422",
          "19",
          "170",
          "322",
          "123",
          "453",
          "59",
          "114",
          "525",
          "185",
          "273",
          "234",
          "348",
          "46",
          "467",
          "166",
          "140",
          "175",
          "226",
          "546",
          "153",
          "276",
          "38",
          "238",
          "455",
          "456",
          "555",
          "559",
          "10",
          "261",
          "274",
          "54",
          "16",
          "171",
          "100",
          "385",
          "363",
          "495",
          "476",
          "448",
          "514",
          "441",
          "566",
          "86",
          "13",
          "91",
          "119",
          "489",
          "157",
          "197",
          "225",
          "75",
          "29",
          "141",
          "167",
          "207",
          "127",
          "321",
          "277",
          "186",
          "201",
          "253",
          "444",
          "224",
          "464",
          "51",
          "439",
          "92",
          "486",
          "149",
          "481",
          "304",
          "144",
          "189",
          "246",
          "395",
          "357",
          "438",
          "315",
          "308",
          "309",
          "360",
          "429",
          "316",
          "350",
          "287",
          "270",
          "387",
          "442",
          "179",
          "326",
          "398",
          "327",
          "428",
          "241",
          "306",
          "159",
          "333",
          "491",
          "209",
          "508",
          "371",
          "511",
          "568",
          "232",
          "459",
          "452",
          "554",
          "543",
          "552",
          "235",
          "102",
          "457",
          "458",
          "267",
          "361",
          "494",
          "90",
          "545",
          "49",
          "542",
          "414",
          "471",
          "305",
          "549",
          "37",
          "319",
          "296",
          "404",
          "493",
          "174",
          "307",
          "550",
          "50",
          "58",
          "285",
          "425",
          "522",
          "548",
          "67",
          "334",
          "346",
          "178",
          "231",
          "377",
          "462",
          "243",
          "402",
          "40",
          "263",
          "298",
          "477",
          "311",
          "165",
          "278",
          "192",
          "561",
          "473",
          "557",
          "116",
          "288",
          "528",
          "139",
          "275",
          "191",
          "281",
          "354",
          "358",
          "63",
          "443",
          "150",
          "349",
          "60",
          "424",
          "520",
          "76",
          "145",
          "507",
          "314",
          "345",
          "110",
          "173",
          "332",
          "61",
          "245",
          "416",
          "538",
          "101",
          "391",
          "213",
          "504",
          "505",
          "290",
          "71",
          "176",
          "539",
          "151",
          "242",
          "318",
          "485",
          "112",
          "376"
         ],
         "tickvals": [
          5,
          15,
          25,
          35,
          45,
          55,
          65,
          75,
          85,
          95,
          105,
          115,
          125,
          135,
          145,
          155,
          165,
          175,
          185,
          195,
          205,
          215,
          225,
          235,
          245,
          255,
          265,
          275,
          285,
          295,
          305,
          315,
          325,
          335,
          345,
          355,
          365,
          375,
          385,
          395,
          405,
          415,
          425,
          435,
          445,
          455,
          465,
          475,
          485,
          495,
          505,
          515,
          525,
          535,
          545,
          555,
          565,
          575,
          585,
          595,
          605,
          615,
          625,
          635,
          645,
          655,
          665,
          675,
          685,
          695,
          705,
          715,
          725,
          735,
          745,
          755,
          765,
          775,
          785,
          795,
          805,
          815,
          825,
          835,
          845,
          855,
          865,
          875,
          885,
          895,
          905,
          915,
          925,
          935,
          945,
          955,
          965,
          975,
          985,
          995,
          1005,
          1015,
          1025,
          1035,
          1045,
          1055,
          1065,
          1075,
          1085,
          1095,
          1105,
          1115,
          1125,
          1135,
          1145,
          1155,
          1165,
          1175,
          1185,
          1195,
          1205,
          1215,
          1225,
          1235,
          1245,
          1255,
          1265,
          1275,
          1285,
          1295,
          1305,
          1315,
          1325,
          1335,
          1345,
          1355,
          1365,
          1375,
          1385,
          1395,
          1405,
          1415,
          1425,
          1435,
          1445,
          1455,
          1465,
          1475,
          1485,
          1495,
          1505,
          1515,
          1525,
          1535,
          1545,
          1555,
          1565,
          1575,
          1585,
          1595,
          1605,
          1615,
          1625,
          1635,
          1645,
          1655,
          1665,
          1675,
          1685,
          1695,
          1705,
          1715,
          1725,
          1735,
          1745,
          1755,
          1765,
          1775,
          1785,
          1795,
          1805,
          1815,
          1825,
          1835,
          1845,
          1855,
          1865,
          1875,
          1885,
          1895,
          1905,
          1915,
          1925,
          1935,
          1945,
          1955,
          1965,
          1975,
          1985,
          1995,
          2005,
          2015,
          2025,
          2035,
          2045,
          2055,
          2065,
          2075,
          2085,
          2095,
          2105,
          2115,
          2125,
          2135,
          2145,
          2155,
          2165,
          2175,
          2185,
          2195,
          2205,
          2215,
          2225,
          2235,
          2245,
          2255,
          2265,
          2275,
          2285,
          2295,
          2305,
          2315,
          2325,
          2335,
          2345,
          2355,
          2365,
          2375,
          2385,
          2395,
          2405,
          2415,
          2425,
          2435,
          2445,
          2455,
          2465,
          2475,
          2485,
          2495,
          2505,
          2515,
          2525,
          2535,
          2545,
          2555,
          2565,
          2575,
          2585,
          2595,
          2605,
          2615,
          2625,
          2635,
          2645,
          2655,
          2665,
          2675,
          2685,
          2695,
          2705,
          2715,
          2725,
          2735,
          2745,
          2755,
          2765,
          2775,
          2785,
          2795,
          2805,
          2815,
          2825,
          2835,
          2845,
          2855,
          2865,
          2875,
          2885,
          2895,
          2905,
          2915,
          2925,
          2935,
          2945,
          2955,
          2965,
          2975,
          2985,
          2995,
          3005,
          3015,
          3025,
          3035,
          3045,
          3055,
          3065,
          3075,
          3085,
          3095,
          3105,
          3115,
          3125,
          3135,
          3145,
          3155,
          3165,
          3175,
          3185,
          3195,
          3205,
          3215,
          3225,
          3235,
          3245,
          3255,
          3265,
          3275,
          3285,
          3295,
          3305,
          3315,
          3325,
          3335,
          3345,
          3355,
          3365,
          3375,
          3385,
          3395,
          3405,
          3415,
          3425,
          3435,
          3445,
          3455,
          3465,
          3475,
          3485,
          3495,
          3505,
          3515,
          3525,
          3535,
          3545,
          3555,
          3565,
          3575,
          3585,
          3595,
          3605,
          3615,
          3625,
          3635,
          3645,
          3655,
          3665,
          3675,
          3685,
          3695,
          3705,
          3715,
          3725,
          3735,
          3745,
          3755,
          3765,
          3775,
          3785,
          3795,
          3805,
          3815,
          3825,
          3835,
          3845,
          3855,
          3865,
          3875,
          3885,
          3895,
          3905,
          3915,
          3925,
          3935,
          3945,
          3955,
          3965,
          3975,
          3985,
          3995,
          4005,
          4015,
          4025,
          4035,
          4045,
          4055,
          4065,
          4075,
          4085,
          4095,
          4105,
          4115,
          4125,
          4135,
          4145,
          4155,
          4165,
          4175,
          4185,
          4195,
          4205,
          4215,
          4225,
          4235,
          4245,
          4255,
          4265,
          4275,
          4285,
          4295,
          4305,
          4315,
          4325,
          4335,
          4345,
          4355,
          4365,
          4375,
          4385,
          4395,
          4405,
          4415,
          4425,
          4435,
          4445,
          4455,
          4465,
          4475,
          4485,
          4495,
          4505,
          4515,
          4525,
          4535,
          4545,
          4555,
          4565,
          4575,
          4585,
          4595,
          4605,
          4615,
          4625,
          4635,
          4645,
          4655,
          4665,
          4675,
          4685,
          4695,
          4705,
          4715,
          4725,
          4735,
          4745,
          4755,
          4765,
          4775,
          4785,
          4795,
          4805,
          4815,
          4825,
          4835,
          4845,
          4855,
          4865,
          4875,
          4885,
          4895,
          4905,
          4915,
          4925,
          4935,
          4945,
          4955,
          4965,
          4975,
          4985,
          4995,
          5005,
          5015,
          5025,
          5035,
          5045,
          5055,
          5065,
          5075,
          5085,
          5095,
          5105,
          5115,
          5125,
          5135,
          5145,
          5155,
          5165,
          5175,
          5185,
          5195,
          5205,
          5215,
          5225,
          5235,
          5245,
          5255,
          5265,
          5275,
          5285,
          5295,
          5305,
          5315,
          5325,
          5335,
          5345,
          5355,
          5365,
          5375,
          5385,
          5395,
          5405,
          5415,
          5425,
          5435,
          5445,
          5455,
          5465,
          5475,
          5485,
          5495,
          5505,
          5515,
          5525,
          5535,
          5545,
          5555,
          5565,
          5575,
          5585,
          5595,
          5605,
          5615,
          5625,
          5635,
          5645,
          5655,
          5665,
          5675,
          5685
         ],
         "type": "linear",
         "zeroline": false
        },
        "yaxis": {
         "mirror": "allticks",
         "rangemode": "tozero",
         "showgrid": false,
         "showline": true,
         "showticklabels": true,
         "ticks": "outside",
         "type": "linear",
         "zeroline": false
        }
       }
      }
     },
     "metadata": {},
     "output_type": "display_data"
    }
   ],
   "source": [
    "import plotly.figure_factory as ff\n",
    "import numpy as np\n",
    "\n",
    "X = df_s # 15 samples, with 12 dimensions each\n",
    "fig = ff.create_dendrogram(X)\n",
    "fig.update_layout(width=800, height=500)\n",
    "fig.show()"
   ]
  },
  {
   "cell_type": "code",
   "execution_count": 16,
   "metadata": {
    "collapsed": true
   },
   "outputs": [],
   "source": [
    "from sklearn.decomposition import PCA"
   ]
  },
  {
   "cell_type": "code",
   "execution_count": 17,
   "metadata": {
    "collapsed": true
   },
   "outputs": [],
   "source": [
    "pca = PCA(n_components=2)"
   ]
  },
  {
   "cell_type": "code",
   "execution_count": 18,
   "metadata": {
    "collapsed": false
   },
   "outputs": [
    {
     "data": {
      "text/plain": [
       "PCA(n_components=2)"
      ]
     },
     "execution_count": 18,
     "metadata": {},
     "output_type": "execute_result"
    }
   ],
   "source": [
    "pca.fit(scaled_data)"
   ]
  },
  {
   "cell_type": "markdown",
   "metadata": {},
   "source": [
    "Now we can transform this data to its first 2 principal components."
   ]
  },
  {
   "cell_type": "code",
   "execution_count": 19,
   "metadata": {
    "collapsed": true
   },
   "outputs": [],
   "source": [
    "x_pca = pca.transform(scaled_data)"
   ]
  },
  {
   "cell_type": "code",
   "execution_count": 20,
   "metadata": {
    "collapsed": false
   },
   "outputs": [
    {
     "data": {
      "text/plain": [
       "(569, 30)"
      ]
     },
     "execution_count": 20,
     "metadata": {},
     "output_type": "execute_result"
    }
   ],
   "source": [
    "scaled_data.shape"
   ]
  },
  {
   "cell_type": "code",
   "execution_count": 21,
   "metadata": {
    "collapsed": false
   },
   "outputs": [
    {
     "data": {
      "text/plain": [
       "(569, 2)"
      ]
     },
     "execution_count": 21,
     "metadata": {},
     "output_type": "execute_result"
    }
   ],
   "source": [
    "x_pca.shape"
   ]
  },
  {
   "cell_type": "markdown",
   "metadata": {},
   "source": [
    "Great! We've reduced 30 dimensions to just 2! Let's plot these two dimensions out!"
   ]
  },
  {
   "cell_type": "code",
   "execution_count": 22,
   "metadata": {
    "collapsed": false
   },
   "outputs": [
    {
     "data": {
      "text/plain": [
       "Text(0, 0.5, 'Second Principal Component')"
      ]
     },
     "execution_count": 22,
     "metadata": {},
     "output_type": "execute_result"
    },
    {
     "data": {
      "image/png": "[encoded data removed]",
      "text/plain": [
       "<Figure size 576x432 with 1 Axes>"
      ]
     },
     "metadata": {
      "needs_background": "light"
     },
     "output_type": "display_data"
    }
   ],
   "source": [
    "plt.figure(figsize=(8,6))\n",
    "plt.scatter(x_pca[:,0],x_pca[:,1],c=cancer['target'],cmap='plasma')\n",
    "plt.xlabel('First principal component')\n",
    "plt.ylabel('Second Principal Component')"
   ]
  },
  {
   "cell_type": "markdown",
   "metadata": {},
   "source": [
    "Clearly by using these two components we can easily separate these two classes.\n",
    "\n",
    "## Interpreting the components \n",
    "\n",
    "Unfortunately, with this great power of dimensionality reduction, comes the cost of being able to easily understand what these components represent.\n",
    "\n",
    "The components correspond to combinations of the original features, the components themselves are stored as an attribute of the fitted PCA object:"
   ]
  },
  {
   "cell_type": "code",
   "execution_count": 23,
   "metadata": {
    "collapsed": false
   },
   "outputs": [
    {
     "data": {
      "text/plain": [
       "array([[ 0.21890244,  0.10372458,  0.22753729,  0.22099499,  0.14258969,\n",
       "         0.23928535,  0.25840048,  0.26085376,  0.13816696,  0.06436335,\n",
       "         0.20597878,  0.01742803,  0.21132592,  0.20286964,  0.01453145,\n",
       "         0.17039345,  0.15358979,  0.1834174 ,  0.04249842,  0.10256832,\n",
       "         0.22799663,  0.10446933,  0.23663968,  0.22487053,  0.12795256,\n",
       "         0.21009588,  0.22876753,  0.25088597,  0.12290456,  0.13178394],\n",
       "       [-0.23385713, -0.05970609, -0.21518136, -0.23107671,  0.18611302,\n",
       "         0.15189161,  0.06016536, -0.0347675 ,  0.19034877,  0.36657547,\n",
       "        -0.10555215,  0.08997968, -0.08945723, -0.15229263,  0.20443045,\n",
       "         0.2327159 ,  0.19720728,  0.13032156,  0.183848  ,  0.28009203,\n",
       "        -0.21986638, -0.0454673 , -0.19987843, -0.21935186,  0.17230435,\n",
       "         0.14359317,  0.09796411, -0.00825724,  0.14188335,  0.27533947]])"
      ]
     },
     "execution_count": 23,
     "metadata": {},
     "output_type": "execute_result"
    }
   ],
   "source": [
    "pca.components_"
   ]
  },
  {
   "cell_type": "markdown",
   "metadata": {},
   "source": [
    "In this numpy matrix array, each row represents a principal component, and each column relates back to the original features. we can visualize this relationship with a heatmap:"
   ]
  },
  {
   "cell_type": "code",
   "execution_count": 24,
   "metadata": {
    "collapsed": true
   },
   "outputs": [],
   "source": [
    "df_comp = pd.DataFrame(pca.components_,columns=cancer['feature_names'])"
   ]
  },
  {
   "cell_type": "code",
   "execution_count": 25,
   "metadata": {
    "collapsed": false
   },
   "outputs": [
    {
     "data": {
      "text/plain": [
       "<AxesSubplot:>"
      ]
     },
     "execution_count": 25,
     "metadata": {},
     "output_type": "execute_result"
    },
    {
     "data": {
      "image/png": "[encoded data removed]",
      "text/plain": [
       "<Figure size 864x432 with 2 Axes>"
      ]
     },
     "metadata": {
      "needs_background": "light"
     },
     "output_type": "display_data"
    }
   ],
   "source": [
    "plt.figure(figsize=(12,6))\n",
    "sns.heatmap(df_comp,cmap='plasma',)"
   ]
  },
  {
   "cell_type": "markdown",
   "metadata": {},
   "source": [
    "This heatmap and the color bar basically represent the correlation between the various feature and the principal component itself.\n",
    "\n",
    "## Conclusion\n",
    "\n",
    "Hopefully this information is useful to you when dealing with high dimensional data!"
   ]
  },
  {
   "cell_type": "markdown",
   "metadata": {},
   "source": [
    "# Great Job!"
   ]
  }
 ],
 "metadata": {
  "kernelspec": {
   "display_name": "Python 3.9.12 ('base')",
   "language": "python",
   "name": "python3"
  },
  "language_info": {
   "codemirror_mode": {
    "name": "ipython",
    "version": 3
   },
   "file_extension": ".py",
   "mimetype": "text/x-python",
   "name": "python",
   "nbconvert_exporter": "python",
   "pygments_lexer": "ipython3",
   "version": "3.9.12"
  },
  "vscode": {
   "interpreter": {
    "hash": "2dfbec40287e0246d61e09a7a9abff3cb680bdf09d14710fcea6a18c64a8fcbc"
   }
  }
 },
 "nbformat": 4,
 "nbformat_minor": 0
}
